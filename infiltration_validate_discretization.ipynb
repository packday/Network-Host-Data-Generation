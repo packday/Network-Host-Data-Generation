{
  "cells": [
    {
      "cell_type": "code",
      "source": [
        "import numpy as np\r\n",
        "import pandas as pd\r\n",
        "from sklearn.preprocessing import MinMaxScaler\r\n",
        "from sklearn.model_selection import train_test_split\r\n",
        "from sklearn.pipeline import Pipeline\r\n",
        "import tensorflow as tf\r\n",
        "from tensorflow import keras"
      ],
      "outputs": [],
      "execution_count": 39,
      "metadata": {}
    },
    {
      "cell_type": "markdown",
      "source": [
        "# Intrusion Detection Evaluation Dataset (CIC-IDS2017)\r\n",
        "### Infiltration Attack Data\r\n",
        "\r\n",
        "Intrusion Detection Systems (IDSs) and Intrusion Prevention Systems (IPSs) are the most important defense tools against the sophisticated and ever-growing network attacks. Due to the lack of reliable test and validation datasets, anomaly-based intrusion detection approaches are suffering from consistent and accurate performance evolutions.\r\n",
        "\r\n",
        "[https://www.unb.ca/cic/datasets/ids-2017.html]\r\n"
      ],
      "metadata": {
        "nteract": {
          "transient": {
            "deleting": false
          }
        }
      }
    },
    {
      "cell_type": "code",
      "source": [
        "# Load Data\r\n",
        "df = pd.read_csv(\"data/CICIDS-2017/Thursday-WorkingHours-Afternoon-Infilteration.pcap_ISCX.csv\")\r\n",
        "X = df"
      ],
      "outputs": [],
      "execution_count": 40,
      "metadata": {
        "jupyter": {
          "source_hidden": false,
          "outputs_hidden": false
        },
        "nteract": {
          "transient": {
            "deleting": false
          }
        }
      }
    },
    {
      "cell_type": "code",
      "source": [
        "X.info()"
      ],
      "outputs": [
        {
          "output_type": "stream",
          "name": "stdout",
          "text": "<class 'pandas.core.frame.DataFrame'>\nRangeIndex: 288602 entries, 0 to 288601\nData columns (total 79 columns):\n #   Column                        Non-Null Count   Dtype  \n---  ------                        --------------   -----  \n 0    Destination Port             288602 non-null  int64  \n 1    Flow Duration                288602 non-null  int64  \n 2    Total Fwd Packets            288602 non-null  int64  \n 3    Total Backward Packets       288602 non-null  int64  \n 4   Total Length of Fwd Packets   288602 non-null  int64  \n 5    Total Length of Bwd Packets  288602 non-null  int64  \n 6    Fwd Packet Length Max        288602 non-null  int64  \n 7    Fwd Packet Length Min        288602 non-null  int64  \n 8    Fwd Packet Length Mean       288602 non-null  float64\n 9    Fwd Packet Length Std        288602 non-null  float64\n 10  Bwd Packet Length Max         288602 non-null  int64  \n 11   Bwd Packet Length Min        288602 non-null  int64  \n 12   Bwd Packet Length Mean       288602 non-null  float64\n 13   Bwd Packet Length Std        288602 non-null  float64\n 14  Flow Bytes/s                  288584 non-null  float64\n 15   Flow Packets/s               288602 non-null  float64\n 16   Flow IAT Mean                288602 non-null  float64\n 17   Flow IAT Std                 288602 non-null  float64\n 18   Flow IAT Max                 288602 non-null  int64  \n 19   Flow IAT Min                 288602 non-null  int64  \n 20  Fwd IAT Total                 288602 non-null  int64  \n 21   Fwd IAT Mean                 288602 non-null  float64\n 22   Fwd IAT Std                  288602 non-null  float64\n 23   Fwd IAT Max                  288602 non-null  int64  \n 24   Fwd IAT Min                  288602 non-null  int64  \n 25  Bwd IAT Total                 288602 non-null  int64  \n 26   Bwd IAT Mean                 288602 non-null  float64\n 27   Bwd IAT Std                  288602 non-null  float64\n 28   Bwd IAT Max                  288602 non-null  int64  \n 29   Bwd IAT Min                  288602 non-null  int64  \n 30  Fwd PSH Flags                 288602 non-null  int64  \n 31   Bwd PSH Flags                288602 non-null  int64  \n 32   Fwd URG Flags                288602 non-null  int64  \n 33   Bwd URG Flags                288602 non-null  int64  \n 34   Fwd Header Length            288602 non-null  int64  \n 35   Bwd Header Length            288602 non-null  int64  \n 36  Fwd Packets/s                 288602 non-null  float64\n 37   Bwd Packets/s                288602 non-null  float64\n 38   Min Packet Length            288602 non-null  int64  \n 39   Max Packet Length            288602 non-null  int64  \n 40   Packet Length Mean           288602 non-null  float64\n 41   Packet Length Std            288602 non-null  float64\n 42   Packet Length Variance       288602 non-null  float64\n 43  FIN Flag Count                288602 non-null  int64  \n 44   SYN Flag Count               288602 non-null  int64  \n 45   RST Flag Count               288602 non-null  int64  \n 46   PSH Flag Count               288602 non-null  int64  \n 47   ACK Flag Count               288602 non-null  int64  \n 48   URG Flag Count               288602 non-null  int64  \n 49   CWE Flag Count               288602 non-null  int64  \n 50   ECE Flag Count               288602 non-null  int64  \n 51   Down/Up Ratio                288602 non-null  int64  \n 52   Average Packet Size          288602 non-null  float64\n 53   Avg Fwd Segment Size         288602 non-null  float64\n 54   Avg Bwd Segment Size         288602 non-null  float64\n 55   Fwd Header Length.1          288602 non-null  int64  \n 56  Fwd Avg Bytes/Bulk            288602 non-null  int64  \n 57   Fwd Avg Packets/Bulk         288602 non-null  int64  \n 58   Fwd Avg Bulk Rate            288602 non-null  int64  \n 59   Bwd Avg Bytes/Bulk           288602 non-null  int64  \n 60   Bwd Avg Packets/Bulk         288602 non-null  int64  \n 61  Bwd Avg Bulk Rate             288602 non-null  int64  \n 62  Subflow Fwd Packets           288602 non-null  int64  \n 63   Subflow Fwd Bytes            288602 non-null  int64  \n 64   Subflow Bwd Packets          288602 non-null  int64  \n 65   Subflow Bwd Bytes            288602 non-null  int64  \n 66  Init_Win_bytes_forward        288602 non-null  int64  \n 67   Init_Win_bytes_backward      288602 non-null  int64  \n 68   act_data_pkt_fwd             288602 non-null  int64  \n 69   min_seg_size_forward         288602 non-null  int64  \n 70  Active Mean                   288602 non-null  float64\n 71   Active Std                   288602 non-null  float64\n 72   Active Max                   288602 non-null  int64  \n 73   Active Min                   288602 non-null  int64  \n 74  Idle Mean                     288602 non-null  float64\n 75   Idle Std                     288602 non-null  float64\n 76   Idle Max                     288602 non-null  int64  \n 77   Idle Min                     288602 non-null  int64  \n 78   Label                        288602 non-null  object \ndtypes: float64(24), int64(54), object(1)\nmemory usage: 173.9+ MB\n"
        }
      ],
      "execution_count": 41,
      "metadata": {
        "jupyter": {
          "source_hidden": false,
          "outputs_hidden": false
        },
        "nteract": {
          "transient": {
            "deleting": false
          }
        }
      }
    },
    {
      "cell_type": "code",
      "source": [
        "X[' Label'].unique()"
      ],
      "outputs": [
        {
          "output_type": "execute_result",
          "execution_count": 42,
          "data": {
            "text/plain": "array(['BENIGN', 'Infiltration'], dtype=object)"
          },
          "metadata": {}
        }
      ],
      "execution_count": 42,
      "metadata": {
        "jupyter": {
          "source_hidden": false,
          "outputs_hidden": false
        },
        "nteract": {
          "transient": {
            "deleting": false
          }
        }
      }
    },
    {
      "cell_type": "code",
      "source": [
        "X.replace('BENIGN', 0, inplace=True)\r\n",
        "X.replace('Infiltration', 1, inplace=True)"
      ],
      "outputs": [],
      "execution_count": 43,
      "metadata": {
        "jupyter": {
          "source_hidden": false,
          "outputs_hidden": false
        },
        "nteract": {
          "transient": {
            "deleting": false
          }
        }
      }
    },
    {
      "cell_type": "code",
      "source": [
        "X[' Label'].unique()"
      ],
      "outputs": [
        {
          "output_type": "execute_result",
          "execution_count": 44,
          "data": {
            "text/plain": "array([0, 1])"
          },
          "metadata": {}
        }
      ],
      "execution_count": 44,
      "metadata": {
        "jupyter": {
          "source_hidden": false,
          "outputs_hidden": false
        },
        "nteract": {
          "transient": {
            "deleting": false
          }
        }
      }
    },
    {
      "cell_type": "code",
      "source": [
        "# Clean Data\r\n",
        "if(np.any(np.isnan(X)) or np.all(np.isfinite(X))):\r\n",
        "    df.dropna(inplace=True)\r\n",
        "    indices_to_keep = ~df.isin([np.nan, np.inf, -np.inf]).any(1)\r\n",
        "    X = X[indices_to_keep]\r\n",
        "\r\n",
        "X.head()"
      ],
      "outputs": [
        {
          "output_type": "execute_result",
          "execution_count": 45,
          "data": {
            "text/plain": "    Destination Port   Flow Duration   Total Fwd Packets  \\\n0                 22             166                   1   \n1              60148              83                   1   \n2                123           99947                   1   \n3                123           37017                   1   \n4                  0       111161336                 147   \n\n    Total Backward Packets  Total Length of Fwd Packets  \\\n0                        1                            0   \n1                        2                            0   \n2                        1                           48   \n3                        1                           48   \n4                        0                            0   \n\n    Total Length of Bwd Packets   Fwd Packet Length Max  \\\n0                             0                       0   \n1                             0                       0   \n2                            48                      48   \n3                            48                      48   \n4                             0                       0   \n\n    Fwd Packet Length Min   Fwd Packet Length Mean   Fwd Packet Length Std  \\\n0                       0                      0.0                     0.0   \n1                       0                      0.0                     0.0   \n2                      48                     48.0                     0.0   \n3                      48                     48.0                     0.0   \n4                       0                      0.0                     0.0   \n\n   ...   min_seg_size_forward  Active Mean   Active Std   Active Max  \\\n0  ...                     32        0.000        0.000            0   \n1  ...                     32        0.000        0.000            0   \n2  ...                     40        0.000        0.000            0   \n3  ...                     32        0.000        0.000            0   \n4  ...                      0  1753752.625  2123197.578      4822992   \n\n    Active Min  Idle Mean     Idle Std   Idle Max   Idle Min   Label  \n0            0        0.0        0.000          0          0       0  \n1            0        0.0        0.000          0          0       0  \n2            0        0.0        0.000          0          0       0  \n3            0        0.0        0.000          0          0       0  \n4           95  9463032.7  2657727.996   13600000    5700287       0  \n\n[5 rows x 79 columns]",
            "text/html": "<div>\n<style scoped>\n    .dataframe tbody tr th:only-of-type {\n        vertical-align: middle;\n    }\n\n    .dataframe tbody tr th {\n        vertical-align: top;\n    }\n\n    .dataframe thead th {\n        text-align: right;\n    }\n</style>\n<table border=\"1\" class=\"dataframe\">\n  <thead>\n    <tr style=\"text-align: right;\">\n      <th></th>\n      <th>Destination Port</th>\n      <th>Flow Duration</th>\n      <th>Total Fwd Packets</th>\n      <th>Total Backward Packets</th>\n      <th>Total Length of Fwd Packets</th>\n      <th>Total Length of Bwd Packets</th>\n      <th>Fwd Packet Length Max</th>\n      <th>Fwd Packet Length Min</th>\n      <th>Fwd Packet Length Mean</th>\n      <th>Fwd Packet Length Std</th>\n      <th>...</th>\n      <th>min_seg_size_forward</th>\n      <th>Active Mean</th>\n      <th>Active Std</th>\n      <th>Active Max</th>\n      <th>Active Min</th>\n      <th>Idle Mean</th>\n      <th>Idle Std</th>\n      <th>Idle Max</th>\n      <th>Idle Min</th>\n      <th>Label</th>\n    </tr>\n  </thead>\n  <tbody>\n    <tr>\n      <th>0</th>\n      <td>22</td>\n      <td>166</td>\n      <td>1</td>\n      <td>1</td>\n      <td>0</td>\n      <td>0</td>\n      <td>0</td>\n      <td>0</td>\n      <td>0.0</td>\n      <td>0.0</td>\n      <td>...</td>\n      <td>32</td>\n      <td>0.000</td>\n      <td>0.000</td>\n      <td>0</td>\n      <td>0</td>\n      <td>0.0</td>\n      <td>0.000</td>\n      <td>0</td>\n      <td>0</td>\n      <td>0</td>\n    </tr>\n    <tr>\n      <th>1</th>\n      <td>60148</td>\n      <td>83</td>\n      <td>1</td>\n      <td>2</td>\n      <td>0</td>\n      <td>0</td>\n      <td>0</td>\n      <td>0</td>\n      <td>0.0</td>\n      <td>0.0</td>\n      <td>...</td>\n      <td>32</td>\n      <td>0.000</td>\n      <td>0.000</td>\n      <td>0</td>\n      <td>0</td>\n      <td>0.0</td>\n      <td>0.000</td>\n      <td>0</td>\n      <td>0</td>\n      <td>0</td>\n    </tr>\n    <tr>\n      <th>2</th>\n      <td>123</td>\n      <td>99947</td>\n      <td>1</td>\n      <td>1</td>\n      <td>48</td>\n      <td>48</td>\n      <td>48</td>\n      <td>48</td>\n      <td>48.0</td>\n      <td>0.0</td>\n      <td>...</td>\n      <td>40</td>\n      <td>0.000</td>\n      <td>0.000</td>\n      <td>0</td>\n      <td>0</td>\n      <td>0.0</td>\n      <td>0.000</td>\n      <td>0</td>\n      <td>0</td>\n      <td>0</td>\n    </tr>\n    <tr>\n      <th>3</th>\n      <td>123</td>\n      <td>37017</td>\n      <td>1</td>\n      <td>1</td>\n      <td>48</td>\n      <td>48</td>\n      <td>48</td>\n      <td>48</td>\n      <td>48.0</td>\n      <td>0.0</td>\n      <td>...</td>\n      <td>32</td>\n      <td>0.000</td>\n      <td>0.000</td>\n      <td>0</td>\n      <td>0</td>\n      <td>0.0</td>\n      <td>0.000</td>\n      <td>0</td>\n      <td>0</td>\n      <td>0</td>\n    </tr>\n    <tr>\n      <th>4</th>\n      <td>0</td>\n      <td>111161336</td>\n      <td>147</td>\n      <td>0</td>\n      <td>0</td>\n      <td>0</td>\n      <td>0</td>\n      <td>0</td>\n      <td>0.0</td>\n      <td>0.0</td>\n      <td>...</td>\n      <td>0</td>\n      <td>1753752.625</td>\n      <td>2123197.578</td>\n      <td>4822992</td>\n      <td>95</td>\n      <td>9463032.7</td>\n      <td>2657727.996</td>\n      <td>13600000</td>\n      <td>5700287</td>\n      <td>0</td>\n    </tr>\n  </tbody>\n</table>\n<p>5 rows × 79 columns</p>\n</div>"
          },
          "metadata": {}
        }
      ],
      "execution_count": 45,
      "metadata": {
        "jupyter": {
          "source_hidden": false,
          "outputs_hidden": false
        },
        "nteract": {
          "transient": {
            "deleting": false
          }
        }
      }
    },
    {
      "cell_type": "code",
      "source": [
        "# Scale Data\r\n",
        "scaled_features = MinMaxScaler().fit_transform(X.values)\r\n",
        "X = pd.DataFrame(scaled_features, index=X.index, columns=X.columns)\r\n",
        "X.head()"
      ],
      "outputs": [
        {
          "output_type": "execute_result",
          "execution_count": 46,
          "data": {
            "text/plain": "    Destination Port   Flow Duration   Total Fwd Packets  \\\n0           0.000336    1.400001e-06             0.00000   \n1           0.917828    7.083337e-07             0.00000   \n2           0.001877    8.329088e-04             0.00000   \n3           0.001877    3.084918e-04             0.00000   \n4           0.000000    9.263450e-01             0.00644   \n\n    Total Backward Packets  Total Length of Fwd Packets  \\\n0                 0.000022                     0.000000   \n1                 0.000045                     0.000000   \n2                 0.000022                     0.000004   \n3                 0.000022                     0.000004   \n4                 0.000000                     0.000000   \n\n    Total Length of Bwd Packets   Fwd Packet Length Max  \\\n0                  0.000000e+00                0.000000   \n1                  0.000000e+00                0.000000   \n2                  7.547170e-07                0.002055   \n3                  7.547170e-07                0.002055   \n4                  0.000000e+00                0.000000   \n\n    Fwd Packet Length Min   Fwd Packet Length Mean   Fwd Packet Length Std  \\\n0                0.000000                 0.000000                     0.0   \n1                0.000000                 0.000000                     0.0   \n2                0.023245                 0.011119                     0.0   \n3                0.023245                 0.011119                     0.0   \n4                0.000000                 0.000000                     0.0   \n\n   ...   min_seg_size_forward  Active Mean   Active Std   Active Max  \\\n0  ...               0.533333     0.000000     0.000000     0.000000   \n1  ...               0.533333     0.000000     0.000000     0.000000   \n2  ...               0.666667     0.000000     0.000000     0.000000   \n3  ...               0.533333     0.000000     0.000000     0.000000   \n4  ...               0.000000     0.026898     0.055727     0.060973   \n\n    Active Min  Idle Mean   Idle Std   Idle Max   Idle Min   Label  \n0     0.000000   0.000000   0.000000   0.000000   0.000000     0.0  \n1     0.000000   0.000000   0.000000   0.000000   0.000000     0.0  \n2     0.000000   0.000000   0.000000   0.000000   0.000000     0.0  \n3     0.000000   0.000000   0.000000   0.000000   0.000000     0.0  \n4     0.000001   0.078859   0.035295   0.113333   0.047502     0.0  \n\n[5 rows x 79 columns]",
            "text/html": "<div>\n<style scoped>\n    .dataframe tbody tr th:only-of-type {\n        vertical-align: middle;\n    }\n\n    .dataframe tbody tr th {\n        vertical-align: top;\n    }\n\n    .dataframe thead th {\n        text-align: right;\n    }\n</style>\n<table border=\"1\" class=\"dataframe\">\n  <thead>\n    <tr style=\"text-align: right;\">\n      <th></th>\n      <th>Destination Port</th>\n      <th>Flow Duration</th>\n      <th>Total Fwd Packets</th>\n      <th>Total Backward Packets</th>\n      <th>Total Length of Fwd Packets</th>\n      <th>Total Length of Bwd Packets</th>\n      <th>Fwd Packet Length Max</th>\n      <th>Fwd Packet Length Min</th>\n      <th>Fwd Packet Length Mean</th>\n      <th>Fwd Packet Length Std</th>\n      <th>...</th>\n      <th>min_seg_size_forward</th>\n      <th>Active Mean</th>\n      <th>Active Std</th>\n      <th>Active Max</th>\n      <th>Active Min</th>\n      <th>Idle Mean</th>\n      <th>Idle Std</th>\n      <th>Idle Max</th>\n      <th>Idle Min</th>\n      <th>Label</th>\n    </tr>\n  </thead>\n  <tbody>\n    <tr>\n      <th>0</th>\n      <td>0.000336</td>\n      <td>1.400001e-06</td>\n      <td>0.00000</td>\n      <td>0.000022</td>\n      <td>0.000000</td>\n      <td>0.000000e+00</td>\n      <td>0.000000</td>\n      <td>0.000000</td>\n      <td>0.000000</td>\n      <td>0.0</td>\n      <td>...</td>\n      <td>0.533333</td>\n      <td>0.000000</td>\n      <td>0.000000</td>\n      <td>0.000000</td>\n      <td>0.000000</td>\n      <td>0.000000</td>\n      <td>0.000000</td>\n      <td>0.000000</td>\n      <td>0.000000</td>\n      <td>0.0</td>\n    </tr>\n    <tr>\n      <th>1</th>\n      <td>0.917828</td>\n      <td>7.083337e-07</td>\n      <td>0.00000</td>\n      <td>0.000045</td>\n      <td>0.000000</td>\n      <td>0.000000e+00</td>\n      <td>0.000000</td>\n      <td>0.000000</td>\n      <td>0.000000</td>\n      <td>0.0</td>\n      <td>...</td>\n      <td>0.533333</td>\n      <td>0.000000</td>\n      <td>0.000000</td>\n      <td>0.000000</td>\n      <td>0.000000</td>\n      <td>0.000000</td>\n      <td>0.000000</td>\n      <td>0.000000</td>\n      <td>0.000000</td>\n      <td>0.0</td>\n    </tr>\n    <tr>\n      <th>2</th>\n      <td>0.001877</td>\n      <td>8.329088e-04</td>\n      <td>0.00000</td>\n      <td>0.000022</td>\n      <td>0.000004</td>\n      <td>7.547170e-07</td>\n      <td>0.002055</td>\n      <td>0.023245</td>\n      <td>0.011119</td>\n      <td>0.0</td>\n      <td>...</td>\n      <td>0.666667</td>\n      <td>0.000000</td>\n      <td>0.000000</td>\n      <td>0.000000</td>\n      <td>0.000000</td>\n      <td>0.000000</td>\n      <td>0.000000</td>\n      <td>0.000000</td>\n      <td>0.000000</td>\n      <td>0.0</td>\n    </tr>\n    <tr>\n      <th>3</th>\n      <td>0.001877</td>\n      <td>3.084918e-04</td>\n      <td>0.00000</td>\n      <td>0.000022</td>\n      <td>0.000004</td>\n      <td>7.547170e-07</td>\n      <td>0.002055</td>\n      <td>0.023245</td>\n      <td>0.011119</td>\n      <td>0.0</td>\n      <td>...</td>\n      <td>0.533333</td>\n      <td>0.000000</td>\n      <td>0.000000</td>\n      <td>0.000000</td>\n      <td>0.000000</td>\n      <td>0.000000</td>\n      <td>0.000000</td>\n      <td>0.000000</td>\n      <td>0.000000</td>\n      <td>0.0</td>\n    </tr>\n    <tr>\n      <th>4</th>\n      <td>0.000000</td>\n      <td>9.263450e-01</td>\n      <td>0.00644</td>\n      <td>0.000000</td>\n      <td>0.000000</td>\n      <td>0.000000e+00</td>\n      <td>0.000000</td>\n      <td>0.000000</td>\n      <td>0.000000</td>\n      <td>0.0</td>\n      <td>...</td>\n      <td>0.000000</td>\n      <td>0.026898</td>\n      <td>0.055727</td>\n      <td>0.060973</td>\n      <td>0.000001</td>\n      <td>0.078859</td>\n      <td>0.035295</td>\n      <td>0.113333</td>\n      <td>0.047502</td>\n      <td>0.0</td>\n    </tr>\n  </tbody>\n</table>\n<p>5 rows × 79 columns</p>\n</div>"
          },
          "metadata": {}
        }
      ],
      "execution_count": 46,
      "metadata": {
        "jupyter": {
          "source_hidden": false,
          "outputs_hidden": false
        },
        "nteract": {
          "transient": {
            "deleting": false
          }
        }
      }
    },
    {
      "cell_type": "code",
      "source": [
        "y_label = X.pop(' Label')\r\n",
        "y_label.head()"
      ],
      "outputs": [
        {
          "output_type": "execute_result",
          "execution_count": 47,
          "data": {
            "text/plain": "0    0.0\n1    0.0\n2    0.0\n3    0.0\n4    0.0\nName:  Label, dtype: float64"
          },
          "metadata": {}
        }
      ],
      "execution_count": 47,
      "metadata": {
        "jupyter": {
          "source_hidden": false,
          "outputs_hidden": false
        },
        "nteract": {
          "transient": {
            "deleting": false
          }
        }
      }
    },
    {
      "cell_type": "code",
      "source": [
        "import xgboost as xgb\r\n",
        "from xgboost import XGBRegressor\r\n",
        "from xgboost import plot_importance\r\n",
        "import matplotlib.pyplot as plt\r\n",
        "\r\n",
        "mod = xgb.XGBRegressor(objective ='reg:squarederror',max_depth = 5, n_estimators = 600)\r\n",
        "mod.fit(X, y_label)\r\n",
        "plot_importance(mod, max_num_features=30)\r\n",
        "plt.show()"
      ],
      "outputs": [
        {
          "output_type": "display_data",
          "data": {
            "text/plain": "<Figure size 432x288 with 1 Axes>",
            "image/png": "[encoded data removed]"
          },
          "metadata": {
            "needs_background": "light"
          }
        }
      ],
      "execution_count": 48,
      "metadata": {
        "jupyter": {
          "source_hidden": false,
          "outputs_hidden": false
        },
        "nteract": {
          "transient": {
            "deleting": false
          }
        }
      }
    },
    {
      "cell_type": "code",
      "source": [
        "# Important Features\r\n",
        "from sklearn.ensemble import RandomForestRegressor\r\n",
        "\r\n",
        "# Create a random forest regressor\r\n",
        "reg = RandomForestRegressor(n_estimators=1000, random_state=0, n_jobs=-1)\r\n",
        "\r\n",
        "# Train the regressor\r\n",
        "reg.fit(X, y_label)\r\n",
        "\r\n",
        "x = {}\r\n",
        "# Print the name and gini importance of each feature\r\n",
        "for feature in zip(list(X.columns), reg.feature_importances_):\r\n",
        "    print(feature)\r\n",
        "    x[feature[0]] = feature[1]"
      ],
      "outputs": [
        {
          "output_type": "stream",
          "name": "stdout",
          "text": "(' Destination Port', 0.24788528104551824)\n(' Flow Duration', 0.00922141946560046)\n(' Total Fwd Packets', 0.009383021275890902)\n(' Total Backward Packets', 0.008240202923123316)\n('Total Length of Fwd Packets', 0.11400117174856506)\n(' Total Length of Bwd Packets', 0.009704557115296497)\n(' Fwd Packet Length Max', 0.009905906808156038)\n(' Fwd Packet Length Min', 0.0035738080210766378)\n(' Fwd Packet Length Mean', 0.009517610955672438)\n(' Fwd Packet Length Std', 0.01121226085838972)\n('Bwd Packet Length Max', 0.02069886541296333)\n(' Bwd Packet Length Min', 0.005200201189205755)\n(' Bwd Packet Length Mean', 0.043112724435755805)\n(' Bwd Packet Length Std', 0.0032975004365784813)\n('Flow Bytes/s', 0.007908253968846854)\n(' Flow Packets/s', 0.012765226394500718)\n(' Flow IAT Mean', 0.011582998642121188)\n(' Flow IAT Std', 0.0028020275344846695)\n(' Flow IAT Max', 0.003556975728112012)\n(' Flow IAT Min', 0.004016415201127054)\n('Fwd IAT Total', 0.011079165151950378)\n(' Fwd IAT Mean', 0.014565825631572854)\n(' Fwd IAT Std', 0.006052073505325179)\n(' Fwd IAT Max', 0.009400219991211812)\n(' Fwd IAT Min', 0.013740198850339135)\n('Bwd IAT Total', 0.003333684937814608)\n(' Bwd IAT Mean', 0.002834836102265115)\n(' Bwd IAT Std', 0.005041285393374981)\n(' Bwd IAT Max', 0.00321711931893901)\n(' Bwd IAT Min', 0.005874972790889856)\n('Fwd PSH Flags', 0.0032971332379724628)\n(' Bwd PSH Flags', 0.0)\n(' Fwd URG Flags', 0.0)\n(' Bwd URG Flags', 0.0)\n(' Fwd Header Length', 0.004898980051583464)\n(' Bwd Header Length', 0.0057847899918028675)\n('Fwd Packets/s', 0.014327174635191101)\n(' Bwd Packets/s', 0.0016610836501726848)\n(' Min Packet Length', 0.00504930651271114)\n(' Max Packet Length', 0.01029365271434226)\n(' Packet Length Mean', 0.007333167268124286)\n(' Packet Length Std', 0.008031832416243747)\n(' Packet Length Variance', 0.009423048479523239)\n('FIN Flag Count', 0.0)\n(' SYN Flag Count', 0.004590656586569365)\n(' RST Flag Count', 0.0)\n(' PSH Flag Count', 0.0008155982897192555)\n(' ACK Flag Count', 0.007230602655762855)\n(' URG Flag Count', 0.0008268492153906909)\n(' CWE Flag Count', 0.0)\n(' ECE Flag Count', 0.0)\n(' Down/Up Ratio', 0.0015193700543124594)\n(' Average Packet Size', 0.007260557804915468)\n(' Avg Fwd Segment Size', 0.009425849551570165)\n(' Avg Bwd Segment Size', 0.04304948932214184)\n(' Fwd Header Length.1', 0.00542050438514467)\n('Fwd Avg Bytes/Bulk', 0.0)\n(' Fwd Avg Packets/Bulk', 0.0)\n(' Fwd Avg Bulk Rate', 0.0)\n(' Bwd Avg Bytes/Bulk', 0.0)\n(' Bwd Avg Packets/Bulk', 0.0)\n('Bwd Avg Bulk Rate', 0.0)\n('Subflow Fwd Packets', 0.007167954380498367)\n(' Subflow Fwd Bytes', 0.10898961672874265)\n(' Subflow Bwd Packets', 0.009181711717400233)\n(' Subflow Bwd Bytes', 0.009337350644987039)\n('Init_Win_bytes_forward', 0.008702175579784229)\n(' Init_Win_bytes_backward', 0.015884083599759964)\n(' act_data_pkt_fwd', 0.00796901080578091)\n(' min_seg_size_forward', 0.0015240446008378448)\n('Active Mean', 0.008885718826389891)\n(' Active Std', 0.001053320580776545)\n(' Active Max', 0.009464227771085425)\n(' Active Min', 0.019228741496346166)\n('Idle Mean', 0.0034053080096543196)\n(' Idle Std', 0.010947131505508812)\n(' Idle Max', 0.0023873024392322426)\n(' Idle Min', 0.0029068436553533177)\n"
        }
      ],
      "execution_count": 49,
      "metadata": {
        "jupyter": {
          "source_hidden": false,
          "outputs_hidden": false
        },
        "nteract": {
          "transient": {
            "deleting": false
          }
        }
      }
    },
    {
      "cell_type": "code",
      "source": [
        "# Create training & testing datasets\r\n",
        "from sklearn.metrics import PrecisionRecallDisplay\r\n",
        "from sklearn.metrics import confusion_matrix\r\n",
        "from sklearn.model_selection import KFold\r\n",
        "kf = KFold(n_splits=5)\r\n",
        "\r\n",
        "# Confusion Matrix\r\n",
        "# Precision & Recall\r\n",
        "# plot num of bins vs. accuracy, against no bin approach\r\n",
        "# Use other datasets"
      ],
      "outputs": [],
      "execution_count": 50,
      "metadata": {
        "jupyter": {
          "source_hidden": false,
          "outputs_hidden": false
        },
        "nteract": {
          "transient": {
            "deleting": false
          }
        }
      }
    },
    {
      "cell_type": "markdown",
      "source": [
        "# Using Machine Learning to predict Infiltration attacks\r\n",
        "created two different classification models, a Support Vector Machine (SVM) and Multilayer Perceptron (MLP) neural network. \r\n",
        "These models will be used as baselines for validating the discretization of the features.\r\n",
        "\r\n",
        "**SVM accuracy score: 99.8%**\r\n",
        "\r\n",
        "**MLP accuracy score: 99.9%**"
      ],
      "metadata": {
        "nteract": {
          "transient": {
            "deleting": false
          }
        }
      }
    },
    {
      "cell_type": "code",
      "source": [
        "# Support Vector Machine\r\n",
        "from sklearn.svm import LinearSVC\r\n",
        "linear_SVC = LinearSVC(random_state=0, tol=1e-5)\r\n",
        "for train, test in kf.split(X):\r\n",
        "    X_train, X_test, y_train, y_test = np.array(X), np.array(X), np.array(y_label), np.array(y_label) \r\n",
        "    linear_SVC.fit(X_train[train], y_train[train])\r\n",
        "    accuracy = linear_SVC.score(X_test[test], y_test[test])\r\n",
        "    print(f'train: {train},\\n test: {test},\\n Accuracy Score: {accuracy},\\n Confusion Matrix:\\n{confusion_matrix(y_test[test], linear_SVC.predict(X_test[test]))}\\n')\r\n",
        "  #  display = PrecisionRecallDisplay.from_estimator(linear_SVC, X_test[test], y_test[test], name=\"LinearSVC\")   \r\n",
        "  #  _ = display.ax_.set_title(\"2-class Precision-Recall curve\")"
      ],
      "outputs": [
        {
          "output_type": "stream",
          "name": "stdout",
          "text": "train: [ 57679  57680  57681 ... 288392 288393 288394],\n test: [    0     1     2 ... 57676 57677 57678],\n Accuracy Score: 1.0,\n Confusion Matrix:\n[[57679]]\n\ntrain: [     0      1      2 ... 288392 288393 288394],\n test: [ 57679  57680  57681 ... 115355 115356 115357],\n Accuracy Score: 0.9996879280153955,\n Confusion Matrix:\n[[57660     0]\n [   18     1]]\n\ntrain: [     0      1      2 ... 288392 288393 288394],\n test: [115358 115359 115360 ... 173034 173035 173036],\n Accuracy Score: 0.9998439640076978,\n Confusion Matrix:\n[[57670     0]\n [    9     0]]\n\ntrain: [     0      1      2 ... 288392 288393 288394],\n test: [173037 173038 173039 ... 230713 230714 230715],\n Accuracy Score: 0.9998613013401758,\n Confusion Matrix:\n[[57671     0]\n [    8     0]]\n\ntrain: [     0      1      2 ... 230713 230714 230715],\n test: [230716 230717 230718 ... 288392 288393 288394],\n Accuracy Score: 1.0,\n Confusion Matrix:\n[[57679]]\n\n"
        }
      ],
      "execution_count": 51,
      "metadata": {
        "jupyter": {
          "source_hidden": false,
          "outputs_hidden": false
        },
        "nteract": {
          "transient": {
            "deleting": false
          }
        }
      }
    },
    {
      "cell_type": "code",
      "source": [],
      "outputs": [],
      "execution_count": null,
      "metadata": {
        "jupyter": {
          "source_hidden": false,
          "outputs_hidden": false
        },
        "nteract": {
          "transient": {
            "deleting": false
          }
        }
      }
    },
    {
      "cell_type": "code",
      "source": [
        "# MLP Neural Net\r\n",
        "from sklearn.neural_network import MLPClassifier\r\n",
        "mlp_clf = MLPClassifier(random_state=1, max_iter=300)\r\n",
        "for train, test in kf.split(X):\r\n",
        "    X_train, X_test, y_train, y_test = np.array(X), np.array(X), np.array(y_label), np.array(y_label) \r\n",
        "    mlp_clf.fit(X_train[train], y_train[train])\r\n",
        "    accuracy = mlp_clf.score(X_test[test], y_test[test])\r\n",
        "    loss = mlp_clf.loss_\r\n",
        "    print(f'train: {train},\\n test: {test},\\n Loss: {loss},\\n Accuracy Score: {accuracy},\\n Confusion Matrix:\\n{confusion_matrix(y_test[test], linear_SVC.predict(X_test[test]))}\\n')"
      ],
      "outputs": [
        {
          "output_type": "stream",
          "name": "stdout",
          "text": "train: [ 57679  57680  57681 ... 288392 288393 288394],\n test: [    0     1     2 ... 57676 57677 57678],\n Loss: 0.0004326106969048274,\n Accuracy Score: 1.0,\n Confusion Matrix:\n[[57679]]\n\ntrain: [     0      1      2 ... 288392 288393 288394],\n test: [ 57679  57680  57681 ... 115355 115356 115357],\n Loss: 0.00015554462981177657,\n Accuracy Score: 0.9996705906829175,\n Confusion Matrix:\n[[57659     1]\n [   11     8]]\n\ntrain: [     0      1      2 ... 288392 288393 288394],\n test: [115358 115359 115360 ... 173034 173035 173036],\n Loss: 0.0004094346749671699,\n Accuracy Score: 0.9999653253350439,\n Confusion Matrix:\n[[57670     0]\n [    9     0]]\n\ntrain: [     0      1      2 ... 288392 288393 288394],\n test: [173037 173038 173039 ... 230713 230714 230715],\n Loss: 0.00039519552993241337,\n Accuracy Score: 0.9999133133376099,\n Confusion Matrix:\n[[57671     0]\n [    7     1]]\n\ntrain: [     0      1      2 ... 230713 230714 230715],\n test: [230716 230717 230718 ... 288392 288393 288394],\n Loss: 0.0004332454816609765,\n Accuracy Score: 1.0,\n Confusion Matrix:\n[[57679]]\n\n"
        }
      ],
      "execution_count": 52,
      "metadata": {
        "jupyter": {
          "source_hidden": false,
          "outputs_hidden": false
        },
        "nteract": {
          "transient": {
            "deleting": false
          }
        }
      }
    },
    {
      "cell_type": "markdown",
      "source": [
        "# Discretized Dataset\r\n",
        "Discretize the same dataset, and run the same models to validate that the predicts can still be acheived using discretized data.\r\n",
        "\r\n",
        "### Bin=5\r\n",
        "\r\n",
        "**SVM accuracy score: 99.8%**\r\n",
        "\r\n",
        "**MLP accuracy score: 98.7%**"
      ],
      "metadata": {
        "nteract": {
          "transient": {
            "deleting": false
          }
        }
      }
    },
    {
      "cell_type": "code",
      "source": [
        "import warnings\r\n",
        "warnings.filterwarnings('ignore')\r\n",
        "from sklearn.preprocessing import KBinsDiscretizer\r\n",
        "\r\n",
        "discrete5 = KBinsDiscretizer(n_bins=5, encode='ordinal', strategy='uniform')\r\n",
        "discrete10 = KBinsDiscretizer(n_bins=10, encode='ordinal', strategy='uniform')\r\n",
        "discrete15 = KBinsDiscretizer(n_bins=15, encode='ordinal', strategy='uniform')\r\n",
        "discrete20 = KBinsDiscretizer(n_bins=20, encode='ordinal', strategy='uniform')\r\n",
        "discrete25 = KBinsDiscretizer(n_bins=25, encode='ordinal', strategy='uniform')\r\n",
        "\r\n",
        "svm_bin_accuracy = {'5bins': 0, '10bins': 0, '15bins': 0, '20bins': 0, '25bins': 0}\r\n",
        "mlp_bin_accuracy = {'5bins': 0, '10bins': 0, '15bins': 0, '20bins': 0, '25bins': 0}"
      ],
      "outputs": [],
      "execution_count": 53,
      "metadata": {
        "jupyter": {
          "source_hidden": false,
          "outputs_hidden": false
        },
        "nteract": {
          "transient": {
            "deleting": false
          }
        }
      }
    },
    {
      "cell_type": "markdown",
      "source": [],
      "metadata": {
        "nteract": {
          "transient": {
            "deleting": false
          }
        }
      }
    },
    {
      "cell_type": "code",
      "source": [
        "# SVM 5 bins\r\n",
        "linear_SVC2 = LinearSVC(random_state=0, tol=1e-5)\r\n",
        "for train, test in kf.split(X):\r\n",
        "    X_train, X_test, y_train, y_test = np.array(X), np.array(X), np.array(y_label), np.array(y_label) \r\n",
        "    Xbin_train = discrete5.fit_transform(X_train)\r\n",
        "    Xbin_test = discrete5.fit_transform(X_test)\r\n",
        "    linear_SVC2.fit(Xbin_train[train], y_train[train])\r\n",
        "    accuracy = linear_SVC2.score(Xbin_test[test], y_test[test])\r\n",
        "    if(svm_bin_accuracy['5bins'] > accuracy):\r\n",
        "        continue\r\n",
        "    else:\r\n",
        "        svm_bin_accuracy['5bins'] = accuracy\r\n",
        "    print(f'train: {train},\\n test: {test},\\n Accuracy Score: {accuracy},\\n Confusion Matrix:\\n{confusion_matrix(y_test[test], linear_SVC.predict(X_test[test]))}\\n')"
      ],
      "outputs": [
        {
          "output_type": "stream",
          "name": "stdout",
          "text": "train: [ 57679  57680  57681 ... 288392 288393 288394],\n test: [    0     1     2 ... 57676 57677 57678],\n Accuracy Score: 0.999982662667522,\n Confusion Matrix:\n[[57679]]\n\ntrain: [     0      1      2 ... 230713 230714 230715],\n test: [230716 230717 230718 ... 288392 288393 288394],\n Accuracy Score: 1.0,\n Confusion Matrix:\n[[57679]]\n\n"
        }
      ],
      "execution_count": 54,
      "metadata": {
        "jupyter": {
          "source_hidden": false,
          "outputs_hidden": false
        },
        "nteract": {
          "transient": {
            "deleting": false
          }
        }
      }
    },
    {
      "cell_type": "code",
      "source": [
        "svm_bin_accuracy"
      ],
      "outputs": [
        {
          "output_type": "execute_result",
          "execution_count": 55,
          "data": {
            "text/plain": "{'5bins': 1.0, '10bins': 0, '15bins': 0, '20bins': 0, '25bins': 0}"
          },
          "metadata": {}
        }
      ],
      "execution_count": 55,
      "metadata": {
        "jupyter": {
          "source_hidden": false,
          "outputs_hidden": false
        },
        "nteract": {
          "transient": {
            "deleting": false
          }
        }
      }
    },
    {
      "cell_type": "code",
      "source": [
        "# MLP Neural Net 5 bins\r\n",
        "mlp_clf2 = MLPClassifier(random_state=1, max_iter=300)\r\n",
        "for train, test in kf.split(X):\r\n",
        "    X_train, X_test, y_train, y_test = np.array(X), np.array(X), np.array(y_label), np.array(y_label)\r\n",
        "    Xbin_train = discrete5.fit_transform(X_train)\r\n",
        "    Xbin_test = discrete5.fit_transform(X_test) \r\n",
        "    mlp_clf2.fit(Xbin_train[train], y_train[train])\r\n",
        "    accuracy = mlp_clf2.score(Xbin_test[test], y_test[test])\r\n",
        "    loss = mlp_clf2.loss_\r\n",
        "    if(mlp_bin_accuracy['5bins'] > accuracy):\r\n",
        "        continue\r\n",
        "    else:\r\n",
        "        mlp_bin_accuracy['5bins'] = accuracy\r\n",
        "    print(f'train: {train},\\n test: {test},\\n layer size: {mlp_clf2.hidden_layer_sizes},\\n Loss: {loss},\\n Accuracy Score: {accuracy}\\n Confusion Matrix:\\n{confusion_matrix(y_test[test], linear_SVC.predict(X_test[test]))}\\n')"
      ],
      "outputs": [
        {
          "output_type": "stream",
          "name": "stdout",
          "text": "train: [ 57679  57680  57681 ... 288392 288393 288394],\n test: [    0     1     2 ... 57676 57677 57678],\n layer size: (100,),\n Loss: 0.0004500709420352671,\n Accuracy Score: 0.9999479880025659\n Confusion Matrix:\n[[57679]]\n\ntrain: [     0      1      2 ... 230713 230714 230715],\n test: [230716 230717 230718 ... 288392 288393 288394],\n layer size: (100,),\n Loss: 0.0004765129460651292,\n Accuracy Score: 1.0\n Confusion Matrix:\n[[57679]]\n\n"
        }
      ],
      "execution_count": 56,
      "metadata": {
        "jupyter": {
          "source_hidden": false,
          "outputs_hidden": false
        },
        "nteract": {
          "transient": {
            "deleting": false
          }
        }
      }
    },
    {
      "cell_type": "code",
      "source": [
        "mlp_bin_accuracy"
      ],
      "outputs": [
        {
          "output_type": "execute_result",
          "execution_count": 57,
          "data": {
            "text/plain": "{'5bins': 1.0, '10bins': 0, '15bins': 0, '20bins': 0, '25bins': 0}"
          },
          "metadata": {}
        }
      ],
      "execution_count": 57,
      "metadata": {
        "jupyter": {
          "source_hidden": false,
          "outputs_hidden": false
        },
        "nteract": {
          "transient": {
            "deleting": false
          }
        }
      }
    },
    {
      "cell_type": "markdown",
      "source": [
        "### Bins = 10\r\n",
        "\r\n",
        " **SVM Accuracy: 99.87**\r\n",
        "\r\n",
        "**MLP Accuracy: 99.84**"
      ],
      "metadata": {
        "nteract": {
          "transient": {
            "deleting": false
          }
        }
      }
    },
    {
      "cell_type": "code",
      "source": [
        "# SVM 10bins\r\n",
        "linear_SVC2 = LinearSVC(random_state=0, tol=1e-5)\r\n",
        "for train, test in kf.split(X):\r\n",
        "    X_train, X_test, y_train, y_test = np.array(X), np.array(X), np.array(y_label), np.array(y_label) \r\n",
        "    Xbin_train = discrete10.fit_transform(X_train)\r\n",
        "    Xbin_test = discrete10.fit_transform(X_test)\r\n",
        "    linear_SVC2.fit(Xbin_train[train], y_train[train])\r\n",
        "    accuracy = linear_SVC2.score(Xbin_test[test], y_test[test])\r\n",
        "    if(svm_bin_accuracy['10bins'] > accuracy):\r\n",
        "        continue\r\n",
        "    else:\r\n",
        "        svm_bin_accuracy['10bins'] = accuracy\r\n",
        "    print(f'train: {train},\\n test: {test},\\n Accuracy Score: {accuracy},\\n Confusion Matrix:\\n{confusion_matrix(y_test[test], linear_SVC.predict(X_test[test]))}\\n')"
      ],
      "outputs": [
        {
          "output_type": "stream",
          "name": "stdout",
          "text": "train: [ 57679  57680  57681 ... 288392 288393 288394],\n test: [    0     1     2 ... 57676 57677 57678],\n Accuracy Score: 0.9999479880025659,\n Confusion Matrix:\n[[57679]]\n\ntrain: [     0      1      2 ... 230713 230714 230715],\n test: [230716 230717 230718 ... 288392 288393 288394],\n Accuracy Score: 1.0,\n Confusion Matrix:\n[[57679]]\n\n"
        }
      ],
      "execution_count": 58,
      "metadata": {
        "jupyter": {
          "source_hidden": false,
          "outputs_hidden": false
        },
        "nteract": {
          "transient": {
            "deleting": false
          }
        }
      }
    },
    {
      "cell_type": "code",
      "source": [
        "svm_bin_accuracy"
      ],
      "outputs": [
        {
          "output_type": "execute_result",
          "execution_count": 59,
          "data": {
            "text/plain": "{'5bins': 1.0, '10bins': 1.0, '15bins': 0, '20bins': 0, '25bins': 0}"
          },
          "metadata": {}
        }
      ],
      "execution_count": 59,
      "metadata": {
        "jupyter": {
          "source_hidden": false,
          "outputs_hidden": false
        },
        "nteract": {
          "transient": {
            "deleting": false
          }
        }
      }
    },
    {
      "cell_type": "code",
      "source": [
        "# MLP Neural Net 10 bins\r\n",
        "mlp_clf2 = MLPClassifier(random_state=1, max_iter=300)\r\n",
        "for train, test in kf.split(X):\r\n",
        "    X_train, X_test, y_train, y_test = np.array(X), np.array(X), np.array(y_label), np.array(y_label)\r\n",
        "    Xbin_train = discrete10.fit_transform(X_train)\r\n",
        "    Xbin_test = discrete10.fit_transform(X_test) \r\n",
        "    mlp_clf2.fit(Xbin_train[train], y_train[train])\r\n",
        "    accuracy = mlp_clf2.score(Xbin_test[test], y_test[test])\r\n",
        "    loss = mlp_clf2.loss_\r\n",
        "    if(mlp_bin_accuracy['10bins'] > accuracy):\r\n",
        "        continue\r\n",
        "    else:\r\n",
        "        mlp_bin_accuracy['10bins'] = accuracy\r\n",
        "    print(f'train: {train},\\n test: {test},\\n layer size: {mlp_clf2.hidden_layer_sizes},\\n Loss: {loss},\\n Accuracy Score: {accuracy}\\n Confusion Matrix:\\n{confusion_matrix(y_test[test], linear_SVC.predict(X_test[test]))}\\n')"
      ],
      "outputs": [
        {
          "output_type": "stream",
          "name": "stdout",
          "text": "train: [ 57679  57680  57681 ... 288392 288393 288394],\n test: [    0     1     2 ... 57676 57677 57678],\n layer size: (100,),\n Loss: 0.00037964849663828964,\n Accuracy Score: 0.999982662667522\n Confusion Matrix:\n[[57679]]\n\ntrain: [     0      1      2 ... 230713 230714 230715],\n test: [230716 230717 230718 ... 288392 288393 288394],\n layer size: (100,),\n Loss: 0.00038579931361238556,\n Accuracy Score: 0.999982662667522\n Confusion Matrix:\n[[57679]]\n\n"
        }
      ],
      "execution_count": 60,
      "metadata": {
        "jupyter": {
          "source_hidden": false,
          "outputs_hidden": false
        },
        "nteract": {
          "transient": {
            "deleting": false
          }
        }
      }
    },
    {
      "cell_type": "code",
      "source": [
        "mlp_bin_accuracy"
      ],
      "outputs": [
        {
          "output_type": "execute_result",
          "execution_count": 61,
          "data": {
            "text/plain": "{'5bins': 1.0,\n '10bins': 0.999982662667522,\n '15bins': 0,\n '20bins': 0,\n '25bins': 0}"
          },
          "metadata": {}
        }
      ],
      "execution_count": 61,
      "metadata": {
        "jupyter": {
          "source_hidden": false,
          "outputs_hidden": false
        },
        "nteract": {
          "transient": {
            "deleting": false
          }
        }
      }
    },
    {
      "cell_type": "markdown",
      "source": [
        "### Bins = 15\r\n",
        "\r\n",
        " **SVM Accuracy: 99.85**\r\n",
        "\r\n",
        "**MLP Accuracy: 99.88**"
      ],
      "metadata": {
        "nteract": {
          "transient": {
            "deleting": false
          }
        }
      }
    },
    {
      "cell_type": "code",
      "source": [
        "# SVM 15 bins\r\n",
        "linear_SVC2 = LinearSVC(random_state=0, tol=1e-5)\r\n",
        "for train, test in kf.split(X):\r\n",
        "    X_train, X_test, y_train, y_test = np.array(X), np.array(X), np.array(y_label), np.array(y_label) \r\n",
        "    Xbin_train = discrete15.fit_transform(X_train)\r\n",
        "    Xbin_test = discrete15.fit_transform(X_test)\r\n",
        "    linear_SVC2.fit(Xbin_train[train], y_train[train])\r\n",
        "    accuracy = linear_SVC2.score(Xbin_test[test], y_test[test])\r\n",
        "    if(svm_bin_accuracy['15bins'] > accuracy):\r\n",
        "        continue\r\n",
        "    else:\r\n",
        "        svm_bin_accuracy['15bins'] = accuracy\r\n",
        "    print(f'train: {train},\\n test: {test},\\n Accuracy Score: {accuracy},\\n Confusion Matrix:\\n{confusion_matrix(y_test[test], linear_SVC.predict(X_test[test]))}\\n')"
      ],
      "outputs": [
        {
          "output_type": "stream",
          "name": "stdout",
          "text": "train: [ 57679  57680  57681 ... 288392 288393 288394],\n test: [    0     1     2 ... 57676 57677 57678],\n Accuracy Score: 1.0,\n Confusion Matrix:\n[[57679]]\n\ntrain: [     0      1      2 ... 230713 230714 230715],\n test: [230716 230717 230718 ... 288392 288393 288394],\n Accuracy Score: 1.0,\n Confusion Matrix:\n[[57679]]\n\n"
        }
      ],
      "execution_count": 62,
      "metadata": {
        "jupyter": {
          "source_hidden": false,
          "outputs_hidden": false
        },
        "nteract": {
          "transient": {
            "deleting": false
          }
        }
      }
    },
    {
      "cell_type": "code",
      "source": [
        "svm_bin_accuracy"
      ],
      "outputs": [
        {
          "output_type": "execute_result",
          "execution_count": 63,
          "data": {
            "text/plain": "{'5bins': 1.0, '10bins': 1.0, '15bins': 1.0, '20bins': 0, '25bins': 0}"
          },
          "metadata": {}
        }
      ],
      "execution_count": 63,
      "metadata": {
        "jupyter": {
          "source_hidden": false,
          "outputs_hidden": false
        },
        "nteract": {
          "transient": {
            "deleting": false
          }
        }
      }
    },
    {
      "cell_type": "code",
      "source": [
        "# MLP Neural Net 15 bins\r\n",
        "mlp_clf2 = MLPClassifier(random_state=1, max_iter=300)\r\n",
        "for train, test in kf.split(X):\r\n",
        "    X_train, X_test, y_train, y_test = np.array(X), np.array(X), np.array(y_label), np.array(y_label)\r\n",
        "    Xbin_train = discrete15.fit_transform(X_train)\r\n",
        "    Xbin_test = discrete15.fit_transform(X_test) \r\n",
        "    mlp_clf2.fit(Xbin_train[train], y_train[train])\r\n",
        "    accuracy = mlp_clf2.score(Xbin_test[test], y_test[test])\r\n",
        "    loss = mlp_clf2.loss_\r\n",
        "    if(mlp_bin_accuracy['15bins'] > accuracy):\r\n",
        "        continue\r\n",
        "    else:\r\n",
        "        mlp_bin_accuracy['15bins'] = accuracy\r\n",
        "    print(f'train: {train},\\n test: {test},\\n layer size: {mlp_clf2.hidden_layer_sizes},\\n Loss: {loss},\\n Accuracy Score: {accuracy}\\n Confusion Matrix:\\n{confusion_matrix(y_test[test], linear_SVC.predict(X_test[test]))}\\n')"
      ],
      "outputs": [
        {
          "output_type": "stream",
          "name": "stdout",
          "text": "train: [ 57679  57680  57681 ... 288392 288393 288394],\n test: [    0     1     2 ... 57676 57677 57678],\n layer size: (100,),\n Loss: 0.0003683042549714516,\n Accuracy Score: 0.999982662667522\n Confusion Matrix:\n[[57679]]\n\n"
        }
      ],
      "execution_count": 64,
      "metadata": {
        "jupyter": {
          "source_hidden": false,
          "outputs_hidden": false
        },
        "nteract": {
          "transient": {
            "deleting": false
          }
        }
      }
    },
    {
      "cell_type": "code",
      "source": [
        "mlp_bin_accuracy"
      ],
      "outputs": [
        {
          "output_type": "execute_result",
          "execution_count": 65,
          "data": {
            "text/plain": "{'5bins': 1.0,\n '10bins': 0.999982662667522,\n '15bins': 0.999982662667522,\n '20bins': 0,\n '25bins': 0}"
          },
          "metadata": {}
        }
      ],
      "execution_count": 65,
      "metadata": {
        "jupyter": {
          "source_hidden": false,
          "outputs_hidden": false
        },
        "nteract": {
          "transient": {
            "deleting": false
          }
        }
      }
    },
    {
      "cell_type": "markdown",
      "source": [
        "### Bins = 20\r\n",
        "\r\n",
        " **SVM Accuracy: 99.87**\r\n",
        "\r\n",
        "**MLP Accuracy: 99.85**"
      ],
      "metadata": {
        "nteract": {
          "transient": {
            "deleting": false
          }
        }
      }
    },
    {
      "cell_type": "code",
      "source": [
        "# SVM 20 bins\r\n",
        "linear_SVC2 = LinearSVC(random_state=0, tol=1e-5)\r\n",
        "for train, test in kf.split(X):\r\n",
        "    X_train, X_test, y_train, y_test = np.array(X), np.array(X), np.array(y_label), np.array(y_label) \r\n",
        "    Xbin_train = discrete20.fit_transform(X_train)\r\n",
        "    Xbin_test = discrete20.fit_transform(X_test)\r\n",
        "    linear_SVC2.fit(Xbin_train[train], y_train[train])\r\n",
        "    accuracy = linear_SVC2.score(Xbin_test[test], y_test[test])\r\n",
        "    if(svm_bin_accuracy['20bins'] > accuracy):\r\n",
        "        continue\r\n",
        "    else:\r\n",
        "        svm_bin_accuracy['20bins'] = accuracy\r\n",
        "    print(f'train: {train},\\n test: {test},\\n Accuracy Score: {accuracy},\\n Confusion Matrix:\\n{confusion_matrix(y_test[test], linear_SVC.predict(X_test[test]))}\\n')"
      ],
      "outputs": [
        {
          "output_type": "stream",
          "name": "stdout",
          "text": "train: [ 57679  57680  57681 ... 288392 288393 288394],\n test: [    0     1     2 ... 57676 57677 57678],\n Accuracy Score: 1.0,\n Confusion Matrix:\n[[57679]]\n\ntrain: [     0      1      2 ... 230713 230714 230715],\n test: [230716 230717 230718 ... 288392 288393 288394],\n Accuracy Score: 1.0,\n Confusion Matrix:\n[[57679]]\n\n"
        }
      ],
      "execution_count": 66,
      "metadata": {
        "jupyter": {
          "source_hidden": false,
          "outputs_hidden": false
        },
        "nteract": {
          "transient": {
            "deleting": false
          }
        }
      }
    },
    {
      "cell_type": "code",
      "source": [
        "svm_bin_accuracy"
      ],
      "outputs": [
        {
          "output_type": "execute_result",
          "execution_count": 67,
          "data": {
            "text/plain": "{'5bins': 1.0, '10bins': 1.0, '15bins': 1.0, '20bins': 1.0, '25bins': 0}"
          },
          "metadata": {}
        }
      ],
      "execution_count": 67,
      "metadata": {
        "jupyter": {
          "source_hidden": false,
          "outputs_hidden": false
        },
        "nteract": {
          "transient": {
            "deleting": false
          }
        }
      }
    },
    {
      "cell_type": "code",
      "source": [
        "# MLP Neural Net 20 bins\r\n",
        "mlp_clf2 = MLPClassifier(random_state=1, max_iter=300)\r\n",
        "for train, test in kf.split(X):\r\n",
        "    X_train, X_test, y_train, y_test = np.array(X), np.array(X), np.array(y_label), np.array(y_label)\r\n",
        "    Xbin_train = discrete20.fit_transform(X_train)\r\n",
        "    Xbin_test = discrete20.fit_transform(X_test) \r\n",
        "    mlp_clf2.fit(Xbin_train[train], y_train[train])\r\n",
        "    accuracy = mlp_clf2.score(Xbin_test[test], y_test[test])\r\n",
        "    loss = mlp_clf2.loss_\r\n",
        "    if(mlp_bin_accuracy['20bins'] > accuracy):\r\n",
        "        continue\r\n",
        "    else:\r\n",
        "        mlp_bin_accuracy['20bins'] = accuracy\r\n",
        "    print(f'train: {train},\\n test: {test},\\n layer size: {mlp_clf2.hidden_layer_sizes},\\n Loss: {loss},\\n Accuracy Score: {accuracy}\\n Confusion Matrix:\\n{confusion_matrix(y_test[test], linear_SVC.predict(X_test[test]))}\\n')"
      ],
      "outputs": [
        {
          "output_type": "stream",
          "name": "stdout",
          "text": "train: [ 57679  57680  57681 ... 288392 288393 288394],\n test: [    0     1     2 ... 57676 57677 57678],\n layer size: (100,),\n Loss: 0.00031173806098248614,\n Accuracy Score: 0.999982662667522\n Confusion Matrix:\n[[57679]]\n\n"
        }
      ],
      "execution_count": 68,
      "metadata": {
        "jupyter": {
          "source_hidden": false,
          "outputs_hidden": false
        },
        "nteract": {
          "transient": {
            "deleting": false
          }
        }
      }
    },
    {
      "cell_type": "code",
      "source": [
        "mlp_bin_accuracy"
      ],
      "outputs": [
        {
          "output_type": "execute_result",
          "execution_count": 69,
          "data": {
            "text/plain": "{'5bins': 1.0,\n '10bins': 0.999982662667522,\n '15bins': 0.999982662667522,\n '20bins': 0.999982662667522,\n '25bins': 0}"
          },
          "metadata": {}
        }
      ],
      "execution_count": 69,
      "metadata": {
        "jupyter": {
          "source_hidden": false,
          "outputs_hidden": false
        },
        "nteract": {
          "transient": {
            "deleting": false
          }
        }
      }
    },
    {
      "cell_type": "markdown",
      "source": [
        "### Bins = 25\r\n",
        "\r\n",
        " **SVM Accuracy: 99.82**\r\n",
        "\r\n",
        "**MLP Accuracy: 99.87**"
      ],
      "metadata": {
        "nteract": {
          "transient": {
            "deleting": false
          }
        }
      }
    },
    {
      "cell_type": "code",
      "source": [
        "# SVM 25 bins\r\n",
        "linear_SVC2 = LinearSVC(random_state=0, tol=1e-5)\r\n",
        "for train, test in kf.split(X):\r\n",
        "    X_train, X_test, y_train, y_test = np.array(X), np.array(X), np.array(y_label), np.array(y_label) \r\n",
        "    Xbin_train = discrete25.fit_transform(X_train)\r\n",
        "    Xbin_test = discrete25.fit_transform(X_test)\r\n",
        "    linear_SVC2.fit(Xbin_train[train], y_train[train])\r\n",
        "    accuracy = linear_SVC2.score(Xbin_test[test], y_test[test])\r\n",
        "    if(svm_bin_accuracy['25bins'] > accuracy):\r\n",
        "        continue\r\n",
        "    else:\r\n",
        "        svm_bin_accuracy['25bins'] = accuracy\r\n",
        "    print(f'train: {train},\\n test: {test},\\n Accuracy Score: {accuracy},\\n Confusion Matrix:\\n{confusion_matrix(y_test[test], linear_SVC.predict(X_test[test]))}\\n')"
      ],
      "outputs": [
        {
          "output_type": "stream",
          "name": "stdout",
          "text": "train: [ 57679  57680  57681 ... 288392 288393 288394],\n test: [    0     1     2 ... 57676 57677 57678],\n Accuracy Score: 1.0,\n Confusion Matrix:\n[[57679]]\n\ntrain: [     0      1      2 ... 230713 230714 230715],\n test: [230716 230717 230718 ... 288392 288393 288394],\n Accuracy Score: 1.0,\n Confusion Matrix:\n[[57679]]\n\n"
        }
      ],
      "execution_count": 70,
      "metadata": {
        "jupyter": {
          "source_hidden": false,
          "outputs_hidden": false
        },
        "nteract": {
          "transient": {
            "deleting": false
          }
        }
      }
    },
    {
      "cell_type": "code",
      "source": [
        "svm_bin_accuracy"
      ],
      "outputs": [
        {
          "output_type": "execute_result",
          "execution_count": 71,
          "data": {
            "text/plain": "{'5bins': 1.0, '10bins': 1.0, '15bins': 1.0, '20bins': 1.0, '25bins': 1.0}"
          },
          "metadata": {}
        }
      ],
      "execution_count": 71,
      "metadata": {
        "jupyter": {
          "source_hidden": false,
          "outputs_hidden": false
        },
        "nteract": {
          "transient": {
            "deleting": false
          }
        }
      }
    },
    {
      "cell_type": "code",
      "source": [
        "# MLP Neural Net 25 bins\r\n",
        "mlp_clf2 = MLPClassifier(random_state=1, max_iter=300)\r\n",
        "for train, test in kf.split(X):\r\n",
        "    X_train, X_test, y_train, y_test = np.array(X), np.array(X), np.array(y_label), np.array(y_label)\r\n",
        "    Xbin_train = discrete25.fit_transform(X_train)\r\n",
        "    Xbin_test = discrete25.fit_transform(X_test) \r\n",
        "    mlp_clf2.fit(Xbin_train[train], y_train[train])\r\n",
        "    accuracy = mlp_clf2.score(Xbin_test[test], y_test[test])\r\n",
        "    loss = mlp_clf2.loss_\r\n",
        "    if(mlp_bin_accuracy['25bins'] > accuracy):\r\n",
        "        continue\r\n",
        "    else:\r\n",
        "        mlp_bin_accuracy['25bins'] = accuracy\r\n",
        "    print(f'train: {train},\\n test: {test},\\n layer size: {mlp_clf2.hidden_layer_sizes},\\n Loss: {loss},\\n Accuracy Score: {accuracy}\\n Confusion Matrix:\\n{confusion_matrix(y_test[test], linear_SVC.predict(X_test[test]))}\\n')"
      ],
      "outputs": [
        {
          "output_type": "stream",
          "name": "stdout",
          "text": "train: [ 57679  57680  57681 ... 288392 288393 288394],\n test: [    0     1     2 ... 57676 57677 57678],\n layer size: (100,),\n Loss: 0.00031912894036064044,\n Accuracy Score: 1.0\n Confusion Matrix:\n[[57679]]\n\n"
        }
      ],
      "execution_count": 72,
      "metadata": {
        "jupyter": {
          "source_hidden": false,
          "outputs_hidden": false
        },
        "nteract": {
          "transient": {
            "deleting": false
          }
        }
      }
    },
    {
      "cell_type": "code",
      "source": [
        "mlp_bin_accuracy"
      ],
      "outputs": [
        {
          "output_type": "execute_result",
          "execution_count": 73,
          "data": {
            "text/plain": "{'5bins': 1.0,\n '10bins': 0.999982662667522,\n '15bins': 0.999982662667522,\n '20bins': 0.999982662667522,\n '25bins': 1.0}"
          },
          "metadata": {}
        }
      ],
      "execution_count": 73,
      "metadata": {
        "jupyter": {
          "source_hidden": false,
          "outputs_hidden": false
        },
        "nteract": {
          "transient": {
            "deleting": false
          }
        }
      }
    }
  ],
  "metadata": {
    "kernelspec": {
      "name": "python38-azureml",
      "language": "python",
      "display_name": "Python 3.8 - AzureML"
    },
    "language_info": {
      "name": "python",
      "version": "3.8.5",
      "mimetype": "text/x-python",
      "codemirror_mode": {
        "name": "ipython",
        "version": 3
      },
      "pygments_lexer": "ipython3",
      "nbconvert_exporter": "python",
      "file_extension": ".py"
    },
    "kernel_info": {
      "name": "python38-azureml"
    },
    "nteract": {
      "version": "nteract-front-end@1.0.0"
    }
  },
  "nbformat": 4,
  "nbformat_minor": 0
}