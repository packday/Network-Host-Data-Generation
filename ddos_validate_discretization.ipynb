{
  "cells": [
    {
      "cell_type": "code",
      "source": [
        "import numpy as np\r\n",
        "import pandas as pnd\r\n",
        "from sklearn.preprocessing import MinMaxScaler\r\n",
        "from sklearn.model_selection import train_test_split\r\n",
        "from sklearn.pipeline import Pipeline\r\n",
        "import torch"
      ],
      "outputs": [],
      "execution_count": 1,
      "metadata": {}
    },
    {
      "cell_type": "markdown",
      "source": [
        "# Intrusion Detection Evaluation Dataset (CIC-IDS2017)\r\n",
        "### DDoS Attack Data\r\n",
        "\r\n",
        "Intrusion Detection Systems (IDSs) and Intrusion Prevention Systems (IPSs) are the most important defense tools against the sophisticated and ever-growing network attacks. Due to the lack of reliable test and validation datasets, anomaly-based intrusion detection approaches are suffering from consistent and accurate performance evolutions.\r\n",
        "\r\n",
        "[https://www.unb.ca/cic/datasets/ids-2017.html]\r\n"
      ],
      "metadata": {
        "nteract": {
          "transient": {
            "deleting": false
          }
        }
      }
    },
    {
      "cell_type": "code",
      "source": [
        "# Load Data\r\n",
        "df = pnd.read_csv(\"data/CICIDS-2017/Friday-WorkingHours-Afternoon-DDos.pcap_ISCX.csv\")\r\n",
        "X = df"
      ],
      "outputs": [],
      "execution_count": 2,
      "metadata": {
        "jupyter": {
          "source_hidden": false,
          "outputs_hidden": false
        },
        "nteract": {
          "transient": {
            "deleting": false
          }
        }
      }
    },
    {
      "cell_type": "code",
      "source": [
        "X.info()"
      ],
      "outputs": [
        {
          "output_type": "stream",
          "name": "stdout",
          "text": "<class 'pandas.core.frame.DataFrame'>\nRangeIndex: 225745 entries, 0 to 225744\nData columns (total 79 columns):\n #   Column                        Non-Null Count   Dtype  \n---  ------                        --------------   -----  \n 0    Destination Port             225745 non-null  int64  \n 1    Flow Duration                225745 non-null  int64  \n 2    Total Fwd Packets            225745 non-null  int64  \n 3    Total Backward Packets       225745 non-null  int64  \n 4   Total Length of Fwd Packets   225745 non-null  int64  \n 5    Total Length of Bwd Packets  225745 non-null  int64  \n 6    Fwd Packet Length Max        225745 non-null  int64  \n 7    Fwd Packet Length Min        225745 non-null  int64  \n 8    Fwd Packet Length Mean       225745 non-null  float64\n 9    Fwd Packet Length Std        225745 non-null  float64\n 10  Bwd Packet Length Max         225745 non-null  int64  \n 11   Bwd Packet Length Min        225745 non-null  int64  \n 12   Bwd Packet Length Mean       225745 non-null  float64\n 13   Bwd Packet Length Std        225745 non-null  float64\n 14  Flow Bytes/s                  225741 non-null  float64\n 15   Flow Packets/s               225745 non-null  float64\n 16   Flow IAT Mean                225745 non-null  float64\n 17   Flow IAT Std                 225745 non-null  float64\n 18   Flow IAT Max                 225745 non-null  int64  \n 19   Flow IAT Min                 225745 non-null  int64  \n 20  Fwd IAT Total                 225745 non-null  int64  \n 21   Fwd IAT Mean                 225745 non-null  float64\n 22   Fwd IAT Std                  225745 non-null  float64\n 23   Fwd IAT Max                  225745 non-null  int64  \n 24   Fwd IAT Min                  225745 non-null  int64  \n 25  Bwd IAT Total                 225745 non-null  int64  \n 26   Bwd IAT Mean                 225745 non-null  float64\n 27   Bwd IAT Std                  225745 non-null  float64\n 28   Bwd IAT Max                  225745 non-null  int64  \n 29   Bwd IAT Min                  225745 non-null  int64  \n 30  Fwd PSH Flags                 225745 non-null  int64  \n 31   Bwd PSH Flags                225745 non-null  int64  \n 32   Fwd URG Flags                225745 non-null  int64  \n 33   Bwd URG Flags                225745 non-null  int64  \n 34   Fwd Header Length            225745 non-null  int64  \n 35   Bwd Header Length            225745 non-null  int64  \n 36  Fwd Packets/s                 225745 non-null  float64\n 37   Bwd Packets/s                225745 non-null  float64\n 38   Min Packet Length            225745 non-null  int64  \n 39   Max Packet Length            225745 non-null  int64  \n 40   Packet Length Mean           225745 non-null  float64\n 41   Packet Length Std            225745 non-null  float64\n 42   Packet Length Variance       225745 non-null  float64\n 43  FIN Flag Count                225745 non-null  int64  \n 44   SYN Flag Count               225745 non-null  int64  \n 45   RST Flag Count               225745 non-null  int64  \n 46   PSH Flag Count               225745 non-null  int64  \n 47   ACK Flag Count               225745 non-null  int64  \n 48   URG Flag Count               225745 non-null  int64  \n 49   CWE Flag Count               225745 non-null  int64  \n 50   ECE Flag Count               225745 non-null  int64  \n 51   Down/Up Ratio                225745 non-null  int64  \n 52   Average Packet Size          225745 non-null  float64\n 53   Avg Fwd Segment Size         225745 non-null  float64\n 54   Avg Bwd Segment Size         225745 non-null  float64\n 55   Fwd Header Length.1          225745 non-null  int64  \n 56  Fwd Avg Bytes/Bulk            225745 non-null  int64  \n 57   Fwd Avg Packets/Bulk         225745 non-null  int64  \n 58   Fwd Avg Bulk Rate            225745 non-null  int64  \n 59   Bwd Avg Bytes/Bulk           225745 non-null  int64  \n 60   Bwd Avg Packets/Bulk         225745 non-null  int64  \n 61  Bwd Avg Bulk Rate             225745 non-null  int64  \n 62  Subflow Fwd Packets           225745 non-null  int64  \n 63   Subflow Fwd Bytes            225745 non-null  int64  \n 64   Subflow Bwd Packets          225745 non-null  int64  \n 65   Subflow Bwd Bytes            225745 non-null  int64  \n 66  Init_Win_bytes_forward        225745 non-null  int64  \n 67   Init_Win_bytes_backward      225745 non-null  int64  \n 68   act_data_pkt_fwd             225745 non-null  int64  \n 69   min_seg_size_forward         225745 non-null  int64  \n 70  Active Mean                   225745 non-null  float64\n 71   Active Std                   225745 non-null  float64\n 72   Active Max                   225745 non-null  int64  \n 73   Active Min                   225745 non-null  int64  \n 74  Idle Mean                     225745 non-null  float64\n 75   Idle Std                     225745 non-null  float64\n 76   Idle Max                     225745 non-null  int64  \n 77   Idle Min                     225745 non-null  int64  \n 78   Label                        225745 non-null  object \ndtypes: float64(24), int64(54), object(1)\nmemory usage: 136.1+ MB\n"
        }
      ],
      "execution_count": 3,
      "metadata": {
        "jupyter": {
          "source_hidden": false,
          "outputs_hidden": false
        },
        "nteract": {
          "transient": {
            "deleting": false
          }
        }
      }
    },
    {
      "cell_type": "code",
      "source": [
        "X.replace('BENIGN', 0, inplace=True)\r\n",
        "X.replace('DDoS', 1, inplace=True)"
      ],
      "outputs": [],
      "execution_count": 4,
      "metadata": {
        "jupyter": {
          "source_hidden": false,
          "outputs_hidden": false
        },
        "nteract": {
          "transient": {
            "deleting": false
          }
        }
      }
    },
    {
      "cell_type": "code",
      "source": [
        "# Clean Data\r\n",
        "if(np.any(np.isnan(X)) or np.all(np.isfinite(X))):\r\n",
        "    df.dropna(inplace=True)\r\n",
        "    indices_to_keep = ~df.isin([np.nan, np.inf, -np.inf]).any(1)\r\n",
        "    X = X[indices_to_keep]\r\n",
        "\r\n",
        "X.head()"
      ],
      "outputs": [
        {
          "output_type": "execute_result",
          "execution_count": 5,
          "data": {
            "text/plain": "    Destination Port   Flow Duration   Total Fwd Packets  \\\n0              54865               3                   2   \n1              55054             109                   1   \n2              55055              52                   1   \n3              46236              34                   1   \n4              54863               3                   2   \n\n    Total Backward Packets  Total Length of Fwd Packets  \\\n0                        0                           12   \n1                        1                            6   \n2                        1                            6   \n3                        1                            6   \n4                        0                           12   \n\n    Total Length of Bwd Packets   Fwd Packet Length Max  \\\n0                             0                       6   \n1                             6                       6   \n2                             6                       6   \n3                             6                       6   \n4                             0                       6   \n\n    Fwd Packet Length Min   Fwd Packet Length Mean   Fwd Packet Length Std  \\\n0                       6                      6.0                     0.0   \n1                       6                      6.0                     0.0   \n2                       6                      6.0                     0.0   \n3                       6                      6.0                     0.0   \n4                       6                      6.0                     0.0   \n\n   ...   min_seg_size_forward  Active Mean   Active Std   Active Max  \\\n0  ...                     20          0.0          0.0            0   \n1  ...                     20          0.0          0.0            0   \n2  ...                     20          0.0          0.0            0   \n3  ...                     20          0.0          0.0            0   \n4  ...                     20          0.0          0.0            0   \n\n    Active Min  Idle Mean   Idle Std   Idle Max   Idle Min   Label  \n0            0        0.0        0.0          0          0       0  \n1            0        0.0        0.0          0          0       0  \n2            0        0.0        0.0          0          0       0  \n3            0        0.0        0.0          0          0       0  \n4            0        0.0        0.0          0          0       0  \n\n[5 rows x 79 columns]",
            "text/html": "<div>\n<style scoped>\n    .dataframe tbody tr th:only-of-type {\n        vertical-align: middle;\n    }\n\n    .dataframe tbody tr th {\n        vertical-align: top;\n    }\n\n    .dataframe thead th {\n        text-align: right;\n    }\n</style>\n<table border=\"1\" class=\"dataframe\">\n  <thead>\n    <tr style=\"text-align: right;\">\n      <th></th>\n      <th>Destination Port</th>\n      <th>Flow Duration</th>\n      <th>Total Fwd Packets</th>\n      <th>Total Backward Packets</th>\n      <th>Total Length of Fwd Packets</th>\n      <th>Total Length of Bwd Packets</th>\n      <th>Fwd Packet Length Max</th>\n      <th>Fwd Packet Length Min</th>\n      <th>Fwd Packet Length Mean</th>\n      <th>Fwd Packet Length Std</th>\n      <th>...</th>\n      <th>min_seg_size_forward</th>\n      <th>Active Mean</th>\n      <th>Active Std</th>\n      <th>Active Max</th>\n      <th>Active Min</th>\n      <th>Idle Mean</th>\n      <th>Idle Std</th>\n      <th>Idle Max</th>\n      <th>Idle Min</th>\n      <th>Label</th>\n    </tr>\n  </thead>\n  <tbody>\n    <tr>\n      <th>0</th>\n      <td>54865</td>\n      <td>3</td>\n      <td>2</td>\n      <td>0</td>\n      <td>12</td>\n      <td>0</td>\n      <td>6</td>\n      <td>6</td>\n      <td>6.0</td>\n      <td>0.0</td>\n      <td>...</td>\n      <td>20</td>\n      <td>0.0</td>\n      <td>0.0</td>\n      <td>0</td>\n      <td>0</td>\n      <td>0.0</td>\n      <td>0.0</td>\n      <td>0</td>\n      <td>0</td>\n      <td>0</td>\n    </tr>\n    <tr>\n      <th>1</th>\n      <td>55054</td>\n      <td>109</td>\n      <td>1</td>\n      <td>1</td>\n      <td>6</td>\n      <td>6</td>\n      <td>6</td>\n      <td>6</td>\n      <td>6.0</td>\n      <td>0.0</td>\n      <td>...</td>\n      <td>20</td>\n      <td>0.0</td>\n      <td>0.0</td>\n      <td>0</td>\n      <td>0</td>\n      <td>0.0</td>\n      <td>0.0</td>\n      <td>0</td>\n      <td>0</td>\n      <td>0</td>\n    </tr>\n    <tr>\n      <th>2</th>\n      <td>55055</td>\n      <td>52</td>\n      <td>1</td>\n      <td>1</td>\n      <td>6</td>\n      <td>6</td>\n      <td>6</td>\n      <td>6</td>\n      <td>6.0</td>\n      <td>0.0</td>\n      <td>...</td>\n      <td>20</td>\n      <td>0.0</td>\n      <td>0.0</td>\n      <td>0</td>\n      <td>0</td>\n      <td>0.0</td>\n      <td>0.0</td>\n      <td>0</td>\n      <td>0</td>\n      <td>0</td>\n    </tr>\n    <tr>\n      <th>3</th>\n      <td>46236</td>\n      <td>34</td>\n      <td>1</td>\n      <td>1</td>\n      <td>6</td>\n      <td>6</td>\n      <td>6</td>\n      <td>6</td>\n      <td>6.0</td>\n      <td>0.0</td>\n      <td>...</td>\n      <td>20</td>\n      <td>0.0</td>\n      <td>0.0</td>\n      <td>0</td>\n      <td>0</td>\n      <td>0.0</td>\n      <td>0.0</td>\n      <td>0</td>\n      <td>0</td>\n      <td>0</td>\n    </tr>\n    <tr>\n      <th>4</th>\n      <td>54863</td>\n      <td>3</td>\n      <td>2</td>\n      <td>0</td>\n      <td>12</td>\n      <td>0</td>\n      <td>6</td>\n      <td>6</td>\n      <td>6.0</td>\n      <td>0.0</td>\n      <td>...</td>\n      <td>20</td>\n      <td>0.0</td>\n      <td>0.0</td>\n      <td>0</td>\n      <td>0</td>\n      <td>0.0</td>\n      <td>0.0</td>\n      <td>0</td>\n      <td>0</td>\n      <td>0</td>\n    </tr>\n  </tbody>\n</table>\n<p>5 rows × 79 columns</p>\n</div>"
          },
          "metadata": {}
        }
      ],
      "execution_count": 5,
      "metadata": {
        "jupyter": {
          "source_hidden": false,
          "outputs_hidden": false
        },
        "nteract": {
          "transient": {
            "deleting": false
          }
        }
      }
    },
    {
      "cell_type": "code",
      "source": [
        "# Scale Data\r\n",
        "scaled_features = MinMaxScaler().fit_transform(X.values)\r\n",
        "X = pnd.DataFrame(scaled_features, index=X.index, columns=X.columns)\r\n",
        "X.head()"
      ],
      "outputs": [
        {
          "output_type": "execute_result",
          "execution_count": 6,
          "data": {
            "text/plain": "    Destination Port   Flow Duration   Total Fwd Packets  \\\n0           0.837225    3.333335e-08            0.000518   \n1           0.840109    9.166671e-07            0.000000   \n2           0.840124    4.416669e-07            0.000000   \n3           0.705548    2.916668e-07            0.000000   \n4           0.837194    3.333335e-08            0.000518   \n\n    Total Backward Packets  Total Length of Fwd Packets  \\\n0                  0.00000                     0.000066   \n1                  0.00034                     0.000033   \n2                  0.00034                     0.000033   \n3                  0.00034                     0.000033   \n4                  0.00000                     0.000066   \n\n    Total Length of Bwd Packets   Fwd Packet Length Max  \\\n0                      0.000000                0.000514   \n1                      0.000001                0.000514   \n2                      0.000001                0.000514   \n3                      0.000001                0.000514   \n4                      0.000000                0.000514   \n\n    Fwd Packet Length Min   Fwd Packet Length Mean   Fwd Packet Length Std  \\\n0                0.004076                 0.001552                     0.0   \n1                0.004076                 0.001552                     0.0   \n2                0.004076                 0.001552                     0.0   \n3                0.004076                 0.001552                     0.0   \n4                0.004076                 0.001552                     0.0   \n\n   ...   min_seg_size_forward  Active Mean   Active Std   Active Max  \\\n0  ...               0.384615          0.0          0.0          0.0   \n1  ...               0.384615          0.0          0.0          0.0   \n2  ...               0.384615          0.0          0.0          0.0   \n3  ...               0.384615          0.0          0.0          0.0   \n4  ...               0.384615          0.0          0.0          0.0   \n\n    Active Min  Idle Mean   Idle Std   Idle Max   Idle Min   Label  \n0          0.0        0.0        0.0        0.0        0.0     0.0  \n1          0.0        0.0        0.0        0.0        0.0     0.0  \n2          0.0        0.0        0.0        0.0        0.0     0.0  \n3          0.0        0.0        0.0        0.0        0.0     0.0  \n4          0.0        0.0        0.0        0.0        0.0     0.0  \n\n[5 rows x 79 columns]",
            "text/html": "<div>\n<style scoped>\n    .dataframe tbody tr th:only-of-type {\n        vertical-align: middle;\n    }\n\n    .dataframe tbody tr th {\n        vertical-align: top;\n    }\n\n    .dataframe thead th {\n        text-align: right;\n    }\n</style>\n<table border=\"1\" class=\"dataframe\">\n  <thead>\n    <tr style=\"text-align: right;\">\n      <th></th>\n      <th>Destination Port</th>\n      <th>Flow Duration</th>\n      <th>Total Fwd Packets</th>\n      <th>Total Backward Packets</th>\n      <th>Total Length of Fwd Packets</th>\n      <th>Total Length of Bwd Packets</th>\n      <th>Fwd Packet Length Max</th>\n      <th>Fwd Packet Length Min</th>\n      <th>Fwd Packet Length Mean</th>\n      <th>Fwd Packet Length Std</th>\n      <th>...</th>\n      <th>min_seg_size_forward</th>\n      <th>Active Mean</th>\n      <th>Active Std</th>\n      <th>Active Max</th>\n      <th>Active Min</th>\n      <th>Idle Mean</th>\n      <th>Idle Std</th>\n      <th>Idle Max</th>\n      <th>Idle Min</th>\n      <th>Label</th>\n    </tr>\n  </thead>\n  <tbody>\n    <tr>\n      <th>0</th>\n      <td>0.837225</td>\n      <td>3.333335e-08</td>\n      <td>0.000518</td>\n      <td>0.00000</td>\n      <td>0.000066</td>\n      <td>0.000000</td>\n      <td>0.000514</td>\n      <td>0.004076</td>\n      <td>0.001552</td>\n      <td>0.0</td>\n      <td>...</td>\n      <td>0.384615</td>\n      <td>0.0</td>\n      <td>0.0</td>\n      <td>0.0</td>\n      <td>0.0</td>\n      <td>0.0</td>\n      <td>0.0</td>\n      <td>0.0</td>\n      <td>0.0</td>\n      <td>0.0</td>\n    </tr>\n    <tr>\n      <th>1</th>\n      <td>0.840109</td>\n      <td>9.166671e-07</td>\n      <td>0.000000</td>\n      <td>0.00034</td>\n      <td>0.000033</td>\n      <td>0.000001</td>\n      <td>0.000514</td>\n      <td>0.004076</td>\n      <td>0.001552</td>\n      <td>0.0</td>\n      <td>...</td>\n      <td>0.384615</td>\n      <td>0.0</td>\n      <td>0.0</td>\n      <td>0.0</td>\n      <td>0.0</td>\n      <td>0.0</td>\n      <td>0.0</td>\n      <td>0.0</td>\n      <td>0.0</td>\n      <td>0.0</td>\n    </tr>\n    <tr>\n      <th>2</th>\n      <td>0.840124</td>\n      <td>4.416669e-07</td>\n      <td>0.000000</td>\n      <td>0.00034</td>\n      <td>0.000033</td>\n      <td>0.000001</td>\n      <td>0.000514</td>\n      <td>0.004076</td>\n      <td>0.001552</td>\n      <td>0.0</td>\n      <td>...</td>\n      <td>0.384615</td>\n      <td>0.0</td>\n      <td>0.0</td>\n      <td>0.0</td>\n      <td>0.0</td>\n      <td>0.0</td>\n      <td>0.0</td>\n      <td>0.0</td>\n      <td>0.0</td>\n      <td>0.0</td>\n    </tr>\n    <tr>\n      <th>3</th>\n      <td>0.705548</td>\n      <td>2.916668e-07</td>\n      <td>0.000000</td>\n      <td>0.00034</td>\n      <td>0.000033</td>\n      <td>0.000001</td>\n      <td>0.000514</td>\n      <td>0.004076</td>\n      <td>0.001552</td>\n      <td>0.0</td>\n      <td>...</td>\n      <td>0.384615</td>\n      <td>0.0</td>\n      <td>0.0</td>\n      <td>0.0</td>\n      <td>0.0</td>\n      <td>0.0</td>\n      <td>0.0</td>\n      <td>0.0</td>\n      <td>0.0</td>\n      <td>0.0</td>\n    </tr>\n    <tr>\n      <th>4</th>\n      <td>0.837194</td>\n      <td>3.333335e-08</td>\n      <td>0.000518</td>\n      <td>0.00000</td>\n      <td>0.000066</td>\n      <td>0.000000</td>\n      <td>0.000514</td>\n      <td>0.004076</td>\n      <td>0.001552</td>\n      <td>0.0</td>\n      <td>...</td>\n      <td>0.384615</td>\n      <td>0.0</td>\n      <td>0.0</td>\n      <td>0.0</td>\n      <td>0.0</td>\n      <td>0.0</td>\n      <td>0.0</td>\n      <td>0.0</td>\n      <td>0.0</td>\n      <td>0.0</td>\n    </tr>\n  </tbody>\n</table>\n<p>5 rows × 79 columns</p>\n</div>"
          },
          "metadata": {}
        }
      ],
      "execution_count": 6,
      "metadata": {
        "jupyter": {
          "source_hidden": false,
          "outputs_hidden": false
        },
        "nteract": {
          "transient": {
            "deleting": false
          }
        }
      }
    },
    {
      "cell_type": "code",
      "source": [
        "y_label = X.pop(' Label')\r\n",
        "y_label.head()"
      ],
      "outputs": [
        {
          "output_type": "execute_result",
          "execution_count": 7,
          "data": {
            "text/plain": "0    0.0\n1    0.0\n2    0.0\n3    0.0\n4    0.0\nName:  Label, dtype: float64"
          },
          "metadata": {}
        }
      ],
      "execution_count": 7,
      "metadata": {
        "jupyter": {
          "source_hidden": false,
          "outputs_hidden": false
        },
        "nteract": {
          "transient": {
            "deleting": false
          }
        }
      }
    },
    {
      "cell_type": "code",
      "source": [
        "import xgboost as xgb\r\n",
        "from xgboost import XGBRegressor\r\n",
        "from xgboost import plot_importance\r\n",
        "import matplotlib.pyplot as plt\r\n",
        "\r\n",
        "mod = xgb.XGBRegressor(objective ='reg:squarederror',max_depth = 5, n_estimators = 600)\r\n",
        "mod.fit(X, y_label)\r\n",
        "plot_importance(mod, max_num_features=30)\r\n",
        "plt.show()"
      ],
      "outputs": [],
      "execution_count": 37,
      "metadata": {
        "jupyter": {
          "source_hidden": false,
          "outputs_hidden": false
        },
        "nteract": {
          "transient": {
            "deleting": false
          }
        }
      }
    },
    {
      "cell_type": "code",
      "source": [
        "# Important Features\r\n",
        "from sklearn.ensemble import RandomForestRegressor\r\n",
        "\r\n",
        "# Create a random forest regressor\r\n",
        "reg = RandomForestRegressor(n_estimators=1000, random_state=0, n_jobs=-1)\r\n",
        "\r\n",
        "# Train the regressor\r\n",
        "reg.fit(X, y_label)\r\n",
        "\r\n",
        "x = {}\r\n",
        "# Print the name and gini importance of each feature\r\n",
        "for feature in zip(list(X.columns), reg.feature_importances_):\r\n",
        "    print(feature)\r\n",
        "    x[feature[0]] = feature[1]"
      ],
      "outputs": [
        {
          "output_type": "stream",
          "name": "stdout",
          "text": "(' Destination Port', 0.0012500850310623553)\n(' Flow Duration', 9.311809013608722e-06)\n(' Total Fwd Packets', 2.4926433213716797e-05)\n(' Total Backward Packets', 3.1882093523821206e-05)\n('Total Length of Fwd Packets', 0.2116241868089053)\n(' Total Length of Bwd Packets', 3.7859202171811444e-06)\n(' Fwd Packet Length Max', 0.5735564172211007)\n(' Fwd Packet Length Min', 1.8685939087991304e-06)\n(' Fwd Packet Length Mean', 1.0409741081298226e-05)\n(' Fwd Packet Length Std', 3.745492776920816e-05)\n('Bwd Packet Length Max', 8.524216681600004e-06)\n(' Bwd Packet Length Min', 0.00027614618709888587)\n(' Bwd Packet Length Mean', 0.00026157486584077705)\n(' Bwd Packet Length Std', 5.149368581706075e-06)\n('Flow Bytes/s', 9.867593145116227e-06)\n(' Flow Packets/s', 1.0316707945163388e-05)\n(' Flow IAT Mean', 1.911751046808292e-05)\n(' Flow IAT Std', 1.1542762752259564e-05)\n(' Flow IAT Max', 1.3896841456631209e-05)\n(' Flow IAT Min', 0.00015916330599274173)\n('Fwd IAT Total', 1.3437079525014172e-05)\n(' Fwd IAT Mean', 2.8398817022349045e-05)\n(' Fwd IAT Std', 0.0001235806477975582)\n(' Fwd IAT Max', 1.4884724403559053e-05)\n(' Fwd IAT Min', 8.976334401398955e-05)\n('Bwd IAT Total', 8.190071797967083e-05)\n(' Bwd IAT Mean', 8.48364081988363e-05)\n(' Bwd IAT Std', 5.307884188380333e-07)\n(' Bwd IAT Max', 1.9773074115977263e-05)\n(' Bwd IAT Min', 1.1009523718648455e-05)\n('Fwd PSH Flags', 0.0)\n(' Bwd PSH Flags', 0.0)\n(' Fwd URG Flags', 0.0)\n(' Bwd URG Flags', 0.0)\n(' Fwd Header Length', 2.9143315716854927e-05)\n(' Bwd Header Length', 0.00011391531630611622)\n('Fwd Packets/s', 9.981861709207953e-06)\n(' Bwd Packets/s', 0.0002082166929184339)\n(' Min Packet Length', 2.1402183113439304e-06)\n(' Max Packet Length', 1.2177764692426683e-05)\n(' Packet Length Mean', 4.487275870425603e-05)\n(' Packet Length Std', 1.3712021581961838e-05)\n(' Packet Length Variance', 1.3519178802571052e-05)\n('FIN Flag Count', 0.00026620493975256605)\n(' SYN Flag Count', 0.0)\n(' RST Flag Count', 0.0)\n(' PSH Flag Count', 4.3005098899322884e-08)\n(' ACK Flag Count', 2.052053312155544e-05)\n(' URG Flag Count', 1.3166605279610523e-05)\n(' CWE Flag Count', 0.0)\n(' ECE Flag Count', 0.0)\n(' Down/Up Ratio', 3.149610303219756e-05)\n(' Average Packet Size', 4.766857574701743e-05)\n(' Avg Fwd Segment Size', 9.57424517234508e-06)\n(' Avg Bwd Segment Size', 0.0002765437498735165)\n(' Fwd Header Length.1', 2.587178792354002e-05)\n('Fwd Avg Bytes/Bulk', 0.0)\n(' Fwd Avg Packets/Bulk', 0.0)\n(' Fwd Avg Bulk Rate', 0.0)\n(' Bwd Avg Bytes/Bulk', 0.0)\n(' Bwd Avg Packets/Bulk', 0.0)\n('Bwd Avg Bulk Rate', 0.0)\n('Subflow Fwd Packets', 2.4038304121222735e-05)\n(' Subflow Fwd Bytes', 0.20832371809685324)\n(' Subflow Bwd Packets', 3.446802491101326e-05)\n(' Subflow Bwd Bytes', 4.388069941496198e-06)\n('Init_Win_bytes_forward', 0.0021599773195959985)\n(' Init_Win_bytes_backward', 0.0004439125877168295)\n(' act_data_pkt_fwd', 3.053354178141201e-05)\n(' min_seg_size_forward', 9.355969557003127e-07)\n('Active Mean', 1.2799270530355324e-06)\n(' Active Std', 1.421874659490217e-05)\n(' Active Max', 1.6515080865056966e-06)\n(' Active Min', 1.1759269048016068e-06)\n('Idle Mean', 2.953408994283274e-06)\n(' Idle Std', 4.477202975365568e-07)\n(' Idle Max', 4.9909587571008125e-06)\n(' Idle Min', 1.8798522737059075e-05)\n"
        }
      ],
      "execution_count": 33,
      "metadata": {
        "jupyter": {
          "source_hidden": false,
          "outputs_hidden": false
        },
        "nteract": {
          "transient": {
            "deleting": false
          }
        }
      }
    },
    {
      "cell_type": "code",
      "source": [
        "# Create training & testing datasets\r\n",
        "from sklearn.metrics import PrecisionRecallDisplay\r\n",
        "from sklearn.metrics import confusion_matrix\r\n",
        "from sklearn.model_selection import KFold\r\n",
        "kf = KFold(n_splits=5)\r\n",
        "\r\n",
        "# Confusion Matrix\r\n",
        "# Precision & Recall\r\n",
        "# plot num of bins vs. accuracy, against no bin approach\r\n",
        "# Use other datasets"
      ],
      "outputs": [],
      "execution_count": 8,
      "metadata": {
        "jupyter": {
          "source_hidden": false,
          "outputs_hidden": false
        },
        "nteract": {
          "transient": {
            "deleting": false
          }
        }
      }
    },
    {
      "cell_type": "markdown",
      "source": [
        "# Using Machine Learning to predict DDos attack\r\n",
        "created two different classification models, a Support Vector Machine (SVM) and Multilayer Perceptron (MLP) neural network. \r\n",
        "These models will be used as baselines for validating the discretization of the features.\r\n",
        "\r\n",
        "**SVM accuracy score: 99.8%**\r\n",
        "\r\n",
        "**MLP accuracy score: 99.9%**"
      ],
      "metadata": {
        "nteract": {
          "transient": {
            "deleting": false
          }
        }
      }
    },
    {
      "cell_type": "code",
      "source": [
        "# Support Vector Machine\r\n",
        "from sklearn.svm import LinearSVC\r\n",
        "linear_SVC = LinearSVC(random_state=0, tol=1e-5)\r\n",
        "for train, test in kf.split(X):\r\n",
        "    X_train, X_test, y_train, y_test = np.array(X), np.array(X), np.array(y_label), np.array(y_label) \r\n",
        "    linear_SVC.fit(X_train[train], y_train[train])\r\n",
        "    accuracy = linear_SVC.score(X_test[test], y_test[test])\r\n",
        "    print(f'train: {train},\\n test: {test},\\n Accuracy Score: {accuracy},\\n Confusion Matrix:\\n{confusion_matrix(y_test[test], linear_SVC.predict(X_test[test]))}\\n')\r\n",
        "    display = PrecisionRecallDisplay.from_estimator(linear_SVC, X_test[test], y_test[test], name=\"LinearSVC\")   \r\n",
        "    _ = display.ax_.set_title(\"2-class Precision-Recall curve\")"
      ],
      "outputs": [
        {
          "output_type": "stream",
          "name": "stdout",
          "text": "train: [ 45143  45144  45145 ... 225708 225709 225710],\n test: [    0     1     2 ... 45140 45141 45142],\n Accuracy Score: 0.984183594355714,\n Confusion Matrix:\n[[25076   708]\n [    6 19353]]\n\ntrain: [     0      1      2 ... 225708 225709 225710],\n test: [45143 45144 45145 ... 90282 90283 90284],\n Accuracy Score: 0.9979619866199991,\n Confusion Matrix:\n[[11190    86]\n [    6 33860]]\n\ntrain: [     0      1      2 ... 225708 225709 225710],\n test: [ 90285  90286  90287 ... 135424 135425 135426],\n Accuracy Score: 0.9987594701165212,\n Confusion Matrix:\n[[11594    48]\n [    8 33492]]\n\ntrain: [     0      1      2 ... 225708 225709 225710],\n test: [135427 135428 135429 ... 180566 180567 180568],\n Accuracy Score: 0.9970758938460856,\n Confusion Matrix:\n[[15083   124]\n [    8 29927]]\n\ntrain: [     0      1      2 ... 180566 180567 180568],\n test: [180569 180570 180571 ... 225708 225709 225710],\n Accuracy Score: 0.9692082761065084,\n Confusion Matrix:\n[[32430  1347]\n [   43 11322]]\n\n"
        }
      ],
      "execution_count": 9,
      "metadata": {
        "jupyter": {
          "source_hidden": false,
          "outputs_hidden": false
        },
        "nteract": {
          "transient": {
            "deleting": false
          }
        }
      }
    },
    {
      "cell_type": "code",
      "source": [],
      "outputs": [],
      "execution_count": null,
      "metadata": {
        "jupyter": {
          "source_hidden": false,
          "outputs_hidden": false
        },
        "nteract": {
          "transient": {
            "deleting": false
          }
        }
      }
    },
    {
      "cell_type": "code",
      "source": [
        "# MLP Neural Net\r\n",
        "from sklearn.neural_network import MLPClassifier\r\n",
        "mlp_clf = MLPClassifier(random_state=1, max_iter=300)\r\n",
        "for train, test in kf.split(X):\r\n",
        "    X_train, X_test, y_train, y_test = np.array(X), np.array(X), np.array(y_label), np.array(y_label) \r\n",
        "    mlp_clf.fit(X_train[train], y_train[train])\r\n",
        "    accuracy = mlp_clf.score(X_test[test], y_test[test])\r\n",
        "    loss = mlp_clf.loss_\r\n",
        "    print(f'train: {train},\\n test: {test},\\n Loss: {loss},\\n Accuracy Score: {accuracy},\\n Confusion Matrix:\\n{confusion_matrix(y_test[test], linear_SVC.predict(X_test[test]))}\\n')"
      ],
      "outputs": [
        {
          "output_type": "stream",
          "name": "stdout",
          "text": "train: [ 45143  45144  45145 ... 225708 225709 225710],\n test: [    0     1     2 ... 45140 45141 45142],\n Loss: 0.0028523110895046794,\n Accuracy Score: 0.9995569634273309,\n Confusion Matrix:\n[[25063   721]\n [    1 19358]]\n\ntrain: [     0      1      2 ... 225708 225709 225710],\n test: [45143 45144 45145 ... 90282 90283 90284],\n Loss: 0.003271555761231856,\n Accuracy Score: 0.9996234105710868,\n Confusion Matrix:\n[[11187    89]\n [    2 33864]]\n\ntrain: [     0      1      2 ... 225708 225709 225710],\n test: [ 90285  90286  90287 ... 135424 135425 135426],\n Loss: 0.0029955093919307985,\n Accuracy Score: 0.9998227814452173,\n Confusion Matrix:\n[[11589    53]\n [    7 33493]]\n\ntrain: [     0      1      2 ... 225708 225709 225710],\n test: [135427 135428 135429 ... 180566 180567 180568],\n Loss: 0.003075748512062097,\n Accuracy Score: 0.9997784768065217,\n Confusion Matrix:\n[[15079   128]\n [    2 29933]]\n\ntrain: [     0      1      2 ... 180566 180567 180568],\n test: [180569 180570 180571 ... 225708 225709 225710],\n Loss: 0.0032582107615120306,\n Accuracy Score: 0.9987373177971733,\n Confusion Matrix:\n[[32430  1347]\n [   43 11322]]\n\n"
        }
      ],
      "execution_count": 10,
      "metadata": {
        "jupyter": {
          "source_hidden": false,
          "outputs_hidden": false
        },
        "nteract": {
          "transient": {
            "deleting": false
          }
        }
      }
    },
    {
      "cell_type": "markdown",
      "source": [
        "# Discretized Dataset\r\n",
        "Discretize the same dataset, and run the same models to validate that the predicts can still be acheived using discretized data.\r\n",
        "\r\n",
        "### Bin=5\r\n",
        "\r\n",
        "**SVM accuracy score: 99.8%**\r\n",
        "\r\n",
        "![](https://ml.azure.com/fileexplorerAzNB?wsid=/subscriptions/5b3eabf8-5525-4f24-b0aa-fc389f2fb155/resourcegroups/patrickday/workspaces/ml_workspace_patrickday&tid=72f988bf-86f1-41af-91ab-2d7cd011db47&activeFilePath=Users/patrickday/data/images/SVM_binned.png)\r\n",
        "\r\n",
        "**MLP accuracy score: 98.7%**"
      ],
      "metadata": {
        "nteract": {
          "transient": {
            "deleting": false
          }
        }
      }
    },
    {
      "cell_type": "code",
      "source": [
        "import warnings\r\n",
        "warnings.filterwarnings('ignore')\r\n",
        "from sklearn.preprocessing import KBinsDiscretizer\r\n",
        "\r\n",
        "discrete5 = KBinsDiscretizer(n_bins=5, encode='ordinal', strategy='uniform')\r\n",
        "discrete10 = KBinsDiscretizer(n_bins=10, encode='ordinal', strategy='uniform')\r\n",
        "discrete15 = KBinsDiscretizer(n_bins=15, encode='ordinal', strategy='uniform')\r\n",
        "discrete20 = KBinsDiscretizer(n_bins=20, encode='ordinal', strategy='uniform')\r\n",
        "discrete25 = KBinsDiscretizer(n_bins=25, encode='ordinal', strategy='uniform')\r\n",
        "\r\n",
        "svm_bin_accuracy = {'5bins': 0, '10bins': 0, '15bins': 0, '20bins': 0, '25bins': 0}\r\n",
        "mlp_bin_accuracy = {'5bins': 0, '10bins': 0, '15bins': 0, '20bins': 0, '25bins': 0}"
      ],
      "outputs": [],
      "execution_count": 11,
      "metadata": {
        "jupyter": {
          "source_hidden": false,
          "outputs_hidden": false
        },
        "nteract": {
          "transient": {
            "deleting": false
          }
        }
      }
    },
    {
      "cell_type": "markdown",
      "source": [],
      "metadata": {
        "nteract": {
          "transient": {
            "deleting": false
          }
        }
      }
    },
    {
      "cell_type": "code",
      "source": [
        "# SVM 5 bins\r\n",
        "linear_SVC2 = LinearSVC(random_state=0, tol=1e-5)\r\n",
        "for train, test in kf.split(X):\r\n",
        "    X_train, X_test, y_train, y_test = np.array(X), np.array(X), np.array(y_label), np.array(y_label) \r\n",
        "    Xbin_train = discrete5.fit_transform(X_train)\r\n",
        "    Xbin_test = discrete5.fit_transform(X_test)\r\n",
        "    linear_SVC2.fit(Xbin_train[train], y_train[train])\r\n",
        "    accuracy = linear_SVC2.score(Xbin_test[test], y_test[test])\r\n",
        "    if(svm_bin_accuracy['5bins'] > accuracy):\r\n",
        "        continue\r\n",
        "    else:\r\n",
        "        svm_bin_accuracy['5bins'] = accuracy\r\n",
        "    print(f'train: {train},\\n test: {test},\\n Accuracy Score: {accuracy},\\n Confusion Matrix:\\n{confusion_matrix(y_test[test], linear_SVC.predict(X_test[test]))}\\n')"
      ],
      "outputs": [
        {
          "output_type": "stream",
          "name": "stdout",
          "text": "train: [ 45143  45144  45145 ... 225708 225709 225710],\n test: [    0     1     2 ... 45140 45141 45142],\n Accuracy Score: 0.9807943645747956,\n Confusion Matrix:\n[[25063   721]\n [    1 19358]]\n\ntrain: [     0      1      2 ... 225708 225709 225710],\n test: [45143 45144 45145 ... 90282 90283 90284],\n Accuracy Score: 0.9977404634265208,\n Confusion Matrix:\n[[11187    89]\n [    2 33864]]\n\ntrain: [     0      1      2 ... 225708 225709 225710],\n test: [ 90285  90286  90287 ... 135424 135425 135426],\n Accuracy Score: 0.9983607283682602,\n Confusion Matrix:\n[[11589    53]\n [    7 33493]]\n\n"
        }
      ],
      "execution_count": 12,
      "metadata": {
        "jupyter": {
          "source_hidden": false,
          "outputs_hidden": false
        },
        "nteract": {
          "transient": {
            "deleting": false
          }
        }
      }
    },
    {
      "cell_type": "code",
      "source": [
        "svm_bin_accuracy"
      ],
      "outputs": [
        {
          "output_type": "execute_result",
          "execution_count": 13,
          "data": {
            "text/plain": "{'5bins': 0.9983607283682602,\n '10bins': 0,\n '15bins': 0,\n '20bins': 0,\n '25bins': 0}"
          },
          "metadata": {}
        }
      ],
      "execution_count": 13,
      "metadata": {
        "jupyter": {
          "source_hidden": false,
          "outputs_hidden": false
        },
        "nteract": {
          "transient": {
            "deleting": false
          }
        }
      }
    },
    {
      "cell_type": "code",
      "source": [
        "# MLP Neural Net 5 bins\r\n",
        "mlp_clf2 = MLPClassifier(random_state=1, max_iter=300)\r\n",
        "for train, test in kf.split(X):\r\n",
        "    X_train, X_test, y_train, y_test = np.array(X), np.array(X), np.array(y_label), np.array(y_label)\r\n",
        "    Xbin_train = discrete5.fit_transform(X_train)\r\n",
        "    Xbin_test = discrete5.fit_transform(X_test) \r\n",
        "    mlp_clf2.fit(Xbin_train[train], y_train[train])\r\n",
        "    accuracy = mlp_clf2.score(Xbin_test[test], y_test[test])\r\n",
        "    loss = mlp_clf2.loss_\r\n",
        "    if(mlp_bin_accuracy['5bins'] > accuracy):\r\n",
        "        continue\r\n",
        "    else:\r\n",
        "        mlp_bin_accuracy['5bins'] = accuracy\r\n",
        "    print(f'train: {train},\\n test: {test},\\n layer size: {mlp_clf2.hidden_layer_sizes},\\n Loss: {loss},\\n Accuracy Score: {accuracy}\\n Confusion Matrix:\\n{confusion_matrix(y_test[test], linear_SVC.predict(X_test[test]))}\\n')"
      ],
      "outputs": [
        {
          "output_type": "stream",
          "name": "stdout",
          "text": "train: [ 45143  45144  45145 ... 225708 225709 225710],\n test: [    0     1     2 ... 45140 45141 45142],\n layer size: (100,),\n Loss: 0.04479286111909361,\n Accuracy Score: 0.9807500609175287\n Confusion Matrix:\n[[25063   721]\n [    1 19358]]\n\ntrain: [     0      1      2 ... 225708 225709 225710],\n test: [45143 45144 45145 ... 90282 90283 90284],\n layer size: (100,),\n Loss: 0.054733288153976094,\n Accuracy Score: 0.9977847680652164\n Confusion Matrix:\n[[11187    89]\n [    2 33864]]\n\ntrain: [     0      1      2 ... 225708 225709 225710],\n test: [ 90285  90286  90287 ... 135424 135425 135426],\n layer size: (100,),\n Loss: 0.054994719793026475,\n Accuracy Score: 0.9984050330069558\n Confusion Matrix:\n[[11589    53]\n [    7 33493]]\n\n"
        }
      ],
      "execution_count": 14,
      "metadata": {
        "jupyter": {
          "source_hidden": false,
          "outputs_hidden": false
        },
        "nteract": {
          "transient": {
            "deleting": false
          }
        }
      }
    },
    {
      "cell_type": "code",
      "source": [
        "mlp_bin_accuracy"
      ],
      "outputs": [
        {
          "output_type": "execute_result",
          "execution_count": 15,
          "data": {
            "text/plain": "{'5bins': 0.9984050330069558,\n '10bins': 0,\n '15bins': 0,\n '20bins': 0,\n '25bins': 0}"
          },
          "metadata": {}
        }
      ],
      "execution_count": 15,
      "metadata": {
        "jupyter": {
          "source_hidden": false,
          "outputs_hidden": false
        },
        "nteract": {
          "transient": {
            "deleting": false
          }
        }
      }
    },
    {
      "cell_type": "markdown",
      "source": [
        "### Bins = 10\r\n",
        "\r\n",
        " **SVM Accuracy: 99.87**\r\n",
        "\r\n",
        "**MLP Accuracy: 99.84**"
      ],
      "metadata": {
        "nteract": {
          "transient": {
            "deleting": false
          }
        }
      }
    },
    {
      "cell_type": "code",
      "source": [
        "# SVM 10bins\r\n",
        "linear_SVC2 = LinearSVC(random_state=0, tol=1e-5)\r\n",
        "for train, test in kf.split(X):\r\n",
        "    X_train, X_test, y_train, y_test = np.array(X), np.array(X), np.array(y_label), np.array(y_label) \r\n",
        "    Xbin_train = discrete10.fit_transform(X_train)\r\n",
        "    Xbin_test = discrete10.fit_transform(X_test)\r\n",
        "    linear_SVC2.fit(Xbin_train[train], y_train[train])\r\n",
        "    accuracy = linear_SVC2.score(Xbin_test[test], y_test[test])\r\n",
        "    if(svm_bin_accuracy['10bins'] > accuracy):\r\n",
        "        continue\r\n",
        "    else:\r\n",
        "        svm_bin_accuracy['10bins'] = accuracy\r\n",
        "    print(f'train: {train},\\n test: {test},\\n Accuracy Score: {accuracy},\\n Confusion Matrix:\\n{confusion_matrix(y_test[test], linear_SVC.predict(X_test[test]))}\\n')"
      ],
      "outputs": [
        {
          "output_type": "stream",
          "name": "stdout",
          "text": "train: [ 45143  45144  45145 ... 225708 225709 225710],\n test: [    0     1     2 ... 45140 45141 45142],\n Accuracy Score: 0.9843829608134151,\n Confusion Matrix:\n[[25063   721]\n [    1 19358]]\n\ntrain: [     0      1      2 ... 225708 225709 225710],\n test: [45143 45144 45145 ... 90282 90283 90284],\n Accuracy Score: 0.9980949005360862,\n Confusion Matrix:\n[[11187    89]\n [    2 33864]]\n\ntrain: [     0      1      2 ... 225708 225709 225710],\n test: [ 90285  90286  90287 ... 135424 135425 135426],\n Accuracy Score: 0.9987373177971733,\n Confusion Matrix:\n[[11589    53]\n [    7 33493]]\n\n"
        }
      ],
      "execution_count": 16,
      "metadata": {
        "jupyter": {
          "source_hidden": false,
          "outputs_hidden": false
        },
        "nteract": {
          "transient": {
            "deleting": false
          }
        }
      }
    },
    {
      "cell_type": "code",
      "source": [
        "svm_bin_accuracy"
      ],
      "outputs": [
        {
          "output_type": "execute_result",
          "execution_count": 17,
          "data": {
            "text/plain": "{'5bins': 0.9983607283682602,\n '10bins': 0.9987373177971733,\n '15bins': 0,\n '20bins': 0,\n '25bins': 0}"
          },
          "metadata": {}
        }
      ],
      "execution_count": 17,
      "metadata": {
        "jupyter": {
          "source_hidden": false,
          "outputs_hidden": false
        },
        "nteract": {
          "transient": {
            "deleting": false
          }
        }
      }
    },
    {
      "cell_type": "code",
      "source": [
        "# MLP Neural Net 10 bins\r\n",
        "mlp_clf2 = MLPClassifier(random_state=1, max_iter=300)\r\n",
        "for train, test in kf.split(X):\r\n",
        "    X_train, X_test, y_train, y_test = np.array(X), np.array(X), np.array(y_label), np.array(y_label)\r\n",
        "    Xbin_train = discrete10.fit_transform(X_train)\r\n",
        "    Xbin_test = discrete10.fit_transform(X_test) \r\n",
        "    mlp_clf2.fit(Xbin_train[train], y_train[train])\r\n",
        "    accuracy = mlp_clf2.score(Xbin_test[test], y_test[test])\r\n",
        "    loss = mlp_clf2.loss_\r\n",
        "    if(mlp_bin_accuracy['10bins'] > accuracy):\r\n",
        "        continue\r\n",
        "    else:\r\n",
        "        mlp_bin_accuracy['10bins'] = accuracy\r\n",
        "    print(f'train: {train},\\n test: {test},\\n layer size: {mlp_clf2.hidden_layer_sizes},\\n Loss: {loss},\\n Accuracy Score: {accuracy}\\n Confusion Matrix:\\n{confusion_matrix(y_test[test], linear_SVC.predict(X_test[test]))}\\n')"
      ],
      "outputs": [
        {
          "output_type": "stream",
          "name": "stdout",
          "text": "train: [ 45143  45144  45145 ... 225708 225709 225710],\n test: [    0     1     2 ... 45140 45141 45142],\n layer size: (100,),\n Loss: 0.03734193982732556,\n Accuracy Score: 0.9846487827570166\n Confusion Matrix:\n[[25063   721]\n [    1 19358]]\n\ntrain: [     0      1      2 ... 225708 225709 225710],\n test: [45143 45144 45145 ... 90282 90283 90284],\n layer size: (100,),\n Loss: 0.045926979495372985,\n Accuracy Score: 0.9979176819813035\n Confusion Matrix:\n[[11187    89]\n [    2 33864]]\n\ntrain: [     0      1      2 ... 225708 225709 225710],\n test: [ 90285  90286  90287 ... 135424 135425 135426],\n layer size: (100,),\n Loss: 0.046413336709528887,\n Accuracy Score: 0.9987594701165212\n Confusion Matrix:\n[[11589    53]\n [    7 33493]]\n\n"
        }
      ],
      "execution_count": 18,
      "metadata": {
        "jupyter": {
          "source_hidden": false,
          "outputs_hidden": false
        },
        "nteract": {
          "transient": {
            "deleting": false
          }
        }
      }
    },
    {
      "cell_type": "code",
      "source": [
        "mlp_bin_accuracy"
      ],
      "outputs": [
        {
          "output_type": "execute_result",
          "execution_count": 19,
          "data": {
            "text/plain": "{'5bins': 0.9984050330069558,\n '10bins': 0.9987594701165212,\n '15bins': 0,\n '20bins': 0,\n '25bins': 0}"
          },
          "metadata": {}
        }
      ],
      "execution_count": 19,
      "metadata": {
        "jupyter": {
          "source_hidden": false,
          "outputs_hidden": false
        },
        "nteract": {
          "transient": {
            "deleting": false
          }
        }
      }
    },
    {
      "cell_type": "markdown",
      "source": [
        "### Bins = 15\r\n",
        "\r\n",
        " **SVM Accuracy: 99.85**\r\n",
        "\r\n",
        "**MLP Accuracy: 99.88**"
      ],
      "metadata": {
        "nteract": {
          "transient": {
            "deleting": false
          }
        }
      }
    },
    {
      "cell_type": "code",
      "source": [
        "# SVM 15 bins\r\n",
        "linear_SVC2 = LinearSVC(random_state=0, tol=1e-5)\r\n",
        "for train, test in kf.split(X):\r\n",
        "    X_train, X_test, y_train, y_test = np.array(X), np.array(X), np.array(y_label), np.array(y_label) \r\n",
        "    Xbin_train = discrete15.fit_transform(X_train)\r\n",
        "    Xbin_test = discrete15.fit_transform(X_test)\r\n",
        "    linear_SVC2.fit(Xbin_train[train], y_train[train])\r\n",
        "    accuracy = linear_SVC2.score(Xbin_test[test], y_test[test])\r\n",
        "    if(svm_bin_accuracy['15bins'] > accuracy):\r\n",
        "        continue\r\n",
        "    else:\r\n",
        "        svm_bin_accuracy['15bins'] = accuracy\r\n",
        "    print(f'train: {train},\\n test: {test},\\n Accuracy Score: {accuracy},\\n Confusion Matrix:\\n{confusion_matrix(y_test[test], linear_SVC.predict(X_test[test]))}\\n')"
      ],
      "outputs": [
        {
          "output_type": "stream",
          "name": "stdout",
          "text": "train: [ 45143  45144  45145 ... 225708 225709 225710],\n test: [    0     1     2 ... 45140 45141 45142],\n Accuracy Score: 0.9843386571561482,\n Confusion Matrix:\n[[25063   721]\n [    1 19358]]\n\ntrain: [     0      1      2 ... 225708 225709 225710],\n test: [45143 45144 45145 ... 90282 90283 90284],\n Accuracy Score: 0.998117052855434,\n Confusion Matrix:\n[[11187    89]\n [    2 33864]]\n\ntrain: [     0      1      2 ... 225708 225709 225710],\n test: [ 90285  90286  90287 ... 135424 135425 135426],\n Accuracy Score: 0.998515794603695,\n Confusion Matrix:\n[[11589    53]\n [    7 33493]]\n\n"
        }
      ],
      "execution_count": 20,
      "metadata": {
        "jupyter": {
          "source_hidden": false,
          "outputs_hidden": false
        },
        "nteract": {
          "transient": {
            "deleting": false
          }
        }
      }
    },
    {
      "cell_type": "code",
      "source": [
        "svm_bin_accuracy"
      ],
      "outputs": [
        {
          "output_type": "execute_result",
          "execution_count": 21,
          "data": {
            "text/plain": "{'5bins': 0.9983607283682602,\n '10bins': 0.9987373177971733,\n '15bins': 0.998515794603695,\n '20bins': 0,\n '25bins': 0}"
          },
          "metadata": {}
        }
      ],
      "execution_count": 21,
      "metadata": {
        "jupyter": {
          "source_hidden": false,
          "outputs_hidden": false
        },
        "nteract": {
          "transient": {
            "deleting": false
          }
        }
      }
    },
    {
      "cell_type": "code",
      "source": [
        "# MLP Neural Net 15 bins\r\n",
        "mlp_clf2 = MLPClassifier(random_state=1, max_iter=300)\r\n",
        "for train, test in kf.split(X):\r\n",
        "    X_train, X_test, y_train, y_test = np.array(X), np.array(X), np.array(y_label), np.array(y_label)\r\n",
        "    Xbin_train = discrete15.fit_transform(X_train)\r\n",
        "    Xbin_test = discrete15.fit_transform(X_test) \r\n",
        "    mlp_clf2.fit(Xbin_train[train], y_train[train])\r\n",
        "    accuracy = mlp_clf2.score(Xbin_test[test], y_test[test])\r\n",
        "    loss = mlp_clf2.loss_\r\n",
        "    if(mlp_bin_accuracy['15bins'] > accuracy):\r\n",
        "        continue\r\n",
        "    else:\r\n",
        "        mlp_bin_accuracy['15bins'] = accuracy\r\n",
        "    print(f'train: {train},\\n test: {test},\\n layer size: {mlp_clf2.hidden_layer_sizes},\\n Loss: {loss},\\n Accuracy Score: {accuracy}\\n Confusion Matrix:\\n{confusion_matrix(y_test[test], linear_SVC.predict(X_test[test]))}\\n')"
      ],
      "outputs": [
        {
          "output_type": "stream",
          "name": "stdout",
          "text": "train: [ 45143  45144  45145 ... 225708 225709 225710],\n test: [    0     1     2 ... 45140 45141 45142],\n layer size: (100,),\n Loss: 0.034049961508477014,\n Accuracy Score: 0.9846487827570166\n Confusion Matrix:\n[[25063   721]\n [    1 19358]]\n\ntrain: [     0      1      2 ... 225708 225709 225710],\n test: [45143 45144 45145 ... 90282 90283 90284],\n layer size: (100,),\n Loss: 0.04172045246193719,\n Accuracy Score: 0.9979176819813035\n Confusion Matrix:\n[[11187    89]\n [    2 33864]]\n\ntrain: [     0      1      2 ... 225708 225709 225710],\n test: [ 90285  90286  90287 ... 135424 135425 135426],\n layer size: (100,),\n Loss: 0.042247965646218785,\n Accuracy Score: 0.9988037747552169\n Confusion Matrix:\n[[11589    53]\n [    7 33493]]\n\n"
        }
      ],
      "execution_count": 22,
      "metadata": {
        "jupyter": {
          "source_hidden": false,
          "outputs_hidden": false
        },
        "nteract": {
          "transient": {
            "deleting": false
          }
        }
      }
    },
    {
      "cell_type": "code",
      "source": [
        "mlp_bin_accuracy"
      ],
      "outputs": [
        {
          "output_type": "execute_result",
          "execution_count": 23,
          "data": {
            "text/plain": "{'5bins': 0.9984050330069558,\n '10bins': 0.9987594701165212,\n '15bins': 0.9988037747552169,\n '20bins': 0,\n '25bins': 0}"
          },
          "metadata": {}
        }
      ],
      "execution_count": 23,
      "metadata": {
        "jupyter": {
          "source_hidden": false,
          "outputs_hidden": false
        },
        "nteract": {
          "transient": {
            "deleting": false
          }
        }
      }
    },
    {
      "cell_type": "markdown",
      "source": [
        "### Bins = 20\r\n",
        "\r\n",
        " **SVM Accuracy: 99.87**\r\n",
        "\r\n",
        "**MLP Accuracy: 99.85**"
      ],
      "metadata": {
        "nteract": {
          "transient": {
            "deleting": false
          }
        }
      }
    },
    {
      "cell_type": "code",
      "source": [
        "# SVM 20 bins\r\n",
        "linear_SVC2 = LinearSVC(random_state=0, tol=1e-5)\r\n",
        "for train, test in kf.split(X):\r\n",
        "    X_train, X_test, y_train, y_test = np.array(X), np.array(X), np.array(y_label), np.array(y_label) \r\n",
        "    Xbin_train = discrete20.fit_transform(X_train)\r\n",
        "    Xbin_test = discrete20.fit_transform(X_test)\r\n",
        "    linear_SVC2.fit(Xbin_train[train], y_train[train])\r\n",
        "    accuracy = linear_SVC2.score(Xbin_test[test], y_test[test])\r\n",
        "    if(svm_bin_accuracy['20bins'] > accuracy):\r\n",
        "        continue\r\n",
        "    else:\r\n",
        "        svm_bin_accuracy['20bins'] = accuracy\r\n",
        "    print(f'train: {train},\\n test: {test},\\n Accuracy Score: {accuracy},\\n Confusion Matrix:\\n{confusion_matrix(y_test[test], linear_SVC.predict(X_test[test]))}\\n')"
      ],
      "outputs": [
        {
          "output_type": "stream",
          "name": "stdout",
          "text": "train: [ 45143  45144  45145 ... 225708 225709 225710],\n test: [    0     1     2 ... 45140 45141 45142],\n Accuracy Score: 0.9842943534988813,\n Confusion Matrix:\n[[25063   721]\n [    1 19358]]\n\ntrain: [     0      1      2 ... 225708 225709 225710],\n test: [45143 45144 45145 ... 90282 90283 90284],\n Accuracy Score: 0.9978069203845643,\n Confusion Matrix:\n[[11187    89]\n [    2 33864]]\n\ntrain: [     0      1      2 ... 225708 225709 225710],\n test: [ 90285  90286  90287 ... 135424 135425 135426],\n Accuracy Score: 0.998648708519782,\n Confusion Matrix:\n[[11589    53]\n [    7 33493]]\n\n"
        }
      ],
      "execution_count": 24,
      "metadata": {
        "jupyter": {
          "source_hidden": false,
          "outputs_hidden": false
        },
        "nteract": {
          "transient": {
            "deleting": false
          }
        }
      }
    },
    {
      "cell_type": "code",
      "source": [
        "svm_bin_accuracy"
      ],
      "outputs": [
        {
          "output_type": "execute_result",
          "execution_count": 25,
          "data": {
            "text/plain": "{'5bins': 0.9983607283682602,\n '10bins': 0.9987373177971733,\n '15bins': 0.998515794603695,\n '20bins': 0.998648708519782,\n '25bins': 0}"
          },
          "metadata": {}
        }
      ],
      "execution_count": 25,
      "metadata": {
        "jupyter": {
          "source_hidden": false,
          "outputs_hidden": false
        },
        "nteract": {
          "transient": {
            "deleting": false
          }
        }
      }
    },
    {
      "cell_type": "code",
      "source": [
        "# MLP Neural Net 20 bins\r\n",
        "mlp_clf2 = MLPClassifier(random_state=1, max_iter=300)\r\n",
        "for train, test in kf.split(X):\r\n",
        "    X_train, X_test, y_train, y_test = np.array(X), np.array(X), np.array(y_label), np.array(y_label)\r\n",
        "    Xbin_train = discrete20.fit_transform(X_train)\r\n",
        "    Xbin_test = discrete20.fit_transform(X_test) \r\n",
        "    mlp_clf2.fit(Xbin_train[train], y_train[train])\r\n",
        "    accuracy = mlp_clf2.score(Xbin_test[test], y_test[test])\r\n",
        "    loss = mlp_clf2.loss_\r\n",
        "    if(mlp_bin_accuracy['20bins'] > accuracy):\r\n",
        "        continue\r\n",
        "    else:\r\n",
        "        mlp_bin_accuracy['20bins'] = accuracy\r\n",
        "    print(f'train: {train},\\n test: {test},\\n layer size: {mlp_clf2.hidden_layer_sizes},\\n Loss: {loss},\\n Accuracy Score: {accuracy}\\n Confusion Matrix:\\n{confusion_matrix(y_test[test], linear_SVC.predict(X_test[test]))}\\n')"
      ],
      "outputs": [
        {
          "output_type": "stream",
          "name": "stdout",
          "text": "train: [ 45143  45144  45145 ... 225708 225709 225710],\n test: [    0     1     2 ... 45140 45141 45142],\n layer size: (100,),\n Loss: 0.031632569859036105,\n Accuracy Score: 0.9842278980129809\n Confusion Matrix:\n[[25063   721]\n [    1 19358]]\n\ntrain: [     0      1      2 ... 225708 225709 225710],\n test: [45143 45144 45145 ... 90282 90283 90284],\n layer size: (100,),\n Loss: 0.0381527202181604,\n Accuracy Score: 0.9976518541491294\n Confusion Matrix:\n[[11187    89]\n [    2 33864]]\n\ntrain: [     0      1      2 ... 225708 225709 225710],\n test: [ 90285  90286  90287 ... 135424 135425 135426],\n layer size: (100,),\n Loss: 0.038399561837030916,\n Accuracy Score: 0.9987373177971733\n Confusion Matrix:\n[[11589    53]\n [    7 33493]]\n\n"
        }
      ],
      "execution_count": 26,
      "metadata": {
        "jupyter": {
          "source_hidden": false,
          "outputs_hidden": false
        },
        "nteract": {
          "transient": {
            "deleting": false
          }
        }
      }
    },
    {
      "cell_type": "code",
      "source": [
        "mlp_bin_accuracy"
      ],
      "outputs": [
        {
          "output_type": "execute_result",
          "execution_count": 27,
          "data": {
            "text/plain": "{'5bins': 0.9984050330069558,\n '10bins': 0.9987594701165212,\n '15bins': 0.9988037747552169,\n '20bins': 0.9987373177971733,\n '25bins': 0}"
          },
          "metadata": {}
        }
      ],
      "execution_count": 27,
      "metadata": {
        "jupyter": {
          "source_hidden": false,
          "outputs_hidden": false
        },
        "nteract": {
          "transient": {
            "deleting": false
          }
        }
      }
    },
    {
      "cell_type": "markdown",
      "source": [
        "### Bins = 25\r\n",
        "\r\n",
        " **SVM Accuracy: 99.82**\r\n",
        "\r\n",
        "**MLP Accuracy: 99.87**"
      ],
      "metadata": {
        "nteract": {
          "transient": {
            "deleting": false
          }
        }
      }
    },
    {
      "cell_type": "code",
      "source": [
        "# SVM 25 bins\r\n",
        "linear_SVC2 = LinearSVC(random_state=0, tol=1e-5)\r\n",
        "for train, test in kf.split(X):\r\n",
        "    X_train, X_test, y_train, y_test = np.array(X), np.array(X), np.array(y_label), np.array(y_label) \r\n",
        "    Xbin_train = discrete25.fit_transform(X_train)\r\n",
        "    Xbin_test = discrete25.fit_transform(X_test)\r\n",
        "    linear_SVC2.fit(Xbin_train[train], y_train[train])\r\n",
        "    accuracy = linear_SVC2.score(Xbin_test[test], y_test[test])\r\n",
        "    if(svm_bin_accuracy['25bins'] > accuracy):\r\n",
        "        continue\r\n",
        "    else:\r\n",
        "        svm_bin_accuracy['25bins'] = accuracy\r\n",
        "    print(f'train: {train},\\n test: {test},\\n Accuracy Score: {accuracy},\\n Confusion Matrix:\\n{confusion_matrix(y_test[test], linear_SVC.predict(X_test[test]))}\\n')"
      ],
      "outputs": [
        {
          "output_type": "stream",
          "name": "stdout",
          "text": "train: [ 45143  45144  45145 ... 225708 225709 225710],\n test: [    0     1     2 ... 45140 45141 45142],\n Accuracy Score: 0.9837848614403119,\n Confusion Matrix:\n[[25063   721]\n [    1 19358]]\n\ntrain: [     0      1      2 ... 225708 225709 225710],\n test: [45143 45144 45145 ... 90282 90283 90284],\n Accuracy Score: 0.9979176819813035,\n Confusion Matrix:\n[[11187    89]\n [    2 33864]]\n\ntrain: [     0      1      2 ... 225708 225709 225710],\n test: [ 90285  90286  90287 ... 135424 135425 135426],\n Accuracy Score: 0.9982721190908688,\n Confusion Matrix:\n[[11589    53]\n [    7 33493]]\n\n"
        }
      ],
      "execution_count": 28,
      "metadata": {
        "jupyter": {
          "source_hidden": false,
          "outputs_hidden": false
        },
        "nteract": {
          "transient": {
            "deleting": false
          }
        }
      }
    },
    {
      "cell_type": "code",
      "source": [
        "svm_bin_accuracy"
      ],
      "outputs": [
        {
          "output_type": "execute_result",
          "execution_count": 29,
          "data": {
            "text/plain": "{'5bins': 0.9983607283682602,\n '10bins': 0.9987373177971733,\n '15bins': 0.998515794603695,\n '20bins': 0.998648708519782,\n '25bins': 0.9982721190908688}"
          },
          "metadata": {}
        }
      ],
      "execution_count": 29,
      "metadata": {
        "jupyter": {
          "source_hidden": false,
          "outputs_hidden": false
        },
        "nteract": {
          "transient": {
            "deleting": false
          }
        }
      }
    },
    {
      "cell_type": "code",
      "source": [
        "# MLP Neural Net 25 bins\r\n",
        "mlp_clf2 = MLPClassifier(random_state=1, max_iter=300)\r\n",
        "for train, test in kf.split(X):\r\n",
        "    X_train, X_test, y_train, y_test = np.array(X), np.array(X), np.array(y_label), np.array(y_label)\r\n",
        "    Xbin_train = discrete25.fit_transform(X_train)\r\n",
        "    Xbin_test = discrete25.fit_transform(X_test) \r\n",
        "    mlp_clf2.fit(Xbin_train[train], y_train[train])\r\n",
        "    accuracy = mlp_clf2.score(Xbin_test[test], y_test[test])\r\n",
        "    loss = mlp_clf2.loss_\r\n",
        "    if(mlp_bin_accuracy['25bins'] > accuracy):\r\n",
        "        continue\r\n",
        "    else:\r\n",
        "        mlp_bin_accuracy['25bins'] = accuracy\r\n",
        "    print(f'train: {train},\\n test: {test},\\n layer size: {mlp_clf2.hidden_layer_sizes},\\n Loss: {loss},\\n Accuracy Score: {accuracy}\\n Confusion Matrix:\\n{confusion_matrix(y_test[test], linear_SVC.predict(X_test[test]))}\\n')"
      ],
      "outputs": [
        {
          "output_type": "stream",
          "name": "stdout",
          "text": "train: [ 45143  45144  45145 ... 225708 225709 225710],\n test: [    0     1     2 ... 45140 45141 45142],\n layer size: (100,),\n Loss: 0.029785363422394656,\n Accuracy Score: 0.98467093458565\n Confusion Matrix:\n[[25063   721]\n [    1 19358]]\n\ntrain: [     0      1      2 ... 225708 225709 225710],\n test: [45143 45144 45145 ... 90282 90283 90284],\n layer size: (100,),\n Loss: 0.035573994533043614,\n Accuracy Score: 0.9978955296619556\n Confusion Matrix:\n[[11187    89]\n [    2 33864]]\n\ntrain: [     0      1      2 ... 225708 225709 225710],\n test: [ 90285  90286  90287 ... 135424 135425 135426],\n layer size: (100,),\n Loss: 0.03612674970985028,\n Accuracy Score: 0.9987594701165212\n Confusion Matrix:\n[[11589    53]\n [    7 33493]]\n\n"
        }
      ],
      "execution_count": 30,
      "metadata": {
        "jupyter": {
          "source_hidden": false,
          "outputs_hidden": false
        },
        "nteract": {
          "transient": {
            "deleting": false
          }
        }
      }
    },
    {
      "cell_type": "code",
      "source": [
        "mlp_bin_accuracy"
      ],
      "outputs": [
        {
          "output_type": "execute_result",
          "execution_count": 31,
          "data": {
            "text/plain": "{'5bins': 0.9984050330069558,\n '10bins': 0.9987594701165212,\n '15bins': 0.9988037747552169,\n '20bins': 0.9987373177971733,\n '25bins': 0.9987594701165212}"
          },
          "metadata": {}
        }
      ],
      "execution_count": 31,
      "metadata": {
        "jupyter": {
          "source_hidden": false,
          "outputs_hidden": false
        },
        "nteract": {
          "transient": {
            "deleting": false
          }
        }
      }
    }
  ],
  "metadata": {
    "kernelspec": {
      "name": "python38-azureml",
      "language": "python",
      "display_name": "Python 3.8 - AzureML"
    },
    "language_info": {
      "name": "python",
      "version": "3.8.5",
      "mimetype": "text/x-python",
      "codemirror_mode": {
        "name": "ipython",
        "version": 3
      },
      "pygments_lexer": "ipython3",
      "nbconvert_exporter": "python",
      "file_extension": ".py"
    },
    "kernel_info": {
      "name": "python38-azureml"
    },
    "nteract": {
      "version": "nteract-front-end@1.0.0"
    }
  },
  "nbformat": 4,
  "nbformat_minor": 0
}