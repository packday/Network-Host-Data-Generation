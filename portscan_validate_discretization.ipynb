{
  "cells": [
    {
      "cell_type": "code",
      "source": [
        "import numpy as np\r\n",
        "import pandas as pd\r\n",
        "from sklearn.preprocessing import MinMaxScaler\r\n",
        "from sklearn.model_selection import train_test_split\r\n",
        "from sklearn.pipeline import Pipeline\r\n",
        "import tensorflow as tf\r\n",
        "from tensorflow import keras"
      ],
      "outputs": [],
      "execution_count": 2,
      "metadata": {}
    },
    {
      "cell_type": "markdown",
      "source": [
        "# Intrusion Detection Evaluation Dataset (CIC-IDS2017)\r\n",
        "### PortScan Attack Data\r\n",
        "\r\n",
        "Intrusion Detection Systems (IDSs) and Intrusion Prevention Systems (IPSs) are the most important defense tools against the sophisticated and ever-growing network attacks. Due to the lack of reliable test and validation datasets, anomaly-based intrusion detection approaches are suffering from consistent and accurate performance evolutions.\r\n",
        "\r\n",
        "[https://www.unb.ca/cic/datasets/ids-2017.html]\r\n"
      ],
      "metadata": {
        "nteract": {
          "transient": {
            "deleting": false
          }
        }
      }
    },
    {
      "cell_type": "code",
      "source": [
        "# Load Data\r\n",
        "df = pd.read_csv(\"data/CICIDS-2017/Friday-WorkingHours-Afternoon-PortScan.pcap_ISCX.csv\")\r\n",
        "X = df"
      ],
      "outputs": [],
      "execution_count": 3,
      "metadata": {
        "jupyter": {
          "source_hidden": false,
          "outputs_hidden": false
        },
        "nteract": {
          "transient": {
            "deleting": false
          }
        }
      }
    },
    {
      "cell_type": "code",
      "source": [
        "X.info()"
      ],
      "outputs": [
        {
          "output_type": "stream",
          "name": "stdout",
          "text": "<class 'pandas.core.frame.DataFrame'>\nRangeIndex: 286467 entries, 0 to 286466\nData columns (total 79 columns):\n #   Column                        Non-Null Count   Dtype  \n---  ------                        --------------   -----  \n 0    Destination Port             286467 non-null  int64  \n 1    Flow Duration                286467 non-null  int64  \n 2    Total Fwd Packets            286467 non-null  int64  \n 3    Total Backward Packets       286467 non-null  int64  \n 4   Total Length of Fwd Packets   286467 non-null  int64  \n 5    Total Length of Bwd Packets  286467 non-null  int64  \n 6    Fwd Packet Length Max        286467 non-null  int64  \n 7    Fwd Packet Length Min        286467 non-null  int64  \n 8    Fwd Packet Length Mean       286467 non-null  float64\n 9    Fwd Packet Length Std        286467 non-null  float64\n 10  Bwd Packet Length Max         286467 non-null  int64  \n 11   Bwd Packet Length Min        286467 non-null  int64  \n 12   Bwd Packet Length Mean       286467 non-null  float64\n 13   Bwd Packet Length Std        286467 non-null  float64\n 14  Flow Bytes/s                  286452 non-null  float64\n 15   Flow Packets/s               286467 non-null  float64\n 16   Flow IAT Mean                286467 non-null  float64\n 17   Flow IAT Std                 286467 non-null  float64\n 18   Flow IAT Max                 286467 non-null  int64  \n 19   Flow IAT Min                 286467 non-null  int64  \n 20  Fwd IAT Total                 286467 non-null  int64  \n 21   Fwd IAT Mean                 286467 non-null  float64\n 22   Fwd IAT Std                  286467 non-null  float64\n 23   Fwd IAT Max                  286467 non-null  int64  \n 24   Fwd IAT Min                  286467 non-null  int64  \n 25  Bwd IAT Total                 286467 non-null  int64  \n 26   Bwd IAT Mean                 286467 non-null  float64\n 27   Bwd IAT Std                  286467 non-null  float64\n 28   Bwd IAT Max                  286467 non-null  int64  \n 29   Bwd IAT Min                  286467 non-null  int64  \n 30  Fwd PSH Flags                 286467 non-null  int64  \n 31   Bwd PSH Flags                286467 non-null  int64  \n 32   Fwd URG Flags                286467 non-null  int64  \n 33   Bwd URG Flags                286467 non-null  int64  \n 34   Fwd Header Length            286467 non-null  int64  \n 35   Bwd Header Length            286467 non-null  int64  \n 36  Fwd Packets/s                 286467 non-null  float64\n 37   Bwd Packets/s                286467 non-null  float64\n 38   Min Packet Length            286467 non-null  int64  \n 39   Max Packet Length            286467 non-null  int64  \n 40   Packet Length Mean           286467 non-null  float64\n 41   Packet Length Std            286467 non-null  float64\n 42   Packet Length Variance       286467 non-null  float64\n 43  FIN Flag Count                286467 non-null  int64  \n 44   SYN Flag Count               286467 non-null  int64  \n 45   RST Flag Count               286467 non-null  int64  \n 46   PSH Flag Count               286467 non-null  int64  \n 47   ACK Flag Count               286467 non-null  int64  \n 48   URG Flag Count               286467 non-null  int64  \n 49   CWE Flag Count               286467 non-null  int64  \n 50   ECE Flag Count               286467 non-null  int64  \n 51   Down/Up Ratio                286467 non-null  int64  \n 52   Average Packet Size          286467 non-null  float64\n 53   Avg Fwd Segment Size         286467 non-null  float64\n 54   Avg Bwd Segment Size         286467 non-null  float64\n 55   Fwd Header Length.1          286467 non-null  int64  \n 56  Fwd Avg Bytes/Bulk            286467 non-null  int64  \n 57   Fwd Avg Packets/Bulk         286467 non-null  int64  \n 58   Fwd Avg Bulk Rate            286467 non-null  int64  \n 59   Bwd Avg Bytes/Bulk           286467 non-null  int64  \n 60   Bwd Avg Packets/Bulk         286467 non-null  int64  \n 61  Bwd Avg Bulk Rate             286467 non-null  int64  \n 62  Subflow Fwd Packets           286467 non-null  int64  \n 63   Subflow Fwd Bytes            286467 non-null  int64  \n 64   Subflow Bwd Packets          286467 non-null  int64  \n 65   Subflow Bwd Bytes            286467 non-null  int64  \n 66  Init_Win_bytes_forward        286467 non-null  int64  \n 67   Init_Win_bytes_backward      286467 non-null  int64  \n 68   act_data_pkt_fwd             286467 non-null  int64  \n 69   min_seg_size_forward         286467 non-null  int64  \n 70  Active Mean                   286467 non-null  float64\n 71   Active Std                   286467 non-null  float64\n 72   Active Max                   286467 non-null  int64  \n 73   Active Min                   286467 non-null  int64  \n 74  Idle Mean                     286467 non-null  float64\n 75   Idle Std                     286467 non-null  float64\n 76   Idle Max                     286467 non-null  int64  \n 77   Idle Min                     286467 non-null  int64  \n 78   Label                        286467 non-null  object \ndtypes: float64(24), int64(54), object(1)\nmemory usage: 172.7+ MB\n"
        }
      ],
      "execution_count": 4,
      "metadata": {
        "jupyter": {
          "source_hidden": false,
          "outputs_hidden": false
        },
        "nteract": {
          "transient": {
            "deleting": false
          }
        }
      }
    },
    {
      "cell_type": "code",
      "source": [
        "X[' Label'].unique()"
      ],
      "outputs": [
        {
          "output_type": "execute_result",
          "execution_count": 5,
          "data": {
            "text/plain": "array(['BENIGN', 'PortScan'], dtype=object)"
          },
          "metadata": {}
        }
      ],
      "execution_count": 5,
      "metadata": {
        "jupyter": {
          "source_hidden": false,
          "outputs_hidden": false
        },
        "nteract": {
          "transient": {
            "deleting": false
          }
        }
      }
    },
    {
      "cell_type": "code",
      "source": [
        "X.replace('BENIGN', 0, inplace=True)\r\n",
        "X.replace('PortScan', 1, inplace=True)"
      ],
      "outputs": [],
      "execution_count": 7,
      "metadata": {
        "jupyter": {
          "source_hidden": false,
          "outputs_hidden": false
        },
        "nteract": {
          "transient": {
            "deleting": false
          }
        }
      }
    },
    {
      "cell_type": "code",
      "source": [
        "X[' Label'].unique()"
      ],
      "outputs": [
        {
          "output_type": "execute_result",
          "execution_count": 8,
          "data": {
            "text/plain": "array([0, 1])"
          },
          "metadata": {}
        }
      ],
      "execution_count": 8,
      "metadata": {
        "jupyter": {
          "source_hidden": false,
          "outputs_hidden": false
        },
        "nteract": {
          "transient": {
            "deleting": false
          }
        }
      }
    },
    {
      "cell_type": "code",
      "source": [
        "# Clean Data\r\n",
        "if(np.any(np.isnan(X)) or np.all(np.isfinite(X))):\r\n",
        "    df.dropna(inplace=True)\r\n",
        "    indices_to_keep = ~df.isin([np.nan, np.inf, -np.inf]).any(1)\r\n",
        "    X = X[indices_to_keep]\r\n",
        "\r\n",
        "X.head()"
      ],
      "outputs": [
        {
          "output_type": "execute_result",
          "execution_count": 9,
          "data": {
            "text/plain": "    Destination Port   Flow Duration   Total Fwd Packets  \\\n0                 22         1266342                  41   \n1                 22         1319353                  41   \n2                 22             160                   1   \n3                 22         1303488                  41   \n4              35396              77                   1   \n\n    Total Backward Packets  Total Length of Fwd Packets  \\\n0                       44                         2664   \n1                       44                         2664   \n2                        1                            0   \n3                       42                         2728   \n4                        2                            0   \n\n    Total Length of Bwd Packets   Fwd Packet Length Max  \\\n0                          6954                     456   \n1                          6954                     456   \n2                             0                       0   \n3                          6634                     456   \n4                             0                       0   \n\n    Fwd Packet Length Min   Fwd Packet Length Mean   Fwd Packet Length Std  \\\n0                       0                64.975610              109.864573   \n1                       0                64.975610              109.864573   \n2                       0                 0.000000                0.000000   \n3                       0                66.536585              110.129945   \n4                       0                 0.000000                0.000000   \n\n   ...   min_seg_size_forward  Active Mean   Active Std   Active Max  \\\n0  ...                     32          0.0          0.0            0   \n1  ...                     32          0.0          0.0            0   \n2  ...                     32          0.0          0.0            0   \n3  ...                     32          0.0          0.0            0   \n4  ...                     32          0.0          0.0            0   \n\n    Active Min  Idle Mean   Idle Std   Idle Max   Idle Min   Label  \n0            0        0.0        0.0          0          0       0  \n1            0        0.0        0.0          0          0       0  \n2            0        0.0        0.0          0          0       0  \n3            0        0.0        0.0          0          0       0  \n4            0        0.0        0.0          0          0       0  \n\n[5 rows x 79 columns]",
            "text/html": "<div>\n<style scoped>\n    .dataframe tbody tr th:only-of-type {\n        vertical-align: middle;\n    }\n\n    .dataframe tbody tr th {\n        vertical-align: top;\n    }\n\n    .dataframe thead th {\n        text-align: right;\n    }\n</style>\n<table border=\"1\" class=\"dataframe\">\n  <thead>\n    <tr style=\"text-align: right;\">\n      <th></th>\n      <th>Destination Port</th>\n      <th>Flow Duration</th>\n      <th>Total Fwd Packets</th>\n      <th>Total Backward Packets</th>\n      <th>Total Length of Fwd Packets</th>\n      <th>Total Length of Bwd Packets</th>\n      <th>Fwd Packet Length Max</th>\n      <th>Fwd Packet Length Min</th>\n      <th>Fwd Packet Length Mean</th>\n      <th>Fwd Packet Length Std</th>\n      <th>...</th>\n      <th>min_seg_size_forward</th>\n      <th>Active Mean</th>\n      <th>Active Std</th>\n      <th>Active Max</th>\n      <th>Active Min</th>\n      <th>Idle Mean</th>\n      <th>Idle Std</th>\n      <th>Idle Max</th>\n      <th>Idle Min</th>\n      <th>Label</th>\n    </tr>\n  </thead>\n  <tbody>\n    <tr>\n      <th>0</th>\n      <td>22</td>\n      <td>1266342</td>\n      <td>41</td>\n      <td>44</td>\n      <td>2664</td>\n      <td>6954</td>\n      <td>456</td>\n      <td>0</td>\n      <td>64.975610</td>\n      <td>109.864573</td>\n      <td>...</td>\n      <td>32</td>\n      <td>0.0</td>\n      <td>0.0</td>\n      <td>0</td>\n      <td>0</td>\n      <td>0.0</td>\n      <td>0.0</td>\n      <td>0</td>\n      <td>0</td>\n      <td>0</td>\n    </tr>\n    <tr>\n      <th>1</th>\n      <td>22</td>\n      <td>1319353</td>\n      <td>41</td>\n      <td>44</td>\n      <td>2664</td>\n      <td>6954</td>\n      <td>456</td>\n      <td>0</td>\n      <td>64.975610</td>\n      <td>109.864573</td>\n      <td>...</td>\n      <td>32</td>\n      <td>0.0</td>\n      <td>0.0</td>\n      <td>0</td>\n      <td>0</td>\n      <td>0.0</td>\n      <td>0.0</td>\n      <td>0</td>\n      <td>0</td>\n      <td>0</td>\n    </tr>\n    <tr>\n      <th>2</th>\n      <td>22</td>\n      <td>160</td>\n      <td>1</td>\n      <td>1</td>\n      <td>0</td>\n      <td>0</td>\n      <td>0</td>\n      <td>0</td>\n      <td>0.000000</td>\n      <td>0.000000</td>\n      <td>...</td>\n      <td>32</td>\n      <td>0.0</td>\n      <td>0.0</td>\n      <td>0</td>\n      <td>0</td>\n      <td>0.0</td>\n      <td>0.0</td>\n      <td>0</td>\n      <td>0</td>\n      <td>0</td>\n    </tr>\n    <tr>\n      <th>3</th>\n      <td>22</td>\n      <td>1303488</td>\n      <td>41</td>\n      <td>42</td>\n      <td>2728</td>\n      <td>6634</td>\n      <td>456</td>\n      <td>0</td>\n      <td>66.536585</td>\n      <td>110.129945</td>\n      <td>...</td>\n      <td>32</td>\n      <td>0.0</td>\n      <td>0.0</td>\n      <td>0</td>\n      <td>0</td>\n      <td>0.0</td>\n      <td>0.0</td>\n      <td>0</td>\n      <td>0</td>\n      <td>0</td>\n    </tr>\n    <tr>\n      <th>4</th>\n      <td>35396</td>\n      <td>77</td>\n      <td>1</td>\n      <td>2</td>\n      <td>0</td>\n      <td>0</td>\n      <td>0</td>\n      <td>0</td>\n      <td>0.000000</td>\n      <td>0.000000</td>\n      <td>...</td>\n      <td>32</td>\n      <td>0.0</td>\n      <td>0.0</td>\n      <td>0</td>\n      <td>0</td>\n      <td>0.0</td>\n      <td>0.0</td>\n      <td>0</td>\n      <td>0</td>\n      <td>0</td>\n    </tr>\n  </tbody>\n</table>\n<p>5 rows × 79 columns</p>\n</div>"
          },
          "metadata": {}
        }
      ],
      "execution_count": 9,
      "metadata": {
        "jupyter": {
          "source_hidden": false,
          "outputs_hidden": false
        },
        "nteract": {
          "transient": {
            "deleting": false
          }
        }
      }
    },
    {
      "cell_type": "code",
      "source": [
        "# Scale Data\r\n",
        "scaled_features = MinMaxScaler().fit_transform(X.values)\r\n",
        "X = pd.DataFrame(scaled_features, index=X.index, columns=X.columns)\r\n",
        "X.head()"
      ],
      "outputs": [
        {
          "output_type": "execute_result",
          "execution_count": 12,
          "data": {
            "text/plain": "    Destination Port   Flow Duration   Total Fwd Packets  \\\n0           0.000336    1.055296e-02            0.012829   \n1           0.000336    1.099472e-02            0.012829   \n2           0.000336    1.441667e-06            0.000000   \n3           0.000336    1.086251e-02            0.012829   \n4           0.541314    7.500002e-07            0.000000   \n\n    Total Backward Packets  Total Length of Fwd Packets  \\\n0                 0.012105                     0.011466   \n1                 0.012105                     0.011466   \n2                 0.000275                     0.000000   \n3                 0.011554                     0.011741   \n4                 0.000550                     0.000000   \n\n    Total Length of Bwd Packets   Fwd Packet Length Max  \\\n0                      0.000972                0.032737   \n1                      0.000972                0.032737   \n2                      0.000000                0.000000   \n3                      0.000928                0.032737   \n4                      0.000000                0.000000   \n\n    Fwd Packet Length Min   Fwd Packet Length Mean   Fwd Packet Length Std  \\\n0                     0.0                 0.019038                0.031022   \n1                     0.0                 0.019038                0.031022   \n2                     0.0                 0.000000                0.000000   \n3                     0.0                 0.019495                0.031097   \n4                     0.0                 0.000000                0.000000   \n\n   ...   min_seg_size_forward  Active Mean   Active Std   Active Max  \\\n0  ...               0.533333          0.0          0.0          0.0   \n1  ...               0.533333          0.0          0.0          0.0   \n2  ...               0.533333          0.0          0.0          0.0   \n3  ...               0.533333          0.0          0.0          0.0   \n4  ...               0.533333          0.0          0.0          0.0   \n\n    Active Min  Idle Mean   Idle Std   Idle Max   Idle Min   Label  \n0          0.0        0.0        0.0        0.0        0.0     0.0  \n1          0.0        0.0        0.0        0.0        0.0     0.0  \n2          0.0        0.0        0.0        0.0        0.0     0.0  \n3          0.0        0.0        0.0        0.0        0.0     0.0  \n4          0.0        0.0        0.0        0.0        0.0     0.0  \n\n[5 rows x 79 columns]",
            "text/html": "<div>\n<style scoped>\n    .dataframe tbody tr th:only-of-type {\n        vertical-align: middle;\n    }\n\n    .dataframe tbody tr th {\n        vertical-align: top;\n    }\n\n    .dataframe thead th {\n        text-align: right;\n    }\n</style>\n<table border=\"1\" class=\"dataframe\">\n  <thead>\n    <tr style=\"text-align: right;\">\n      <th></th>\n      <th>Destination Port</th>\n      <th>Flow Duration</th>\n      <th>Total Fwd Packets</th>\n      <th>Total Backward Packets</th>\n      <th>Total Length of Fwd Packets</th>\n      <th>Total Length of Bwd Packets</th>\n      <th>Fwd Packet Length Max</th>\n      <th>Fwd Packet Length Min</th>\n      <th>Fwd Packet Length Mean</th>\n      <th>Fwd Packet Length Std</th>\n      <th>...</th>\n      <th>min_seg_size_forward</th>\n      <th>Active Mean</th>\n      <th>Active Std</th>\n      <th>Active Max</th>\n      <th>Active Min</th>\n      <th>Idle Mean</th>\n      <th>Idle Std</th>\n      <th>Idle Max</th>\n      <th>Idle Min</th>\n      <th>Label</th>\n    </tr>\n  </thead>\n  <tbody>\n    <tr>\n      <th>0</th>\n      <td>0.000336</td>\n      <td>1.055296e-02</td>\n      <td>0.012829</td>\n      <td>0.012105</td>\n      <td>0.011466</td>\n      <td>0.000972</td>\n      <td>0.032737</td>\n      <td>0.0</td>\n      <td>0.019038</td>\n      <td>0.031022</td>\n      <td>...</td>\n      <td>0.533333</td>\n      <td>0.0</td>\n      <td>0.0</td>\n      <td>0.0</td>\n      <td>0.0</td>\n      <td>0.0</td>\n      <td>0.0</td>\n      <td>0.0</td>\n      <td>0.0</td>\n      <td>0.0</td>\n    </tr>\n    <tr>\n      <th>1</th>\n      <td>0.000336</td>\n      <td>1.099472e-02</td>\n      <td>0.012829</td>\n      <td>0.012105</td>\n      <td>0.011466</td>\n      <td>0.000972</td>\n      <td>0.032737</td>\n      <td>0.0</td>\n      <td>0.019038</td>\n      <td>0.031022</td>\n      <td>...</td>\n      <td>0.533333</td>\n      <td>0.0</td>\n      <td>0.0</td>\n      <td>0.0</td>\n      <td>0.0</td>\n      <td>0.0</td>\n      <td>0.0</td>\n      <td>0.0</td>\n      <td>0.0</td>\n      <td>0.0</td>\n    </tr>\n    <tr>\n      <th>2</th>\n      <td>0.000336</td>\n      <td>1.441667e-06</td>\n      <td>0.000000</td>\n      <td>0.000275</td>\n      <td>0.000000</td>\n      <td>0.000000</td>\n      <td>0.000000</td>\n      <td>0.0</td>\n      <td>0.000000</td>\n      <td>0.000000</td>\n      <td>...</td>\n      <td>0.533333</td>\n      <td>0.0</td>\n      <td>0.0</td>\n      <td>0.0</td>\n      <td>0.0</td>\n      <td>0.0</td>\n      <td>0.0</td>\n      <td>0.0</td>\n      <td>0.0</td>\n      <td>0.0</td>\n    </tr>\n    <tr>\n      <th>3</th>\n      <td>0.000336</td>\n      <td>1.086251e-02</td>\n      <td>0.012829</td>\n      <td>0.011554</td>\n      <td>0.011741</td>\n      <td>0.000928</td>\n      <td>0.032737</td>\n      <td>0.0</td>\n      <td>0.019495</td>\n      <td>0.031097</td>\n      <td>...</td>\n      <td>0.533333</td>\n      <td>0.0</td>\n      <td>0.0</td>\n      <td>0.0</td>\n      <td>0.0</td>\n      <td>0.0</td>\n      <td>0.0</td>\n      <td>0.0</td>\n      <td>0.0</td>\n      <td>0.0</td>\n    </tr>\n    <tr>\n      <th>4</th>\n      <td>0.541314</td>\n      <td>7.500002e-07</td>\n      <td>0.000000</td>\n      <td>0.000550</td>\n      <td>0.000000</td>\n      <td>0.000000</td>\n      <td>0.000000</td>\n      <td>0.0</td>\n      <td>0.000000</td>\n      <td>0.000000</td>\n      <td>...</td>\n      <td>0.533333</td>\n      <td>0.0</td>\n      <td>0.0</td>\n      <td>0.0</td>\n      <td>0.0</td>\n      <td>0.0</td>\n      <td>0.0</td>\n      <td>0.0</td>\n      <td>0.0</td>\n      <td>0.0</td>\n    </tr>\n  </tbody>\n</table>\n<p>5 rows × 79 columns</p>\n</div>"
          },
          "metadata": {}
        }
      ],
      "execution_count": 12,
      "metadata": {
        "jupyter": {
          "source_hidden": false,
          "outputs_hidden": false
        },
        "nteract": {
          "transient": {
            "deleting": false
          }
        }
      }
    },
    {
      "cell_type": "code",
      "source": [
        "y_label = X.pop(' Label')\r\n",
        "y_label.head()"
      ],
      "outputs": [
        {
          "output_type": "execute_result",
          "execution_count": 13,
          "data": {
            "text/plain": "0    0.0\n1    0.0\n2    0.0\n3    0.0\n4    0.0\nName:  Label, dtype: float64"
          },
          "metadata": {}
        }
      ],
      "execution_count": 13,
      "metadata": {
        "jupyter": {
          "source_hidden": false,
          "outputs_hidden": false
        },
        "nteract": {
          "transient": {
            "deleting": false
          }
        }
      }
    },
    {
      "cell_type": "code",
      "source": [
        "import xgboost as xgb\r\n",
        "from xgboost import XGBRegressor\r\n",
        "from xgboost import plot_importance\r\n",
        "import matplotlib.pyplot as plt\r\n",
        "\r\n",
        "mod = xgb.XGBRegressor(objective ='reg:squarederror',max_depth = 5, n_estimators = 600)\r\n",
        "mod.fit(X, y_label)\r\n",
        "plot_importance(mod, max_num_features=30)\r\n",
        "plt.show()"
      ],
      "outputs": [
        {
          "output_type": "display_data",
          "data": {
            "text/plain": "<Figure size 432x288 with 1 Axes>",
            "image/png": "[encoded data removed]"
          },
          "metadata": {
            "needs_background": "light"
          }
        }
      ],
      "execution_count": 14,
      "metadata": {
        "jupyter": {
          "source_hidden": false,
          "outputs_hidden": false
        },
        "nteract": {
          "transient": {
            "deleting": false
          }
        }
      }
    },
    {
      "cell_type": "code",
      "source": [
        "# Important Features\r\n",
        "from sklearn.ensemble import RandomForestRegressor\r\n",
        "\r\n",
        "# Create a random forest regressor\r\n",
        "reg = RandomForestRegressor(n_estimators=1000, random_state=0, n_jobs=-1)\r\n",
        "\r\n",
        "# Train the regressor\r\n",
        "reg.fit(X, y_label)\r\n",
        "\r\n",
        "x = {}\r\n",
        "# Print the name and gini importance of each feature\r\n",
        "for feature in zip(list(X.columns), reg.feature_importances_):\r\n",
        "    print(feature)\r\n",
        "    x[feature[0]] = feature[1]"
      ],
      "outputs": [
        {
          "output_type": "stream",
          "name": "stdout",
          "text": "(' Destination Port', 0.00015637288139528776)\n(' Flow Duration', 9.069194107914689e-05)\n(' Total Fwd Packets', 1.5396041708330538e-05)\n(' Total Backward Packets', 1.4083784782967761e-05)\n('Total Length of Fwd Packets', 0.29236537912368277)\n(' Total Length of Bwd Packets', 0.0003137758388398038)\n(' Fwd Packet Length Max', 0.28314778879685826)\n(' Fwd Packet Length Min', 0.00011526245467696454)\n(' Fwd Packet Length Mean', 0.00010891275691954213)\n(' Fwd Packet Length Std', 8.315889682011053e-05)\n('Bwd Packet Length Max', 3.2600925732122097e-06)\n(' Bwd Packet Length Min', 3.0268191169044765e-06)\n(' Bwd Packet Length Mean', 7.444285130401127e-06)\n(' Bwd Packet Length Std', 0.00016691622796164934)\n('Flow Bytes/s', 0.1382695484245808)\n(' Flow Packets/s', 0.00014308494325368827)\n(' Flow IAT Mean', 0.0005243752408700666)\n(' Flow IAT Std', 0.00010468778251029711)\n(' Flow IAT Max', 7.8713226574587e-05)\n(' Flow IAT Min', 8.389206387920718e-06)\n('Fwd IAT Total', 0.00013296162429926942)\n(' Fwd IAT Mean', 0.00025058855220182994)\n(' Fwd IAT Std', 0.00010244933710565931)\n(' Fwd IAT Max', 0.0001067863182885348)\n(' Fwd IAT Min', 4.596004082976127e-05)\n('Bwd IAT Total', 0.00020005100125184514)\n(' Bwd IAT Mean', 0.0006612268873601307)\n(' Bwd IAT Std', 1.1015503314764444e-05)\n(' Bwd IAT Max', 0.00036200612967760183)\n(' Bwd IAT Min', 0.0006124538108622069)\n('Fwd PSH Flags', 0.0)\n(' Bwd PSH Flags', 0.0)\n(' Fwd URG Flags', 0.0)\n(' Bwd URG Flags', 0.0)\n(' Fwd Header Length', 0.0006756157699970742)\n(' Bwd Header Length', 1.3769969811089686e-05)\n('Fwd Packets/s', 0.0001188619592676328)\n(' Bwd Packets/s', 0.001777413270859182)\n(' Min Packet Length', 0.0017553784733519652)\n(' Max Packet Length', 5.733997901842451e-06)\n(' Packet Length Mean', 0.0013090507061147218)\n(' Packet Length Std', 0.002252500362111478)\n(' Packet Length Variance', 0.002105816021319419)\n('FIN Flag Count', 0.0)\n(' SYN Flag Count', 0.0)\n(' RST Flag Count', 0.0)\n(' PSH Flag Count', 0.00045934835987526993)\n(' ACK Flag Count', 0.00201635432950294)\n(' URG Flag Count', 2.283201535955043e-07)\n(' CWE Flag Count', 0.0)\n(' ECE Flag Count', 0.0)\n(' Down/Up Ratio', 4.437502450457943e-06)\n(' Average Packet Size', 3.389824280346668e-06)\n(' Avg Fwd Segment Size', 0.00010993259902836747)\n(' Avg Bwd Segment Size', 1.1111779130258589e-05)\n(' Fwd Header Length.1', 0.0006741202579908073)\n('Fwd Avg Bytes/Bulk', 0.0)\n(' Fwd Avg Packets/Bulk', 0.0)\n(' Fwd Avg Bulk Rate', 0.0)\n(' Bwd Avg Bytes/Bulk', 0.0)\n(' Bwd Avg Packets/Bulk', 0.0)\n('Bwd Avg Bulk Rate', 0.0)\n('Subflow Fwd Packets', 1.5147249017325368e-05)\n(' Subflow Fwd Bytes', 0.2646789736677445)\n(' Subflow Bwd Packets', 1.4799994652482016e-05)\n(' Subflow Bwd Bytes', 0.0002866226972167762)\n('Init_Win_bytes_forward', 0.0028552136923769922)\n(' Init_Win_bytes_backward', 0.00022349277090660206)\n(' act_data_pkt_fwd', 1.1985935949802376e-05)\n(' min_seg_size_forward', 6.084187765582702e-07)\n('Active Mean', 1.2696504684800705e-05)\n(' Active Std', 3.620434996929579e-06)\n(' Active Max', 1.2772332681732366e-05)\n(' Active Min', 1.1071387270434293e-05)\n('Idle Mean', 1.6656065655069998e-05)\n(' Idle Std', 4.073441877813309e-06)\n(' Idle Max', 2.410494984216383e-05)\n(' Idle Min', 0.0003293289822893946)\n"
        }
      ],
      "execution_count": 15,
      "metadata": {
        "jupyter": {
          "source_hidden": false,
          "outputs_hidden": false
        },
        "nteract": {
          "transient": {
            "deleting": false
          }
        }
      }
    },
    {
      "cell_type": "code",
      "source": [
        "# Create training & testing datasets\r\n",
        "from sklearn.metrics import PrecisionRecallDisplay\r\n",
        "from sklearn.metrics import confusion_matrix\r\n",
        "from sklearn.model_selection import KFold\r\n",
        "kf = KFold(n_splits=5)\r\n",
        "\r\n",
        "# Confusion Matrix\r\n",
        "# Precision & Recall\r\n",
        "# plot num of bins vs. accuracy, against no bin approach\r\n",
        "# Use other datasets"
      ],
      "outputs": [],
      "execution_count": 16,
      "metadata": {
        "jupyter": {
          "source_hidden": false,
          "outputs_hidden": false
        },
        "nteract": {
          "transient": {
            "deleting": false
          }
        }
      }
    },
    {
      "cell_type": "markdown",
      "source": [
        "# Using Machine Learning to predict PortScan attacks\r\n",
        "created two different classification models, a Support Vector Machine (SVM) and Multilayer Perceptron (MLP) neural network. \r\n",
        "These models will be used as baselines for validating the discretization of the features.\r\n",
        "\r\n",
        "**SVM accuracy score: 99.8%**\r\n",
        "\r\n",
        "**MLP accuracy score: 99.9%**"
      ],
      "metadata": {
        "nteract": {
          "transient": {
            "deleting": false
          }
        }
      }
    },
    {
      "cell_type": "code",
      "source": [
        "# Support Vector Machine\r\n",
        "from sklearn.svm import LinearSVC\r\n",
        "linear_SVC = LinearSVC(random_state=0, tol=1e-5)\r\n",
        "for train, test in kf.split(X):\r\n",
        "    X_train, X_test, y_train, y_test = np.array(X), np.array(X), np.array(y_label), np.array(y_label) \r\n",
        "    linear_SVC.fit(X_train[train], y_train[train])\r\n",
        "    accuracy = linear_SVC.score(X_test[test], y_test[test])\r\n",
        "    print(f'train: {train},\\n test: {test},\\n Accuracy Score: {accuracy},\\n Confusion Matrix:\\n{confusion_matrix(y_test[test], linear_SVC.predict(X_test[test]))}\\n')\r\n",
        "  #  display = PrecisionRecallDisplay.from_estimator(linear_SVC, X_test[test], y_test[test], name=\"LinearSVC\")   \r\n",
        "  #  _ = display.ax_.set_title(\"2-class Precision-Recall curve\")"
      ],
      "outputs": [
        {
          "output_type": "stream",
          "name": "stdout",
          "text": "train: [ 57220  57221  57222 ... 286093 286094 286095],\n test: [    0     1     2 ... 57217 57218 57219],\n Accuracy Score: 0.9890248164977281,\n Confusion Matrix:\n[[56249   599]\n [   29   343]]\n\ntrain: [     0      1      2 ... 286093 286094 286095],\n test: [ 57220  57221  57222 ... 114436 114437 114438],\n Accuracy Score: 0.9944773589192402,\n Confusion Matrix:\n[[30457   311]\n [    5 26446]]\n\ntrain: [     0      1      2 ... 286093 286094 286095],\n test: [114439 114440 114441 ... 171655 171656 171657],\n Accuracy Score: 0.9995805589052588,\n Confusion Matrix:\n[[ 2264    23]\n [    1 54931]]\n\ntrain: [     0      1      2 ... 286093 286094 286095],\n test: [171658 171659 171660 ... 228874 228875 228876],\n Accuracy Score: 0.9998427095894721,\n Confusion Matrix:\n[[ 1861     9]\n [    0 55349]]\n\ntrain: [     0      1      2 ... 228874 228875 228876],\n test: [228877 228878 228879 ... 286093 286094 286095],\n Accuracy Score: 0.9940229643999371,\n Confusion Matrix:\n[[35319   200]\n [  142 21558]]\n\n"
        }
      ],
      "execution_count": 17,
      "metadata": {
        "jupyter": {
          "source_hidden": false,
          "outputs_hidden": false
        },
        "nteract": {
          "transient": {
            "deleting": false
          }
        }
      }
    },
    {
      "cell_type": "code",
      "source": [],
      "outputs": [],
      "execution_count": null,
      "metadata": {
        "jupyter": {
          "source_hidden": false,
          "outputs_hidden": false
        },
        "nteract": {
          "transient": {
            "deleting": false
          }
        }
      }
    },
    {
      "cell_type": "code",
      "source": [
        "# MLP Neural Net\r\n",
        "from sklearn.neural_network import MLPClassifier\r\n",
        "mlp_clf = MLPClassifier(random_state=1, max_iter=300)\r\n",
        "for train, test in kf.split(X):\r\n",
        "    X_train, X_test, y_train, y_test = np.array(X), np.array(X), np.array(y_label), np.array(y_label) \r\n",
        "    mlp_clf.fit(X_train[train], y_train[train])\r\n",
        "    accuracy = mlp_clf.score(X_test[test], y_test[test])\r\n",
        "    loss = mlp_clf.loss_\r\n",
        "    print(f'train: {train},\\n test: {test},\\n Loss: {loss},\\n Accuracy Score: {accuracy},\\n Confusion Matrix:\\n{confusion_matrix(y_test[test], linear_SVC.predict(X_test[test]))}\\n')"
      ],
      "outputs": [
        {
          "output_type": "stream",
          "name": "stdout",
          "text": "train: [ 57220  57221  57222 ... 286093 286094 286095],\n test: [    0     1     2 ... 57217 57218 57219],\n Loss: 0.0031029993565082755,\n Accuracy Score: 0.9985844110450891,\n Confusion Matrix:\n[[56446   402]\n [   29   343]]\n\ntrain: [     0      1      2 ... 286093 286094 286095],\n test: [ 57220  57221  57222 ... 114436 114437 114438],\n Loss: 0.0033593199588538448,\n Accuracy Score: 0.9992135479473602,\n Confusion Matrix:\n[[30534   234]\n [    5 26446]]\n\ntrain: [     0      1      2 ... 286093 286094 286095],\n test: [114439 114440 114441 ... 171655 171656 171657],\n Loss: 0.0036671396319328366,\n Accuracy Score: 0.9994407452070116,\n Confusion Matrix:\n[[ 2269    18]\n [    0 54932]]\n\ntrain: [     0      1      2 ... 286093 286094 286095],\n test: [171658 171659 171660 ... 228874 228875 228876],\n Loss: 0.0035732345462991056,\n Accuracy Score: 0.9999650465754383,\n Confusion Matrix:\n[[ 1864     6]\n [    0 55349]]\n\ntrain: [     0      1      2 ... 228874 228875 228876],\n test: [228877 228878 228879 ... 286093 286094 286095],\n Loss: 0.0027130891533192177,\n Accuracy Score: 0.9969240986385641,\n Confusion Matrix:\n[[35319   200]\n [  142 21558]]\n\n"
        }
      ],
      "execution_count": 18,
      "metadata": {
        "jupyter": {
          "source_hidden": false,
          "outputs_hidden": false
        },
        "nteract": {
          "transient": {
            "deleting": false
          }
        }
      }
    },
    {
      "cell_type": "markdown",
      "source": [
        "# Discretized Dataset\r\n",
        "Discretize the same dataset, and run the same models to validate that the predicts can still be acheived using discretized data.\r\n",
        "\r\n",
        "### Bin=5\r\n",
        "\r\n",
        "**SVM accuracy score: 99.8%**\r\n",
        "\r\n",
        "**MLP accuracy score: 98.7%**"
      ],
      "metadata": {
        "nteract": {
          "transient": {
            "deleting": false
          }
        }
      }
    },
    {
      "cell_type": "code",
      "source": [
        "import warnings\r\n",
        "warnings.filterwarnings('ignore')\r\n",
        "from sklearn.preprocessing import KBinsDiscretizer\r\n",
        "\r\n",
        "discrete5 = KBinsDiscretizer(n_bins=5, encode='ordinal', strategy='uniform')\r\n",
        "discrete10 = KBinsDiscretizer(n_bins=10, encode='ordinal', strategy='uniform')\r\n",
        "discrete15 = KBinsDiscretizer(n_bins=15, encode='ordinal', strategy='uniform')\r\n",
        "discrete20 = KBinsDiscretizer(n_bins=20, encode='ordinal', strategy='uniform')\r\n",
        "discrete25 = KBinsDiscretizer(n_bins=25, encode='ordinal', strategy='uniform')\r\n",
        "\r\n",
        "svm_bin_accuracy = {'5bins': 0, '10bins': 0, '15bins': 0, '20bins': 0, '25bins': 0}\r\n",
        "mlp_bin_accuracy = {'5bins': 0, '10bins': 0, '15bins': 0, '20bins': 0, '25bins': 0}"
      ],
      "outputs": [],
      "execution_count": 19,
      "metadata": {
        "jupyter": {
          "source_hidden": false,
          "outputs_hidden": false
        },
        "nteract": {
          "transient": {
            "deleting": false
          }
        }
      }
    },
    {
      "cell_type": "markdown",
      "source": [],
      "metadata": {
        "nteract": {
          "transient": {
            "deleting": false
          }
        }
      }
    },
    {
      "cell_type": "code",
      "source": [
        "# SVM 5 bins\r\n",
        "linear_SVC2 = LinearSVC(random_state=0, tol=1e-5)\r\n",
        "for train, test in kf.split(X):\r\n",
        "    X_train, X_test, y_train, y_test = np.array(X), np.array(X), np.array(y_label), np.array(y_label) \r\n",
        "    Xbin_train = discrete5.fit_transform(X_train)\r\n",
        "    Xbin_test = discrete5.fit_transform(X_test)\r\n",
        "    linear_SVC2.fit(Xbin_train[train], y_train[train])\r\n",
        "    accuracy = linear_SVC2.score(Xbin_test[test], y_test[test])\r\n",
        "    if(svm_bin_accuracy['5bins'] > accuracy):\r\n",
        "        continue\r\n",
        "    else:\r\n",
        "        svm_bin_accuracy['5bins'] = accuracy\r\n",
        "    print(f'train: {train},\\n test: {test},\\n Accuracy Score: {accuracy},\\n Confusion Matrix:\\n{confusion_matrix(y_test[test], linear_SVC.predict(X_test[test]))}\\n')"
      ],
      "outputs": [
        {
          "output_type": "stream",
          "name": "stdout",
          "text": "train: [ 57220  57221  57222 ... 286093 286094 286095],\n test: [    0     1     2 ... 57217 57218 57219],\n Accuracy Score: 0.9887626703949668,\n Confusion Matrix:\n[[56446   402]\n [   29   343]]\n\ntrain: [     0      1      2 ... 286093 286094 286095],\n test: [ 57220  57221  57222 ... 114436 114437 114438],\n Accuracy Score: 0.9935161397437914,\n Confusion Matrix:\n[[30534   234]\n [    5 26446]]\n\ntrain: [     0      1      2 ... 286093 286094 286095],\n test: [114439 114440 114441 ... 171655 171656 171657],\n Accuracy Score: 0.994949230150824,\n Confusion Matrix:\n[[ 2269    18]\n [    0 54932]]\n\ntrain: [     0      1      2 ... 286093 286094 286095],\n test: [171658 171659 171660 ... 228874 228875 228876],\n Accuracy Score: 0.9950016602876667,\n Confusion Matrix:\n[[ 1864     6]\n [    0 55349]]\n\n"
        }
      ],
      "execution_count": 20,
      "metadata": {
        "jupyter": {
          "source_hidden": false,
          "outputs_hidden": false
        },
        "nteract": {
          "transient": {
            "deleting": false
          }
        }
      }
    },
    {
      "cell_type": "code",
      "source": [
        "svm_bin_accuracy"
      ],
      "outputs": [
        {
          "output_type": "execute_result",
          "execution_count": 21,
          "data": {
            "text/plain": "{'5bins': 0.9950016602876667,\n '10bins': 0,\n '15bins': 0,\n '20bins': 0,\n '25bins': 0}"
          },
          "metadata": {}
        }
      ],
      "execution_count": 21,
      "metadata": {
        "jupyter": {
          "source_hidden": false,
          "outputs_hidden": false
        },
        "nteract": {
          "transient": {
            "deleting": false
          }
        }
      }
    },
    {
      "cell_type": "code",
      "source": [
        "# MLP Neural Net 5 bins\r\n",
        "mlp_clf2 = MLPClassifier(random_state=1, max_iter=300)\r\n",
        "for train, test in kf.split(X):\r\n",
        "    X_train, X_test, y_train, y_test = np.array(X), np.array(X), np.array(y_label), np.array(y_label)\r\n",
        "    Xbin_train = discrete5.fit_transform(X_train)\r\n",
        "    Xbin_test = discrete5.fit_transform(X_test) \r\n",
        "    mlp_clf2.fit(Xbin_train[train], y_train[train])\r\n",
        "    accuracy = mlp_clf2.score(Xbin_test[test], y_test[test])\r\n",
        "    loss = mlp_clf2.loss_\r\n",
        "    if(mlp_bin_accuracy['5bins'] > accuracy):\r\n",
        "        continue\r\n",
        "    else:\r\n",
        "        mlp_bin_accuracy['5bins'] = accuracy\r\n",
        "    print(f'train: {train},\\n test: {test},\\n layer size: {mlp_clf2.hidden_layer_sizes},\\n Loss: {loss},\\n Accuracy Score: {accuracy}\\n Confusion Matrix:\\n{confusion_matrix(y_test[test], linear_SVC.predict(X_test[test]))}\\n')"
      ],
      "outputs": [
        {
          "output_type": "stream",
          "name": "stdout",
          "text": "train: [ 57220  57221  57222 ... 286093 286094 286095],\n test: [    0     1     2 ... 57217 57218 57219],\n layer size: (100,),\n Loss: 0.019479428105294922,\n Accuracy Score: 0.9882034253757428\n Confusion Matrix:\n[[56446   402]\n [   29   343]]\n\ntrain: [     0      1      2 ... 286093 286094 286095],\n test: [ 57220  57221  57222 ... 114436 114437 114438],\n layer size: (100,),\n Loss: 0.02385975303884748,\n Accuracy Score: 0.9919781890630734\n Confusion Matrix:\n[[30534   234]\n [    5 26446]]\n\ntrain: [     0      1      2 ... 286093 286094 286095],\n test: [114439 114440 114441 ... 171655 171656 171657],\n layer size: (100,),\n Loss: 0.028043514311351433,\n Accuracy Score: 0.9963124137087331\n Confusion Matrix:\n[[ 2269    18]\n [    0 54932]]\n\n"
        }
      ],
      "execution_count": 22,
      "metadata": {
        "jupyter": {
          "source_hidden": false,
          "outputs_hidden": false
        },
        "nteract": {
          "transient": {
            "deleting": false
          }
        }
      }
    },
    {
      "cell_type": "code",
      "source": [
        "mlp_bin_accuracy"
      ],
      "outputs": [
        {
          "output_type": "execute_result",
          "execution_count": 23,
          "data": {
            "text/plain": "{'5bins': 0.9963124137087331,\n '10bins': 0,\n '15bins': 0,\n '20bins': 0,\n '25bins': 0}"
          },
          "metadata": {}
        }
      ],
      "execution_count": 23,
      "metadata": {
        "jupyter": {
          "source_hidden": false,
          "outputs_hidden": false
        },
        "nteract": {
          "transient": {
            "deleting": false
          }
        }
      }
    },
    {
      "cell_type": "markdown",
      "source": [
        "### Bins = 10\r\n",
        "\r\n",
        " **SVM Accuracy: 99.87**\r\n",
        "\r\n",
        "**MLP Accuracy: 99.84**"
      ],
      "metadata": {
        "nteract": {
          "transient": {
            "deleting": false
          }
        }
      }
    },
    {
      "cell_type": "code",
      "source": [
        "# SVM 10bins\r\n",
        "linear_SVC2 = LinearSVC(random_state=0, tol=1e-5)\r\n",
        "for train, test in kf.split(X):\r\n",
        "    X_train, X_test, y_train, y_test = np.array(X), np.array(X), np.array(y_label), np.array(y_label) \r\n",
        "    Xbin_train = discrete10.fit_transform(X_train)\r\n",
        "    Xbin_test = discrete10.fit_transform(X_test)\r\n",
        "    linear_SVC2.fit(Xbin_train[train], y_train[train])\r\n",
        "    accuracy = linear_SVC2.score(Xbin_test[test], y_test[test])\r\n",
        "    if(svm_bin_accuracy['10bins'] > accuracy):\r\n",
        "        continue\r\n",
        "    else:\r\n",
        "        svm_bin_accuracy['10bins'] = accuracy\r\n",
        "    print(f'train: {train},\\n test: {test},\\n Accuracy Score: {accuracy},\\n Confusion Matrix:\\n{confusion_matrix(y_test[test], linear_SVC.predict(X_test[test]))}\\n')"
      ],
      "outputs": [
        {
          "output_type": "stream",
          "name": "stdout",
          "text": "train: [ 57220  57221  57222 ... 286093 286094 286095],\n test: [    0     1     2 ... 57217 57218 57219],\n Accuracy Score: 0.9884306186648025,\n Confusion Matrix:\n[[56446   402]\n [   29   343]]\n\ntrain: [     0      1      2 ... 286093 286094 286095],\n test: [ 57220  57221  57222 ... 114436 114437 114438],\n Accuracy Score: 0.9936210000174767,\n Confusion Matrix:\n[[30534   234]\n [    5 26446]]\n\ntrain: [     0      1      2 ... 286093 286094 286095],\n test: [114439 114440 114441 ... 171655 171656 171657],\n Accuracy Score: 0.9946171726174872,\n Confusion Matrix:\n[[ 2269    18]\n [    0 54932]]\n\ntrain: [     0      1      2 ... 286093 286094 286095],\n test: [171658 171659 171660 ... 228874 228875 228876],\n Accuracy Score: 0.9950016602876667,\n Confusion Matrix:\n[[ 1864     6]\n [    0 55349]]\n\n"
        }
      ],
      "execution_count": 24,
      "metadata": {
        "jupyter": {
          "source_hidden": false,
          "outputs_hidden": false
        },
        "nteract": {
          "transient": {
            "deleting": false
          }
        }
      }
    },
    {
      "cell_type": "code",
      "source": [
        "svm_bin_accuracy"
      ],
      "outputs": [
        {
          "output_type": "execute_result",
          "execution_count": 25,
          "data": {
            "text/plain": "{'5bins': 0.9950016602876667,\n '10bins': 0.9950016602876667,\n '15bins': 0,\n '20bins': 0,\n '25bins': 0}"
          },
          "metadata": {}
        }
      ],
      "execution_count": 25,
      "metadata": {
        "jupyter": {
          "source_hidden": false,
          "outputs_hidden": false
        },
        "nteract": {
          "transient": {
            "deleting": false
          }
        }
      }
    },
    {
      "cell_type": "code",
      "source": [
        "# MLP Neural Net 10 bins\r\n",
        "mlp_clf2 = MLPClassifier(random_state=1, max_iter=300)\r\n",
        "for train, test in kf.split(X):\r\n",
        "    X_train, X_test, y_train, y_test = np.array(X), np.array(X), np.array(y_label), np.array(y_label)\r\n",
        "    Xbin_train = discrete10.fit_transform(X_train)\r\n",
        "    Xbin_test = discrete10.fit_transform(X_test) \r\n",
        "    mlp_clf2.fit(Xbin_train[train], y_train[train])\r\n",
        "    accuracy = mlp_clf2.score(Xbin_test[test], y_test[test])\r\n",
        "    loss = mlp_clf2.loss_\r\n",
        "    if(mlp_bin_accuracy['10bins'] > accuracy):\r\n",
        "        continue\r\n",
        "    else:\r\n",
        "        mlp_bin_accuracy['10bins'] = accuracy\r\n",
        "    print(f'train: {train},\\n test: {test},\\n layer size: {mlp_clf2.hidden_layer_sizes},\\n Loss: {loss},\\n Accuracy Score: {accuracy}\\n Confusion Matrix:\\n{confusion_matrix(y_test[test], linear_SVC.predict(X_test[test]))}\\n')"
      ],
      "outputs": [
        {
          "output_type": "stream",
          "name": "stdout",
          "text": "train: [ 57220  57221  57222 ... 286093 286094 286095],\n test: [    0     1     2 ... 57217 57218 57219],\n layer size: (100,),\n Loss: 0.006028230226057233,\n Accuracy Score: 0.9963474309681929\n Confusion Matrix:\n[[56446   402]\n [   29   343]]\n\ntrain: [     0      1      2 ... 286093 286094 286095],\n test: [ 57220  57221  57222 ... 114436 114437 114438],\n layer size: (100,),\n Loss: 0.006822402089344718,\n Accuracy Score: 0.9974833534315525\n Confusion Matrix:\n[[30534   234]\n [    5 26446]]\n\ntrain: [     0      1      2 ... 286093 286094 286095],\n test: [114439 114440 114441 ... 171655 171656 171657],\n layer size: (100,),\n Loss: 0.008054204651918417,\n Accuracy Score: 0.9978853178140128\n Confusion Matrix:\n[[ 2269    18]\n [    0 54932]]\n\n"
        }
      ],
      "execution_count": 26,
      "metadata": {
        "jupyter": {
          "source_hidden": false,
          "outputs_hidden": false
        },
        "nteract": {
          "transient": {
            "deleting": false
          }
        }
      }
    },
    {
      "cell_type": "code",
      "source": [
        "mlp_bin_accuracy"
      ],
      "outputs": [
        {
          "output_type": "execute_result",
          "execution_count": 27,
          "data": {
            "text/plain": "{'5bins': 0.9963124137087331,\n '10bins': 0.9978853178140128,\n '15bins': 0,\n '20bins': 0,\n '25bins': 0}"
          },
          "metadata": {}
        }
      ],
      "execution_count": 27,
      "metadata": {
        "jupyter": {
          "source_hidden": false,
          "outputs_hidden": false
        },
        "nteract": {
          "transient": {
            "deleting": false
          }
        }
      }
    },
    {
      "cell_type": "markdown",
      "source": [
        "### Bins = 15\r\n",
        "\r\n",
        " **SVM Accuracy: 99.85**\r\n",
        "\r\n",
        "**MLP Accuracy: 99.88**"
      ],
      "metadata": {
        "nteract": {
          "transient": {
            "deleting": false
          }
        }
      }
    },
    {
      "cell_type": "code",
      "source": [
        "# SVM 15 bins\r\n",
        "linear_SVC2 = LinearSVC(random_state=0, tol=1e-5)\r\n",
        "for train, test in kf.split(X):\r\n",
        "    X_train, X_test, y_train, y_test = np.array(X), np.array(X), np.array(y_label), np.array(y_label) \r\n",
        "    Xbin_train = discrete15.fit_transform(X_train)\r\n",
        "    Xbin_test = discrete15.fit_transform(X_test)\r\n",
        "    linear_SVC2.fit(Xbin_train[train], y_train[train])\r\n",
        "    accuracy = linear_SVC2.score(Xbin_test[test], y_test[test])\r\n",
        "    if(svm_bin_accuracy['15bins'] > accuracy):\r\n",
        "        continue\r\n",
        "    else:\r\n",
        "        svm_bin_accuracy['15bins'] = accuracy\r\n",
        "    print(f'train: {train},\\n test: {test},\\n Accuracy Score: {accuracy},\\n Confusion Matrix:\\n{confusion_matrix(y_test[test], linear_SVC.predict(X_test[test]))}\\n')"
      ],
      "outputs": [
        {
          "output_type": "stream",
          "name": "stdout",
          "text": "train: [ 57220  57221  57222 ... 286093 286094 286095],\n test: [    0     1     2 ... 57217 57218 57219],\n Accuracy Score: 0.990370499825236,\n Confusion Matrix:\n[[56446   402]\n [   29   343]]\n\ntrain: [     0      1      2 ... 286093 286094 286095],\n test: [ 57220  57221  57222 ... 114436 114437 114438],\n Accuracy Score: 0.9937083835788811,\n Confusion Matrix:\n[[30534   234]\n [    5 26446]]\n\ntrain: [     0      1      2 ... 286093 286094 286095],\n test: [114439 114440 114441 ... 171655 171656 171657],\n Accuracy Score: 0.994949230150824,\n Confusion Matrix:\n[[ 2269    18]\n [    0 54932]]\n\ntrain: [     0      1      2 ... 286093 286094 286095],\n test: [171658 171659 171660 ... 228874 228875 228876],\n Accuracy Score: 0.9950191369999476,\n Confusion Matrix:\n[[ 1864     6]\n [    0 55349]]\n\n"
        }
      ],
      "execution_count": 28,
      "metadata": {
        "jupyter": {
          "source_hidden": false,
          "outputs_hidden": false
        },
        "nteract": {
          "transient": {
            "deleting": false
          }
        }
      }
    },
    {
      "cell_type": "code",
      "source": [
        "svm_bin_accuracy"
      ],
      "outputs": [
        {
          "output_type": "execute_result",
          "execution_count": 29,
          "data": {
            "text/plain": "{'5bins': 0.9950016602876667,\n '10bins': 0.9950016602876667,\n '15bins': 0.9950191369999476,\n '20bins': 0,\n '25bins': 0}"
          },
          "metadata": {}
        }
      ],
      "execution_count": 29,
      "metadata": {
        "jupyter": {
          "source_hidden": false,
          "outputs_hidden": false
        },
        "nteract": {
          "transient": {
            "deleting": false
          }
        }
      }
    },
    {
      "cell_type": "code",
      "source": [
        "# MLP Neural Net 15 bins\r\n",
        "mlp_clf2 = MLPClassifier(random_state=1, max_iter=300)\r\n",
        "for train, test in kf.split(X):\r\n",
        "    X_train, X_test, y_train, y_test = np.array(X), np.array(X), np.array(y_label), np.array(y_label)\r\n",
        "    Xbin_train = discrete15.fit_transform(X_train)\r\n",
        "    Xbin_test = discrete15.fit_transform(X_test) \r\n",
        "    mlp_clf2.fit(Xbin_train[train], y_train[train])\r\n",
        "    accuracy = mlp_clf2.score(Xbin_test[test], y_test[test])\r\n",
        "    loss = mlp_clf2.loss_\r\n",
        "    if(mlp_bin_accuracy['15bins'] > accuracy):\r\n",
        "        continue\r\n",
        "    else:\r\n",
        "        mlp_bin_accuracy['15bins'] = accuracy\r\n",
        "    print(f'train: {train},\\n test: {test},\\n layer size: {mlp_clf2.hidden_layer_sizes},\\n Loss: {loss},\\n Accuracy Score: {accuracy}\\n Confusion Matrix:\\n{confusion_matrix(y_test[test], linear_SVC.predict(X_test[test]))}\\n')"
      ],
      "outputs": [
        {
          "output_type": "stream",
          "name": "stdout",
          "text": "train: [ 57220  57221  57222 ... 286093 286094 286095],\n test: [    0     1     2 ... 57217 57218 57219],\n layer size: (100,),\n Loss: 0.005627010208433275,\n Accuracy Score: 0.9963299545613422\n Confusion Matrix:\n[[56446   402]\n [   29   343]]\n\ntrain: [     0      1      2 ... 286093 286094 286095],\n test: [ 57220  57221  57222 ... 114436 114437 114438],\n layer size: (100,),\n Loss: 0.006395474062977744,\n Accuracy Score: 0.9975707369929568\n Confusion Matrix:\n[[30534   234]\n [    5 26446]]\n\ntrain: [     0      1      2 ... 286093 286094 286095],\n test: [114439 114440 114441 ... 171655 171656 171657],\n layer size: (100,),\n Loss: 0.007679611823206262,\n Accuracy Score: 0.9979552246631364\n Confusion Matrix:\n[[ 2269    18]\n [    0 54932]]\n\n"
        }
      ],
      "execution_count": 30,
      "metadata": {
        "jupyter": {
          "source_hidden": false,
          "outputs_hidden": false
        },
        "nteract": {
          "transient": {
            "deleting": false
          }
        }
      }
    },
    {
      "cell_type": "code",
      "source": [
        "mlp_bin_accuracy"
      ],
      "outputs": [
        {
          "output_type": "execute_result",
          "execution_count": 31,
          "data": {
            "text/plain": "{'5bins': 0.9963124137087331,\n '10bins': 0.9978853178140128,\n '15bins': 0.9979552246631364,\n '20bins': 0,\n '25bins': 0}"
          },
          "metadata": {}
        }
      ],
      "execution_count": 31,
      "metadata": {
        "jupyter": {
          "source_hidden": false,
          "outputs_hidden": false
        },
        "nteract": {
          "transient": {
            "deleting": false
          }
        }
      }
    },
    {
      "cell_type": "markdown",
      "source": [
        "### Bins = 20\r\n",
        "\r\n",
        " **SVM Accuracy: 99.87**\r\n",
        "\r\n",
        "**MLP Accuracy: 99.85**"
      ],
      "metadata": {
        "nteract": {
          "transient": {
            "deleting": false
          }
        }
      }
    },
    {
      "cell_type": "code",
      "source": [
        "# SVM 20 bins\r\n",
        "linear_SVC2 = LinearSVC(random_state=0, tol=1e-5)\r\n",
        "for train, test in kf.split(X):\r\n",
        "    X_train, X_test, y_train, y_test = np.array(X), np.array(X), np.array(y_label), np.array(y_label) \r\n",
        "    Xbin_train = discrete20.fit_transform(X_train)\r\n",
        "    Xbin_test = discrete20.fit_transform(X_test)\r\n",
        "    linear_SVC2.fit(Xbin_train[train], y_train[train])\r\n",
        "    accuracy = linear_SVC2.score(Xbin_test[test], y_test[test])\r\n",
        "    if(svm_bin_accuracy['20bins'] > accuracy):\r\n",
        "        continue\r\n",
        "    else:\r\n",
        "        svm_bin_accuracy['20bins'] = accuracy\r\n",
        "    print(f'train: {train},\\n test: {test},\\n Accuracy Score: {accuracy},\\n Confusion Matrix:\\n{confusion_matrix(y_test[test], linear_SVC.predict(X_test[test]))}\\n')"
      ],
      "outputs": [
        {
          "output_type": "stream",
          "name": "stdout",
          "text": "train: [ 57220  57221  57222 ... 286093 286094 286095],\n test: [    0     1     2 ... 57217 57218 57219],\n Accuracy Score: 0.9891995805662356,\n Confusion Matrix:\n[[56446   402]\n [   29   343]]\n\ntrain: [     0      1      2 ... 286093 286094 286095],\n test: [ 57220  57221  57222 ... 114436 114437 114438],\n Accuracy Score: 0.9959454027508345,\n Confusion Matrix:\n[[30534   234]\n [    5 26446]]\n\n"
        }
      ],
      "execution_count": 32,
      "metadata": {
        "jupyter": {
          "source_hidden": false,
          "outputs_hidden": false
        },
        "nteract": {
          "transient": {
            "deleting": false
          }
        }
      }
    },
    {
      "cell_type": "code",
      "source": [
        "svm_bin_accuracy"
      ],
      "outputs": [
        {
          "output_type": "execute_result",
          "execution_count": 33,
          "data": {
            "text/plain": "{'5bins': 0.9950016602876667,\n '10bins': 0.9950016602876667,\n '15bins': 0.9950191369999476,\n '20bins': 0.9959454027508345,\n '25bins': 0}"
          },
          "metadata": {}
        }
      ],
      "execution_count": 33,
      "metadata": {
        "jupyter": {
          "source_hidden": false,
          "outputs_hidden": false
        },
        "nteract": {
          "transient": {
            "deleting": false
          }
        }
      }
    },
    {
      "cell_type": "code",
      "source": [
        "# MLP Neural Net 20 bins\r\n",
        "mlp_clf2 = MLPClassifier(random_state=1, max_iter=300)\r\n",
        "for train, test in kf.split(X):\r\n",
        "    X_train, X_test, y_train, y_test = np.array(X), np.array(X), np.array(y_label), np.array(y_label)\r\n",
        "    Xbin_train = discrete20.fit_transform(X_train)\r\n",
        "    Xbin_test = discrete20.fit_transform(X_test) \r\n",
        "    mlp_clf2.fit(Xbin_train[train], y_train[train])\r\n",
        "    accuracy = mlp_clf2.score(Xbin_test[test], y_test[test])\r\n",
        "    loss = mlp_clf2.loss_\r\n",
        "    if(mlp_bin_accuracy['20bins'] > accuracy):\r\n",
        "        continue\r\n",
        "    else:\r\n",
        "        mlp_bin_accuracy['20bins'] = accuracy\r\n",
        "    print(f'train: {train},\\n test: {test},\\n layer size: {mlp_clf2.hidden_layer_sizes},\\n Loss: {loss},\\n Accuracy Score: {accuracy}\\n Confusion Matrix:\\n{confusion_matrix(y_test[test], linear_SVC.predict(X_test[test]))}\\n')"
      ],
      "outputs": [
        {
          "output_type": "stream",
          "name": "stdout",
          "text": "train: [ 57220  57221  57222 ... 286093 286094 286095],\n test: [    0     1     2 ... 57217 57218 57219],\n layer size: (100,),\n Loss: 0.005029141186685025,\n Accuracy Score: 0.9973435861586858\n Confusion Matrix:\n[[56446   402]\n [   29   343]]\n\ntrain: [     0      1      2 ... 286093 286094 286095],\n test: [ 57220  57221  57222 ... 114436 114437 114438],\n layer size: (100,),\n Loss: 0.005746125080552502,\n Accuracy Score: 0.998007654799979\n Confusion Matrix:\n[[30534   234]\n [    5 26446]]\n\ntrain: [     0      1      2 ... 286093 286094 286095],\n test: [114439 114440 114441 ... 171655 171656 171657],\n layer size: (100,),\n Loss: 0.007011552149815731,\n Accuracy Score: 0.9998427095894721\n Confusion Matrix:\n[[ 2269    18]\n [    0 54932]]\n\n"
        }
      ],
      "execution_count": 34,
      "metadata": {
        "jupyter": {
          "source_hidden": false,
          "outputs_hidden": false
        },
        "nteract": {
          "transient": {
            "deleting": false
          }
        }
      }
    },
    {
      "cell_type": "code",
      "source": [
        "mlp_bin_accuracy"
      ],
      "outputs": [
        {
          "output_type": "execute_result",
          "execution_count": 35,
          "data": {
            "text/plain": "{'5bins': 0.9963124137087331,\n '10bins': 0.9978853178140128,\n '15bins': 0.9979552246631364,\n '20bins': 0.9998427095894721,\n '25bins': 0}"
          },
          "metadata": {}
        }
      ],
      "execution_count": 35,
      "metadata": {
        "jupyter": {
          "source_hidden": false,
          "outputs_hidden": false
        },
        "nteract": {
          "transient": {
            "deleting": false
          }
        }
      }
    },
    {
      "cell_type": "markdown",
      "source": [
        "### Bins = 25\r\n",
        "\r\n",
        " **SVM Accuracy: 99.82**\r\n",
        "\r\n",
        "**MLP Accuracy: 99.87**"
      ],
      "metadata": {
        "nteract": {
          "transient": {
            "deleting": false
          }
        }
      }
    },
    {
      "cell_type": "code",
      "source": [
        "# SVM 25 bins\r\n",
        "linear_SVC2 = LinearSVC(random_state=0, tol=1e-5)\r\n",
        "for train, test in kf.split(X):\r\n",
        "    X_train, X_test, y_train, y_test = np.array(X), np.array(X), np.array(y_label), np.array(y_label) \r\n",
        "    Xbin_train = discrete25.fit_transform(X_train)\r\n",
        "    Xbin_test = discrete25.fit_transform(X_test)\r\n",
        "    linear_SVC2.fit(Xbin_train[train], y_train[train])\r\n",
        "    accuracy = linear_SVC2.score(Xbin_test[test], y_test[test])\r\n",
        "    if(svm_bin_accuracy['25bins'] > accuracy):\r\n",
        "        continue\r\n",
        "    else:\r\n",
        "        svm_bin_accuracy['25bins'] = accuracy\r\n",
        "    print(f'train: {train},\\n test: {test},\\n Accuracy Score: {accuracy},\\n Confusion Matrix:\\n{confusion_matrix(y_test[test], linear_SVC.predict(X_test[test]))}\\n')"
      ],
      "outputs": [
        {
          "output_type": "stream",
          "name": "stdout",
          "text": "train: [ 57220  57221  57222 ... 286093 286094 286095],\n test: [    0     1     2 ... 57217 57218 57219],\n Accuracy Score: 0.9896539671443552,\n Confusion Matrix:\n[[56446   402]\n [   29   343]]\n\ntrain: [     0      1      2 ... 286093 286094 286095],\n test: [ 57220  57221  57222 ... 114436 114437 114438],\n Accuracy Score: 0.9948793233017005,\n Confusion Matrix:\n[[30534   234]\n [    5 26446]]\n\ntrain: [     0      1      2 ... 286093 286094 286095],\n test: [114439 114440 114441 ... 171655 171656 171657],\n Accuracy Score: 0.9996679424666631,\n Confusion Matrix:\n[[ 2269    18]\n [    0 54932]]\n\ntrain: [     0      1      2 ... 286093 286094 286095],\n test: [171658 171659 171660 ... 228874 228875 228876],\n Accuracy Score: 0.9998601863017529,\n Confusion Matrix:\n[[ 1864     6]\n [    0 55349]]\n\n"
        }
      ],
      "execution_count": 36,
      "metadata": {
        "jupyter": {
          "source_hidden": false,
          "outputs_hidden": false
        },
        "nteract": {
          "transient": {
            "deleting": false
          }
        }
      }
    },
    {
      "cell_type": "code",
      "source": [
        "svm_bin_accuracy"
      ],
      "outputs": [
        {
          "output_type": "execute_result",
          "execution_count": 37,
          "data": {
            "text/plain": "{'5bins': 0.9950016602876667,\n '10bins': 0.9950016602876667,\n '15bins': 0.9950191369999476,\n '20bins': 0.9959454027508345,\n '25bins': 0.9998601863017529}"
          },
          "metadata": {}
        }
      ],
      "execution_count": 37,
      "metadata": {
        "jupyter": {
          "source_hidden": false,
          "outputs_hidden": false
        },
        "nteract": {
          "transient": {
            "deleting": false
          }
        }
      }
    },
    {
      "cell_type": "code",
      "source": [
        "# MLP Neural Net 25 bins\r\n",
        "mlp_clf2 = MLPClassifier(random_state=1, max_iter=300)\r\n",
        "for train, test in kf.split(X):\r\n",
        "    X_train, X_test, y_train, y_test = np.array(X), np.array(X), np.array(y_label), np.array(y_label)\r\n",
        "    Xbin_train = discrete25.fit_transform(X_train)\r\n",
        "    Xbin_test = discrete25.fit_transform(X_test) \r\n",
        "    mlp_clf2.fit(Xbin_train[train], y_train[train])\r\n",
        "    accuracy = mlp_clf2.score(Xbin_test[test], y_test[test])\r\n",
        "    loss = mlp_clf2.loss_\r\n",
        "    if(mlp_bin_accuracy['25bins'] > accuracy):\r\n",
        "        continue\r\n",
        "    else:\r\n",
        "        mlp_bin_accuracy['25bins'] = accuracy\r\n",
        "    print(f'train: {train},\\n test: {test},\\n layer size: {mlp_clf2.hidden_layer_sizes},\\n Loss: {loss},\\n Accuracy Score: {accuracy}\\n Confusion Matrix:\\n{confusion_matrix(y_test[test], linear_SVC.predict(X_test[test]))}\\n')"
      ],
      "outputs": [
        {
          "output_type": "stream",
          "name": "stdout",
          "text": "train: [ 57220  57221  57222 ... 286093 286094 286095],\n test: [    0     1     2 ... 57217 57218 57219],\n layer size: (100,),\n Loss: 0.003740364721429074,\n Accuracy Score: 0.9984096469765816\n Confusion Matrix:\n[[56446   402]\n [   29   343]]\n\ntrain: [     0      1      2 ... 286093 286094 286095],\n test: [114439 114440 114441 ... 171655 171656 171657],\n layer size: (100,),\n Loss: 0.005288812493583824,\n Accuracy Score: 0.9999300931508764\n Confusion Matrix:\n[[ 2269    18]\n [    0 54932]]\n\ntrain: [     0      1      2 ... 286093 286094 286095],\n test: [171658 171659 171660 ... 228874 228875 228876],\n layer size: (100,),\n Loss: 0.005092919456370896,\n Accuracy Score: 1.0\n Confusion Matrix:\n[[ 1864     6]\n [    0 55349]]\n\n"
        }
      ],
      "execution_count": 38,
      "metadata": {
        "jupyter": {
          "source_hidden": false,
          "outputs_hidden": false
        },
        "nteract": {
          "transient": {
            "deleting": false
          }
        }
      }
    },
    {
      "cell_type": "code",
      "source": [
        "mlp_bin_accuracy"
      ],
      "outputs": [
        {
          "output_type": "execute_result",
          "execution_count": 39,
          "data": {
            "text/plain": "{'5bins': 0.9963124137087331,\n '10bins': 0.9978853178140128,\n '15bins': 0.9979552246631364,\n '20bins': 0.9998427095894721,\n '25bins': 1.0}"
          },
          "metadata": {}
        }
      ],
      "execution_count": 39,
      "metadata": {
        "jupyter": {
          "source_hidden": false,
          "outputs_hidden": false
        },
        "nteract": {
          "transient": {
            "deleting": false
          }
        }
      }
    }
  ],
  "metadata": {
    "kernelspec": {
      "name": "python38-azureml",
      "language": "python",
      "display_name": "Python 3.8 - AzureML"
    },
    "language_info": {
      "name": "python",
      "version": "3.8.5",
      "mimetype": "text/x-python",
      "codemirror_mode": {
        "name": "ipython",
        "version": 3
      },
      "pygments_lexer": "ipython3",
      "nbconvert_exporter": "python",
      "file_extension": ".py"
    },
    "kernel_info": {
      "name": "python38-azureml"
    },
    "nteract": {
      "version": "nteract-front-end@1.0.0"
    }
  },
  "nbformat": 4,
  "nbformat_minor": 0
}