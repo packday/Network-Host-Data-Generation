{
  "cells": [
    {
      "cell_type": "code",
      "source": [
        "import numpy as np\r\n",
        "import pandas as pd\r\n",
        "from sklearn.preprocessing import MinMaxScaler\r\n",
        "from sklearn.model_selection import train_test_split\r\n",
        "from sklearn.pipeline import Pipeline\r\n",
        "import tensorflow as tf\r\n",
        "from tensorflow import keras"
      ],
      "outputs": [],
      "execution_count": 1,
      "metadata": {}
    },
    {
      "cell_type": "markdown",
      "source": [
        "# Intrusion Detection Evaluation Dataset (CIC-IDS2017)\r\n",
        "### Web Attack Data\r\n",
        "\r\n",
        "Intrusion Detection Systems (IDSs) and Intrusion Prevention Systems (IPSs) are the most important defense tools against the sophisticated and ever-growing network attacks. Due to the lack of reliable test and validation datasets, anomaly-based intrusion detection approaches are suffering from consistent and accurate performance evolutions.\r\n",
        "\r\n",
        "[https://www.unb.ca/cic/datasets/ids-2017.html]\r\n"
      ],
      "metadata": {
        "nteract": {
          "transient": {
            "deleting": false
          }
        }
      }
    },
    {
      "cell_type": "code",
      "source": [
        "# Load Data\r\n",
        "df = pd.read_csv(\"data/CICIDS-2017/Thursday-WorkingHours-Morning-WebAttacks.pcap_ISCX.csv\")\r\n",
        "X = df"
      ],
      "outputs": [],
      "execution_count": 2,
      "metadata": {
        "jupyter": {
          "source_hidden": false,
          "outputs_hidden": false
        },
        "nteract": {
          "transient": {
            "deleting": false
          }
        }
      }
    },
    {
      "cell_type": "code",
      "source": [
        "X.info()"
      ],
      "outputs": [
        {
          "output_type": "stream",
          "name": "stdout",
          "text": "<class 'pandas.core.frame.DataFrame'>\nRangeIndex: 170366 entries, 0 to 170365\nData columns (total 79 columns):\n #   Column                        Non-Null Count   Dtype  \n---  ------                        --------------   -----  \n 0    Destination Port             170366 non-null  int64  \n 1    Flow Duration                170366 non-null  int64  \n 2    Total Fwd Packets            170366 non-null  int64  \n 3    Total Backward Packets       170366 non-null  int64  \n 4   Total Length of Fwd Packets   170366 non-null  int64  \n 5    Total Length of Bwd Packets  170366 non-null  int64  \n 6    Fwd Packet Length Max        170366 non-null  int64  \n 7    Fwd Packet Length Min        170366 non-null  int64  \n 8    Fwd Packet Length Mean       170366 non-null  float64\n 9    Fwd Packet Length Std        170366 non-null  float64\n 10  Bwd Packet Length Max         170366 non-null  int64  \n 11   Bwd Packet Length Min        170366 non-null  int64  \n 12   Bwd Packet Length Mean       170366 non-null  float64\n 13   Bwd Packet Length Std        170366 non-null  float64\n 14  Flow Bytes/s                  170346 non-null  float64\n 15   Flow Packets/s               170366 non-null  float64\n 16   Flow IAT Mean                170366 non-null  float64\n 17   Flow IAT Std                 170366 non-null  float64\n 18   Flow IAT Max                 170366 non-null  int64  \n 19   Flow IAT Min                 170366 non-null  int64  \n 20  Fwd IAT Total                 170366 non-null  int64  \n 21   Fwd IAT Mean                 170366 non-null  float64\n 22   Fwd IAT Std                  170366 non-null  float64\n 23   Fwd IAT Max                  170366 non-null  int64  \n 24   Fwd IAT Min                  170366 non-null  int64  \n 25  Bwd IAT Total                 170366 non-null  int64  \n 26   Bwd IAT Mean                 170366 non-null  float64\n 27   Bwd IAT Std                  170366 non-null  float64\n 28   Bwd IAT Max                  170366 non-null  int64  \n 29   Bwd IAT Min                  170366 non-null  int64  \n 30  Fwd PSH Flags                 170366 non-null  int64  \n 31   Bwd PSH Flags                170366 non-null  int64  \n 32   Fwd URG Flags                170366 non-null  int64  \n 33   Bwd URG Flags                170366 non-null  int64  \n 34   Fwd Header Length            170366 non-null  int64  \n 35   Bwd Header Length            170366 non-null  int64  \n 36  Fwd Packets/s                 170366 non-null  float64\n 37   Bwd Packets/s                170366 non-null  float64\n 38   Min Packet Length            170366 non-null  int64  \n 39   Max Packet Length            170366 non-null  int64  \n 40   Packet Length Mean           170366 non-null  float64\n 41   Packet Length Std            170366 non-null  float64\n 42   Packet Length Variance       170366 non-null  float64\n 43  FIN Flag Count                170366 non-null  int64  \n 44   SYN Flag Count               170366 non-null  int64  \n 45   RST Flag Count               170366 non-null  int64  \n 46   PSH Flag Count               170366 non-null  int64  \n 47   ACK Flag Count               170366 non-null  int64  \n 48   URG Flag Count               170366 non-null  int64  \n 49   CWE Flag Count               170366 non-null  int64  \n 50   ECE Flag Count               170366 non-null  int64  \n 51   Down/Up Ratio                170366 non-null  int64  \n 52   Average Packet Size          170366 non-null  float64\n 53   Avg Fwd Segment Size         170366 non-null  float64\n 54   Avg Bwd Segment Size         170366 non-null  float64\n 55   Fwd Header Length.1          170366 non-null  int64  \n 56  Fwd Avg Bytes/Bulk            170366 non-null  int64  \n 57   Fwd Avg Packets/Bulk         170366 non-null  int64  \n 58   Fwd Avg Bulk Rate            170366 non-null  int64  \n 59   Bwd Avg Bytes/Bulk           170366 non-null  int64  \n 60   Bwd Avg Packets/Bulk         170366 non-null  int64  \n 61  Bwd Avg Bulk Rate             170366 non-null  int64  \n 62  Subflow Fwd Packets           170366 non-null  int64  \n 63   Subflow Fwd Bytes            170366 non-null  int64  \n 64   Subflow Bwd Packets          170366 non-null  int64  \n 65   Subflow Bwd Bytes            170366 non-null  int64  \n 66  Init_Win_bytes_forward        170366 non-null  int64  \n 67   Init_Win_bytes_backward      170366 non-null  int64  \n 68   act_data_pkt_fwd             170366 non-null  int64  \n 69   min_seg_size_forward         170366 non-null  int64  \n 70  Active Mean                   170366 non-null  float64\n 71   Active Std                   170366 non-null  float64\n 72   Active Max                   170366 non-null  int64  \n 73   Active Min                   170366 non-null  int64  \n 74  Idle Mean                     170366 non-null  float64\n 75   Idle Std                     170366 non-null  float64\n 76   Idle Max                     170366 non-null  int64  \n 77   Idle Min                     170366 non-null  int64  \n 78   Label                        170366 non-null  object \ndtypes: float64(24), int64(54), object(1)\nmemory usage: 102.7+ MB\n"
        }
      ],
      "execution_count": 3,
      "metadata": {
        "jupyter": {
          "source_hidden": false,
          "outputs_hidden": false
        },
        "nteract": {
          "transient": {
            "deleting": false
          }
        }
      }
    },
    {
      "cell_type": "code",
      "source": [
        "X[' Label'].unique()"
      ],
      "outputs": [
        {
          "output_type": "execute_result",
          "execution_count": 4,
          "data": {
            "text/plain": "array(['BENIGN', 'Web Attack � Brute Force', 'Web Attack � XSS',\n       'Web Attack � Sql Injection'], dtype=object)"
          },
          "metadata": {}
        }
      ],
      "execution_count": 4,
      "metadata": {
        "jupyter": {
          "source_hidden": false,
          "outputs_hidden": false
        },
        "nteract": {
          "transient": {
            "deleting": false
          }
        }
      }
    },
    {
      "cell_type": "code",
      "source": [
        "X.replace('BENIGN', 0, inplace=True)\r\n",
        "X.replace('Web Attack � Brute Force', 1, inplace=True)\r\n",
        "X.replace('Web Attack � XSS', 1, inplace=True)\r\n",
        "X.replace('Web Attack � Sql Injection', 1, inplace=True)"
      ],
      "outputs": [],
      "execution_count": 6,
      "metadata": {
        "jupyter": {
          "source_hidden": false,
          "outputs_hidden": false
        },
        "nteract": {
          "transient": {
            "deleting": false
          }
        }
      }
    },
    {
      "cell_type": "code",
      "source": [
        "X[' Label'].unique()"
      ],
      "outputs": [
        {
          "output_type": "execute_result",
          "execution_count": 7,
          "data": {
            "text/plain": "array([0, 1])"
          },
          "metadata": {}
        }
      ],
      "execution_count": 7,
      "metadata": {
        "jupyter": {
          "source_hidden": false,
          "outputs_hidden": false
        },
        "nteract": {
          "transient": {
            "deleting": false
          }
        }
      }
    },
    {
      "cell_type": "code",
      "source": [
        "# Clean Data\r\n",
        "if(np.any(np.isnan(X)) or np.all(np.isfinite(X))):\r\n",
        "    df.dropna(inplace=True)\r\n",
        "    indices_to_keep = ~df.isin([np.nan, np.inf, -np.inf]).any(1)\r\n",
        "    X = X[indices_to_keep]\r\n",
        "\r\n",
        "X.head()"
      ],
      "outputs": [
        {
          "output_type": "execute_result",
          "execution_count": 8,
          "data": {
            "text/plain": "    Destination Port   Flow Duration   Total Fwd Packets  \\\n0                389       113095465                  48   \n1                389       113473706                  68   \n2                  0       119945515                 150   \n3                443        60261928                   9   \n4                 53             269                   2   \n\n    Total Backward Packets  Total Length of Fwd Packets  \\\n0                       24                         9668   \n1                       40                        11364   \n2                        0                            0   \n3                        7                         2330   \n4                        2                          102   \n\n    Total Length of Bwd Packets   Fwd Packet Length Max  \\\n0                         10012                     403   \n1                         12718                     403   \n2                             0                       0   \n3                          4221                    1093   \n4                           322                      51   \n\n    Fwd Packet Length Min   Fwd Packet Length Mean   Fwd Packet Length Std  \\\n0                       0               201.416667              203.548293   \n1                       0               167.117647              171.919413   \n2                       0                 0.000000                0.000000   \n3                       0               258.888889              409.702162   \n4                      51                51.000000                0.000000   \n\n   ...   min_seg_size_forward  Active Mean    Active Std   Active Max  \\\n0  ...                     32   203985.500  5.758373e+05      1629110   \n1  ...                     32   178326.875  5.034269e+05      1424245   \n2  ...                      0  6909777.333  1.170000e+07     20400000   \n3  ...                     20        0.000  0.000000e+00            0   \n4  ...                     32        0.000  0.000000e+00            0   \n\n    Active Min   Idle Mean      Idle Std   Idle Max   Idle Min   Label  \n0          379  13800000.0  4.277541e+06   16500000    6737603       0  \n1          325  13800000.0  4.229413e+06   16500000    6945512       0  \n2            6  24400000.0  2.430000e+07   60100000    5702188       0  \n3            0         0.0  0.000000e+00          0          0       0  \n4            0         0.0  0.000000e+00          0          0       0  \n\n[5 rows x 79 columns]",
            "text/html": "<div>\n<style scoped>\n    .dataframe tbody tr th:only-of-type {\n        vertical-align: middle;\n    }\n\n    .dataframe tbody tr th {\n        vertical-align: top;\n    }\n\n    .dataframe thead th {\n        text-align: right;\n    }\n</style>\n<table border=\"1\" class=\"dataframe\">\n  <thead>\n    <tr style=\"text-align: right;\">\n      <th></th>\n      <th>Destination Port</th>\n      <th>Flow Duration</th>\n      <th>Total Fwd Packets</th>\n      <th>Total Backward Packets</th>\n      <th>Total Length of Fwd Packets</th>\n      <th>Total Length of Bwd Packets</th>\n      <th>Fwd Packet Length Max</th>\n      <th>Fwd Packet Length Min</th>\n      <th>Fwd Packet Length Mean</th>\n      <th>Fwd Packet Length Std</th>\n      <th>...</th>\n      <th>min_seg_size_forward</th>\n      <th>Active Mean</th>\n      <th>Active Std</th>\n      <th>Active Max</th>\n      <th>Active Min</th>\n      <th>Idle Mean</th>\n      <th>Idle Std</th>\n      <th>Idle Max</th>\n      <th>Idle Min</th>\n      <th>Label</th>\n    </tr>\n  </thead>\n  <tbody>\n    <tr>\n      <th>0</th>\n      <td>389</td>\n      <td>113095465</td>\n      <td>48</td>\n      <td>24</td>\n      <td>9668</td>\n      <td>10012</td>\n      <td>403</td>\n      <td>0</td>\n      <td>201.416667</td>\n      <td>203.548293</td>\n      <td>...</td>\n      <td>32</td>\n      <td>203985.500</td>\n      <td>5.758373e+05</td>\n      <td>1629110</td>\n      <td>379</td>\n      <td>13800000.0</td>\n      <td>4.277541e+06</td>\n      <td>16500000</td>\n      <td>6737603</td>\n      <td>0</td>\n    </tr>\n    <tr>\n      <th>1</th>\n      <td>389</td>\n      <td>113473706</td>\n      <td>68</td>\n      <td>40</td>\n      <td>11364</td>\n      <td>12718</td>\n      <td>403</td>\n      <td>0</td>\n      <td>167.117647</td>\n      <td>171.919413</td>\n      <td>...</td>\n      <td>32</td>\n      <td>178326.875</td>\n      <td>5.034269e+05</td>\n      <td>1424245</td>\n      <td>325</td>\n      <td>13800000.0</td>\n      <td>4.229413e+06</td>\n      <td>16500000</td>\n      <td>6945512</td>\n      <td>0</td>\n    </tr>\n    <tr>\n      <th>2</th>\n      <td>0</td>\n      <td>119945515</td>\n      <td>150</td>\n      <td>0</td>\n      <td>0</td>\n      <td>0</td>\n      <td>0</td>\n      <td>0</td>\n      <td>0.000000</td>\n      <td>0.000000</td>\n      <td>...</td>\n      <td>0</td>\n      <td>6909777.333</td>\n      <td>1.170000e+07</td>\n      <td>20400000</td>\n      <td>6</td>\n      <td>24400000.0</td>\n      <td>2.430000e+07</td>\n      <td>60100000</td>\n      <td>5702188</td>\n      <td>0</td>\n    </tr>\n    <tr>\n      <th>3</th>\n      <td>443</td>\n      <td>60261928</td>\n      <td>9</td>\n      <td>7</td>\n      <td>2330</td>\n      <td>4221</td>\n      <td>1093</td>\n      <td>0</td>\n      <td>258.888889</td>\n      <td>409.702162</td>\n      <td>...</td>\n      <td>20</td>\n      <td>0.000</td>\n      <td>0.000000e+00</td>\n      <td>0</td>\n      <td>0</td>\n      <td>0.0</td>\n      <td>0.000000e+00</td>\n      <td>0</td>\n      <td>0</td>\n      <td>0</td>\n    </tr>\n    <tr>\n      <th>4</th>\n      <td>53</td>\n      <td>269</td>\n      <td>2</td>\n      <td>2</td>\n      <td>102</td>\n      <td>322</td>\n      <td>51</td>\n      <td>51</td>\n      <td>51.000000</td>\n      <td>0.000000</td>\n      <td>...</td>\n      <td>32</td>\n      <td>0.000</td>\n      <td>0.000000e+00</td>\n      <td>0</td>\n      <td>0</td>\n      <td>0.0</td>\n      <td>0.000000e+00</td>\n      <td>0</td>\n      <td>0</td>\n      <td>0</td>\n    </tr>\n  </tbody>\n</table>\n<p>5 rows × 79 columns</p>\n</div>"
          },
          "metadata": {}
        }
      ],
      "execution_count": 8,
      "metadata": {
        "jupyter": {
          "source_hidden": false,
          "outputs_hidden": false
        },
        "nteract": {
          "transient": {
            "deleting": false
          }
        }
      }
    },
    {
      "cell_type": "code",
      "source": [
        "# Scale Data\r\n",
        "scaled_features = MinMaxScaler().fit_transform(X.values)\r\n",
        "X = pd.DataFrame(scaled_features, index=X.index, columns=X.columns)\r\n",
        "X.head()"
      ],
      "outputs": [
        {
          "output_type": "execute_result",
          "execution_count": 11,
          "data": {
            "text/plain": "    Destination Port   Flow Duration   Total Fwd Packets  \\\n0           0.005936        0.942462            0.000234   \n1           0.005936        0.945614            0.000334   \n2           0.000000        0.999546            0.000742   \n3           0.006760        0.502183            0.000040   \n4           0.000809        0.000002            0.000005   \n\n    Total Backward Packets  Total Length of Fwd Packets  \\\n0                 0.000089                     0.008076   \n1                 0.000148                     0.009492   \n2                 0.000000                     0.000000   \n3                 0.000026                     0.001946   \n4                 0.000007                     0.000085   \n\n    Total Length of Bwd Packets   Fwd Packet Length Max  \\\n0                  1.596810e-05                0.017252   \n1                  2.028389e-05                0.017252   \n2                  0.000000e+00                0.000000   \n3                  6.732057e-06                0.046789   \n4                  5.135566e-07                0.002183   \n\n    Fwd Packet Length Min   Fwd Packet Length Mean   Fwd Packet Length Std  \\\n0                0.000000                 0.048151                0.037256   \n1                0.000000                 0.039951                0.031467   \n2                0.000000                 0.000000                0.000000   \n3                0.000000                 0.061890                0.074989   \n4                0.029497                 0.012192                0.000000   \n\n   ...   min_seg_size_forward  Active Mean   Active Std   Active Max  \\\n0  ...               0.533333     0.001980     0.009040     0.015817   \n1  ...               0.533333     0.001731     0.007903     0.013828   \n2  ...               0.000000     0.067085     0.183673     0.198058   \n3  ...               0.333333     0.000000     0.000000     0.000000   \n4  ...               0.533333     0.000000     0.000000     0.000000   \n\n     Active Min  Idle Mean   Idle Std   Idle Max   Idle Min   Label  \n0  3.679612e-06   0.115000   0.058919   0.137500   0.056147     0.0  \n1  3.155340e-06   0.115000   0.058256   0.137500   0.057879     0.0  \n2  5.825243e-08   0.203333   0.334711   0.500833   0.047518     0.0  \n3  0.000000e+00   0.000000   0.000000   0.000000   0.000000     0.0  \n4  0.000000e+00   0.000000   0.000000   0.000000   0.000000     0.0  \n\n[5 rows x 79 columns]",
            "text/html": "<div>\n<style scoped>\n    .dataframe tbody tr th:only-of-type {\n        vertical-align: middle;\n    }\n\n    .dataframe tbody tr th {\n        vertical-align: top;\n    }\n\n    .dataframe thead th {\n        text-align: right;\n    }\n</style>\n<table border=\"1\" class=\"dataframe\">\n  <thead>\n    <tr style=\"text-align: right;\">\n      <th></th>\n      <th>Destination Port</th>\n      <th>Flow Duration</th>\n      <th>Total Fwd Packets</th>\n      <th>Total Backward Packets</th>\n      <th>Total Length of Fwd Packets</th>\n      <th>Total Length of Bwd Packets</th>\n      <th>Fwd Packet Length Max</th>\n      <th>Fwd Packet Length Min</th>\n      <th>Fwd Packet Length Mean</th>\n      <th>Fwd Packet Length Std</th>\n      <th>...</th>\n      <th>min_seg_size_forward</th>\n      <th>Active Mean</th>\n      <th>Active Std</th>\n      <th>Active Max</th>\n      <th>Active Min</th>\n      <th>Idle Mean</th>\n      <th>Idle Std</th>\n      <th>Idle Max</th>\n      <th>Idle Min</th>\n      <th>Label</th>\n    </tr>\n  </thead>\n  <tbody>\n    <tr>\n      <th>0</th>\n      <td>0.005936</td>\n      <td>0.942462</td>\n      <td>0.000234</td>\n      <td>0.000089</td>\n      <td>0.008076</td>\n      <td>1.596810e-05</td>\n      <td>0.017252</td>\n      <td>0.000000</td>\n      <td>0.048151</td>\n      <td>0.037256</td>\n      <td>...</td>\n      <td>0.533333</td>\n      <td>0.001980</td>\n      <td>0.009040</td>\n      <td>0.015817</td>\n      <td>3.679612e-06</td>\n      <td>0.115000</td>\n      <td>0.058919</td>\n      <td>0.137500</td>\n      <td>0.056147</td>\n      <td>0.0</td>\n    </tr>\n    <tr>\n      <th>1</th>\n      <td>0.005936</td>\n      <td>0.945614</td>\n      <td>0.000334</td>\n      <td>0.000148</td>\n      <td>0.009492</td>\n      <td>2.028389e-05</td>\n      <td>0.017252</td>\n      <td>0.000000</td>\n      <td>0.039951</td>\n      <td>0.031467</td>\n      <td>...</td>\n      <td>0.533333</td>\n      <td>0.001731</td>\n      <td>0.007903</td>\n      <td>0.013828</td>\n      <td>3.155340e-06</td>\n      <td>0.115000</td>\n      <td>0.058256</td>\n      <td>0.137500</td>\n      <td>0.057879</td>\n      <td>0.0</td>\n    </tr>\n    <tr>\n      <th>2</th>\n      <td>0.000000</td>\n      <td>0.999546</td>\n      <td>0.000742</td>\n      <td>0.000000</td>\n      <td>0.000000</td>\n      <td>0.000000e+00</td>\n      <td>0.000000</td>\n      <td>0.000000</td>\n      <td>0.000000</td>\n      <td>0.000000</td>\n      <td>...</td>\n      <td>0.000000</td>\n      <td>0.067085</td>\n      <td>0.183673</td>\n      <td>0.198058</td>\n      <td>5.825243e-08</td>\n      <td>0.203333</td>\n      <td>0.334711</td>\n      <td>0.500833</td>\n      <td>0.047518</td>\n      <td>0.0</td>\n    </tr>\n    <tr>\n      <th>3</th>\n      <td>0.006760</td>\n      <td>0.502183</td>\n      <td>0.000040</td>\n      <td>0.000026</td>\n      <td>0.001946</td>\n      <td>6.732057e-06</td>\n      <td>0.046789</td>\n      <td>0.000000</td>\n      <td>0.061890</td>\n      <td>0.074989</td>\n      <td>...</td>\n      <td>0.333333</td>\n      <td>0.000000</td>\n      <td>0.000000</td>\n      <td>0.000000</td>\n      <td>0.000000e+00</td>\n      <td>0.000000</td>\n      <td>0.000000</td>\n      <td>0.000000</td>\n      <td>0.000000</td>\n      <td>0.0</td>\n    </tr>\n    <tr>\n      <th>4</th>\n      <td>0.000809</td>\n      <td>0.000002</td>\n      <td>0.000005</td>\n      <td>0.000007</td>\n      <td>0.000085</td>\n      <td>5.135566e-07</td>\n      <td>0.002183</td>\n      <td>0.029497</td>\n      <td>0.012192</td>\n      <td>0.000000</td>\n      <td>...</td>\n      <td>0.533333</td>\n      <td>0.000000</td>\n      <td>0.000000</td>\n      <td>0.000000</td>\n      <td>0.000000e+00</td>\n      <td>0.000000</td>\n      <td>0.000000</td>\n      <td>0.000000</td>\n      <td>0.000000</td>\n      <td>0.0</td>\n    </tr>\n  </tbody>\n</table>\n<p>5 rows × 79 columns</p>\n</div>"
          },
          "metadata": {}
        }
      ],
      "execution_count": 11,
      "metadata": {
        "jupyter": {
          "source_hidden": false,
          "outputs_hidden": false
        },
        "nteract": {
          "transient": {
            "deleting": false
          }
        }
      }
    },
    {
      "cell_type": "code",
      "source": [
        "y_label = X.pop(' Label')\r\n",
        "y_label.head()"
      ],
      "outputs": [
        {
          "output_type": "execute_result",
          "execution_count": 12,
          "data": {
            "text/plain": "0    0.0\n1    0.0\n2    0.0\n3    0.0\n4    0.0\nName:  Label, dtype: float64"
          },
          "metadata": {}
        }
      ],
      "execution_count": 12,
      "metadata": {
        "jupyter": {
          "source_hidden": false,
          "outputs_hidden": false
        },
        "nteract": {
          "transient": {
            "deleting": false
          }
        }
      }
    },
    {
      "cell_type": "code",
      "source": [
        "import xgboost as xgb\r\n",
        "from xgboost import XGBRegressor\r\n",
        "from xgboost import plot_importance\r\n",
        "import matplotlib.pyplot as plt\r\n",
        "\r\n",
        "mod = xgb.XGBRegressor(objective ='reg:squarederror',max_depth = 5, n_estimators = 600)\r\n",
        "mod.fit(X, y_label)\r\n",
        "plot_importance(mod, max_num_features=30)\r\n",
        "plt.show()"
      ],
      "outputs": [
        {
          "output_type": "display_data",
          "data": {
            "text/plain": "<Figure size 432x288 with 1 Axes>",
            "image/png": "[encoded data removed]"
          },
          "metadata": {
            "needs_background": "light"
          }
        }
      ],
      "execution_count": 13,
      "metadata": {
        "jupyter": {
          "source_hidden": false,
          "outputs_hidden": false
        },
        "nteract": {
          "transient": {
            "deleting": false
          }
        }
      }
    },
    {
      "cell_type": "code",
      "source": [
        "# Important Features\r\n",
        "from sklearn.ensemble import RandomForestRegressor\r\n",
        "\r\n",
        "# Create a random forest regressor\r\n",
        "reg = RandomForestRegressor(n_estimators=1000, random_state=0, n_jobs=-1)\r\n",
        "\r\n",
        "# Train the regressor\r\n",
        "reg.fit(X, y_label)\r\n",
        "\r\n",
        "x = {}\r\n",
        "# Print the name and gini importance of each feature\r\n",
        "for feature in zip(list(X.columns), reg.feature_importances_):\r\n",
        "    print(feature)\r\n",
        "    x[feature[0]] = feature[1]"
      ],
      "outputs": [
        {
          "output_type": "stream",
          "name": "stdout",
          "text": "(' Destination Port', 0.023049596100839696)\n(' Flow Duration', 0.00024471330591849315)\n(' Total Fwd Packets', 0.0004414773600633668)\n(' Total Backward Packets', 0.00016537002151662062)\n('Total Length of Fwd Packets', 0.009451461220291653)\n(' Total Length of Bwd Packets', 0.0007869039991864476)\n(' Fwd Packet Length Max', 0.002292891091876243)\n(' Fwd Packet Length Min', 6.059926224473691e-06)\n(' Fwd Packet Length Mean', 0.00337665306387991)\n(' Fwd Packet Length Std', 0.010522365813662067)\n('Bwd Packet Length Max', 0.0010011440809621094)\n(' Bwd Packet Length Min', 7.374468416764751e-06)\n(' Bwd Packet Length Mean', 0.00043738314566909344)\n(' Bwd Packet Length Std', 0.002218070585360001)\n('Flow Bytes/s', 0.0002096000487616311)\n(' Flow Packets/s', 0.00035978018923798084)\n(' Flow IAT Mean', 0.00020864822189381503)\n(' Flow IAT Std', 0.000553235601710361)\n(' Flow IAT Max', 0.001707255046245638)\n(' Flow IAT Min', 0.0003474661629334669)\n('Fwd IAT Total', 0.000546368338730663)\n(' Fwd IAT Mean', 0.000724487241987802)\n(' Fwd IAT Std', 0.0003757562017107178)\n(' Fwd IAT Max', 0.00044631174755649475)\n(' Fwd IAT Min', 0.19227040308821394)\n('Bwd IAT Total', 0.0003506696491871538)\n(' Bwd IAT Mean', 0.00035409199321679137)\n(' Bwd IAT Std', 0.0008451702843369779)\n(' Bwd IAT Max', 0.0007075599888606122)\n(' Bwd IAT Min', 0.007824465767846768)\n('Fwd PSH Flags', 1.399507618224566e-06)\n(' Bwd PSH Flags', 0.0)\n(' Fwd URG Flags', 0.0)\n(' Bwd URG Flags', 0.0)\n(' Fwd Header Length', 0.0007039849289236936)\n(' Bwd Header Length', 0.00016726431517464653)\n('Fwd Packets/s', 0.00023102107500708115)\n(' Bwd Packets/s', 0.03862038479560942)\n(' Min Packet Length', 5.371295348349425e-07)\n(' Max Packet Length', 0.007937368443423898)\n(' Packet Length Mean', 0.0006573554514909762)\n(' Packet Length Std', 0.0008124796296351222)\n(' Packet Length Variance', 0.0006583665575916134)\n('FIN Flag Count', 0.0)\n(' SYN Flag Count', 2.7011819793440115e-06)\n(' RST Flag Count', 0.0)\n(' PSH Flag Count', 1.2948005071178812e-05)\n(' ACK Flag Count', 9.94073780641698e-06)\n(' URG Flag Count', 0.008038857387892754)\n(' CWE Flag Count', 0.0)\n(' ECE Flag Count', 0.0)\n(' Down/Up Ratio', 6.899648901376572e-05)\n(' Average Packet Size', 0.0006862906433882132)\n(' Avg Fwd Segment Size', 0.003508100497856181)\n(' Avg Bwd Segment Size', 0.0004401228950830934)\n(' Fwd Header Length.1', 0.0005939469408593493)\n('Fwd Avg Bytes/Bulk', 0.0)\n(' Fwd Avg Packets/Bulk', 0.0)\n(' Fwd Avg Bulk Rate', 0.0)\n(' Bwd Avg Bytes/Bulk', 0.0)\n(' Bwd Avg Packets/Bulk', 0.0)\n('Bwd Avg Bulk Rate', 0.0)\n('Subflow Fwd Packets', 0.0005455972992209342)\n(' Subflow Fwd Bytes', 0.009909813535271877)\n(' Subflow Bwd Packets', 0.00018029282117581745)\n(' Subflow Bwd Bytes', 0.0007770111573533725)\n('Init_Win_bytes_forward', 0.008428282163409467)\n(' Init_Win_bytes_backward', 0.6492034829935356)\n(' act_data_pkt_fwd', 0.0022216350054390893)\n(' min_seg_size_forward', 0.0032531916277306998)\n('Active Mean', 5.4376472946619695e-05)\n(' Active Std', 2.2574228711986552e-05)\n(' Active Max', 6.406722288739651e-05)\n(' Active Min', 8.940216168227748e-05)\n('Idle Mean', 7.278729022592415e-05)\n(' Idle Std', 2.212524345763642e-05)\n(' Idle Max', 9.342117824169784e-05)\n(' Idle Min', 7.713922945191814e-05)\n"
        }
      ],
      "execution_count": 14,
      "metadata": {
        "jupyter": {
          "source_hidden": false,
          "outputs_hidden": false
        },
        "nteract": {
          "transient": {
            "deleting": false
          }
        }
      }
    },
    {
      "cell_type": "code",
      "source": [
        "# Create training & testing datasets\r\n",
        "from sklearn.metrics import PrecisionRecallDisplay\r\n",
        "from sklearn.metrics import confusion_matrix\r\n",
        "from sklearn.model_selection import KFold\r\n",
        "kf = KFold(n_splits=5)\r\n",
        "\r\n",
        "# Confusion Matrix\r\n",
        "# Precision & Recall\r\n",
        "# plot num of bins vs. accuracy, against no bin approach\r\n",
        "# Use other datasets"
      ],
      "outputs": [],
      "execution_count": 15,
      "metadata": {
        "jupyter": {
          "source_hidden": false,
          "outputs_hidden": false
        },
        "nteract": {
          "transient": {
            "deleting": false
          }
        }
      }
    },
    {
      "cell_type": "markdown",
      "source": [
        "# Using Machine Learning to predict Web attacks\r\n",
        "created two different classification models, a Support Vector Machine (SVM) and Multilayer Perceptron (MLP) neural network. \r\n",
        "These models will be used as baselines for validating the discretization of the features.\r\n",
        "\r\n",
        "**SVM accuracy score: 99.8%**\r\n",
        "\r\n",
        "**MLP accuracy score: 99.9%**"
      ],
      "metadata": {
        "nteract": {
          "transient": {
            "deleting": false
          }
        }
      }
    },
    {
      "cell_type": "code",
      "source": [
        "# Support Vector Machine\r\n",
        "from sklearn.svm import LinearSVC\r\n",
        "linear_SVC = LinearSVC(random_state=0, tol=1e-5)\r\n",
        "for train, test in kf.split(X):\r\n",
        "    X_train, X_test, y_train, y_test = np.array(X), np.array(X), np.array(y_label), np.array(y_label) \r\n",
        "    linear_SVC.fit(X_train[train], y_train[train])\r\n",
        "    accuracy = linear_SVC.score(X_test[test], y_test[test])\r\n",
        "    print(f'train: {train},\\n test: {test},\\n Accuracy Score: {accuracy},\\n Confusion Matrix:\\n{confusion_matrix(y_test[test], linear_SVC.predict(X_test[test]))}\\n')\r\n",
        "  #  display = PrecisionRecallDisplay.from_estimator(linear_SVC, X_test[test], y_test[test], name=\"LinearSVC\")   \r\n",
        "  #  _ = display.ax_.set_title(\"2-class Precision-Recall curve\")"
      ],
      "outputs": [
        {
          "output_type": "stream",
          "name": "stdout",
          "text": "train: [ 34047  34048  34049 ... 170228 170229 170230],\n test: [    0     1     2 ... 34044 34045 34046],\n Accuracy Score: 0.9928040649690134,\n Confusion Matrix:\n[[33341   126]\n [  119   461]]\n\ntrain: [     0      1      2 ... 170228 170229 170230],\n test: [34047 34048 34049 ... 68090 68091 68092],\n Accuracy Score: 0.9900722551841626,\n Confusion Matrix:\n[[32959   160]\n [  178   749]]\n\ntrain: [     0      1      2 ... 170228 170229 170230],\n test: [ 68093  68094  68095 ... 102136 102137 102138],\n Accuracy Score: 0.9941843388356929,\n Confusion Matrix:\n[[33231   142]\n [   56   617]]\n\ntrain: [     0      1      2 ... 170228 170229 170230],\n test: [102139 102140 102141 ... 136182 136183 136184],\n Accuracy Score: 0.9941843388356929,\n Confusion Matrix:\n[[33848   198]\n [    0     0]]\n\ntrain: [     0      1      2 ... 136182 136183 136184],\n test: [136185 136186 136187 ... 170228 170229 170230],\n Accuracy Score: 0.9936850143922927,\n Confusion Matrix:\n[[33831   215]\n [    0     0]]\n\n"
        }
      ],
      "execution_count": 16,
      "metadata": {
        "jupyter": {
          "source_hidden": false,
          "outputs_hidden": false
        },
        "nteract": {
          "transient": {
            "deleting": false
          }
        }
      }
    },
    {
      "cell_type": "code",
      "source": [],
      "outputs": [],
      "execution_count": null,
      "metadata": {
        "jupyter": {
          "source_hidden": false,
          "outputs_hidden": false
        },
        "nteract": {
          "transient": {
            "deleting": false
          }
        }
      }
    },
    {
      "cell_type": "code",
      "source": [
        "# MLP Neural Net\r\n",
        "from sklearn.neural_network import MLPClassifier\r\n",
        "mlp_clf = MLPClassifier(random_state=1, max_iter=300)\r\n",
        "for train, test in kf.split(X):\r\n",
        "    X_train, X_test, y_train, y_test = np.array(X), np.array(X), np.array(y_label), np.array(y_label) \r\n",
        "    mlp_clf.fit(X_train[train], y_train[train])\r\n",
        "    accuracy = mlp_clf.score(X_test[test], y_test[test])\r\n",
        "    loss = mlp_clf.loss_\r\n",
        "    print(f'train: {train},\\n test: {test},\\n Loss: {loss},\\n Accuracy Score: {accuracy},\\n Confusion Matrix:\\n{confusion_matrix(y_test[test], linear_SVC.predict(X_test[test]))}\\n')"
      ],
      "outputs": [
        {
          "output_type": "stream",
          "name": "stdout",
          "text": "train: [ 34047  34048  34049 ... 170228 170229 170230],\n test: [    0     1     2 ... 34044 34045 34046],\n Loss: 0.008579295095845306,\n Accuracy Score: 0.9975328222750903,\n Confusion Matrix:\n[[33331   136]\n [   91   489]]\n\ntrain: [     0      1      2 ... 170228 170229 170230],\n test: [34047 34048 34049 ... 68090 68091 68092],\n Loss: 0.008176930599738653,\n Accuracy Score: 0.9957116841919755,\n Confusion Matrix:\n[[32925   194]\n [  132   795]]\n\ntrain: [     0      1      2 ... 170228 170229 170230],\n test: [ 68093  68094  68095 ... 102136 102137 102138],\n Loss: 0.007877671120896532,\n Accuracy Score: 0.9966515890266111,\n Confusion Matrix:\n[[33214   159]\n [   53   620]]\n\ntrain: [     0      1      2 ... 170228 170229 170230],\n test: [102139 102140 102141 ... 136182 136183 136184],\n Loss: 0.00923329551316688,\n Accuracy Score: 0.9971509134700112,\n Confusion Matrix:\n[[33848   198]\n [    0     0]]\n\ntrain: [     0      1      2 ... 136182 136183 136184],\n test: [136185 136186 136187 ... 170228 170229 170230],\n Loss: 0.009162077772125953,\n Accuracy Score: 0.9962991247136227,\n Confusion Matrix:\n[[33831   215]\n [    0     0]]\n\n"
        }
      ],
      "execution_count": 17,
      "metadata": {
        "jupyter": {
          "source_hidden": false,
          "outputs_hidden": false
        },
        "nteract": {
          "transient": {
            "deleting": false
          }
        }
      }
    },
    {
      "cell_type": "markdown",
      "source": [
        "# Discretized Dataset\r\n",
        "Discretize the same dataset, and run the same models to validate that the predicts can still be acheived using discretized data.\r\n",
        "\r\n",
        "### Bin=5\r\n",
        "\r\n",
        "**SVM accuracy score: 99.8%**\r\n",
        "\r\n",
        "**MLP accuracy score: 98.7%**"
      ],
      "metadata": {
        "nteract": {
          "transient": {
            "deleting": false
          }
        }
      }
    },
    {
      "cell_type": "code",
      "source": [
        "import warnings\r\n",
        "warnings.filterwarnings('ignore')\r\n",
        "from sklearn.preprocessing import KBinsDiscretizer\r\n",
        "\r\n",
        "discrete5 = KBinsDiscretizer(n_bins=5, encode='ordinal', strategy='uniform')\r\n",
        "discrete10 = KBinsDiscretizer(n_bins=10, encode='ordinal', strategy='uniform')\r\n",
        "discrete15 = KBinsDiscretizer(n_bins=15, encode='ordinal', strategy='uniform')\r\n",
        "discrete20 = KBinsDiscretizer(n_bins=20, encode='ordinal', strategy='uniform')\r\n",
        "discrete25 = KBinsDiscretizer(n_bins=25, encode='ordinal', strategy='uniform')\r\n",
        "\r\n",
        "svm_bin_accuracy = {'5bins': 0, '10bins': 0, '15bins': 0, '20bins': 0, '25bins': 0}\r\n",
        "mlp_bin_accuracy = {'5bins': 0, '10bins': 0, '15bins': 0, '20bins': 0, '25bins': 0}"
      ],
      "outputs": [],
      "execution_count": 18,
      "metadata": {
        "jupyter": {
          "source_hidden": false,
          "outputs_hidden": false
        },
        "nteract": {
          "transient": {
            "deleting": false
          }
        }
      }
    },
    {
      "cell_type": "markdown",
      "source": [],
      "metadata": {
        "nteract": {
          "transient": {
            "deleting": false
          }
        }
      }
    },
    {
      "cell_type": "code",
      "source": [
        "# SVM 5 bins\r\n",
        "linear_SVC2 = LinearSVC(random_state=0, tol=1e-5)\r\n",
        "for train, test in kf.split(X):\r\n",
        "    X_train, X_test, y_train, y_test = np.array(X), np.array(X), np.array(y_label), np.array(y_label) \r\n",
        "    Xbin_train = discrete5.fit_transform(X_train)\r\n",
        "    Xbin_test = discrete5.fit_transform(X_test)\r\n",
        "    linear_SVC2.fit(Xbin_train[train], y_train[train])\r\n",
        "    accuracy = linear_SVC2.score(Xbin_test[test], y_test[test])\r\n",
        "    if(svm_bin_accuracy['5bins'] > accuracy):\r\n",
        "        continue\r\n",
        "    else:\r\n",
        "        svm_bin_accuracy['5bins'] = accuracy\r\n",
        "    print(f'train: {train},\\n test: {test},\\n Accuracy Score: {accuracy},\\n Confusion Matrix:\\n{confusion_matrix(y_test[test], linear_SVC.predict(X_test[test]))}\\n')"
      ],
      "outputs": [
        {
          "output_type": "stream",
          "name": "stdout",
          "text": "train: [ 34047  34048  34049 ... 170228 170229 170230],\n test: [    0     1     2 ... 34044 34045 34046],\n Accuracy Score: 0.9811730842658678,\n Confusion Matrix:\n[[33331   136]\n [   91   489]]\n\ntrain: [     0      1      2 ... 170228 170229 170230],\n test: [102139 102140 102141 ... 136182 136183 136184],\n Accuracy Score: 0.9947130353051753,\n Confusion Matrix:\n[[33848   198]\n [    0     0]]\n\n"
        }
      ],
      "execution_count": 19,
      "metadata": {
        "jupyter": {
          "source_hidden": false,
          "outputs_hidden": false
        },
        "nteract": {
          "transient": {
            "deleting": false
          }
        }
      }
    },
    {
      "cell_type": "code",
      "source": [
        "svm_bin_accuracy"
      ],
      "outputs": [
        {
          "output_type": "execute_result",
          "execution_count": 20,
          "data": {
            "text/plain": "{'5bins': 0.9947130353051753,\n '10bins': 0,\n '15bins': 0,\n '20bins': 0,\n '25bins': 0}"
          },
          "metadata": {}
        }
      ],
      "execution_count": 20,
      "metadata": {
        "jupyter": {
          "source_hidden": false,
          "outputs_hidden": false
        },
        "nteract": {
          "transient": {
            "deleting": false
          }
        }
      }
    },
    {
      "cell_type": "code",
      "source": [
        "# MLP Neural Net 5 bins\r\n",
        "mlp_clf2 = MLPClassifier(random_state=1, max_iter=300)\r\n",
        "for train, test in kf.split(X):\r\n",
        "    X_train, X_test, y_train, y_test = np.array(X), np.array(X), np.array(y_label), np.array(y_label)\r\n",
        "    Xbin_train = discrete5.fit_transform(X_train)\r\n",
        "    Xbin_test = discrete5.fit_transform(X_test) \r\n",
        "    mlp_clf2.fit(Xbin_train[train], y_train[train])\r\n",
        "    accuracy = mlp_clf2.score(Xbin_test[test], y_test[test])\r\n",
        "    loss = mlp_clf2.loss_\r\n",
        "    if(mlp_bin_accuracy['5bins'] > accuracy):\r\n",
        "        continue\r\n",
        "    else:\r\n",
        "        mlp_bin_accuracy['5bins'] = accuracy\r\n",
        "    print(f'train: {train},\\n test: {test},\\n layer size: {mlp_clf2.hidden_layer_sizes},\\n Loss: {loss},\\n Accuracy Score: {accuracy}\\n Confusion Matrix:\\n{confusion_matrix(y_test[test], linear_SVC.predict(X_test[test]))}\\n')"
      ],
      "outputs": [
        {
          "output_type": "stream",
          "name": "stdout",
          "text": "train: [ 34047  34048  34049 ... 170228 170229 170230],\n test: [    0     1     2 ... 34044 34045 34046],\n layer size: (100,),\n Loss: 0.014834768806323615,\n Accuracy Score: 0.9940376538314682\n Confusion Matrix:\n[[33331   136]\n [   91   489]]\n\ntrain: [     0      1      2 ... 170228 170229 170230],\n test: [ 68093  68094  68095 ... 102136 102137 102138],\n layer size: (100,),\n Loss: 0.0151189527464396,\n Accuracy Score: 0.9953885919050696\n Confusion Matrix:\n[[33214   159]\n [   53   620]]\n\ntrain: [     0      1      2 ... 170228 170229 170230],\n test: [102139 102140 102141 ... 136182 136183 136184],\n layer size: (100,),\n Loss: 0.017565818463549848,\n Accuracy Score: 0.9967397051048581\n Confusion Matrix:\n[[33848   198]\n [    0     0]]\n\n"
        }
      ],
      "execution_count": 21,
      "metadata": {
        "jupyter": {
          "source_hidden": false,
          "outputs_hidden": false
        },
        "nteract": {
          "transient": {
            "deleting": false
          }
        }
      }
    },
    {
      "cell_type": "code",
      "source": [
        "mlp_bin_accuracy"
      ],
      "outputs": [
        {
          "output_type": "execute_result",
          "execution_count": 22,
          "data": {
            "text/plain": "{'5bins': 0.9967397051048581,\n '10bins': 0,\n '15bins': 0,\n '20bins': 0,\n '25bins': 0}"
          },
          "metadata": {}
        }
      ],
      "execution_count": 22,
      "metadata": {
        "jupyter": {
          "source_hidden": false,
          "outputs_hidden": false
        },
        "nteract": {
          "transient": {
            "deleting": false
          }
        }
      }
    },
    {
      "cell_type": "markdown",
      "source": [
        "### Bins = 10\r\n",
        "\r\n",
        " **SVM Accuracy: 99.87**\r\n",
        "\r\n",
        "**MLP Accuracy: 99.84**"
      ],
      "metadata": {
        "nteract": {
          "transient": {
            "deleting": false
          }
        }
      }
    },
    {
      "cell_type": "code",
      "source": [
        "# SVM 10bins\r\n",
        "linear_SVC2 = LinearSVC(random_state=0, tol=1e-5)\r\n",
        "for train, test in kf.split(X):\r\n",
        "    X_train, X_test, y_train, y_test = np.array(X), np.array(X), np.array(y_label), np.array(y_label) \r\n",
        "    Xbin_train = discrete10.fit_transform(X_train)\r\n",
        "    Xbin_test = discrete10.fit_transform(X_test)\r\n",
        "    linear_SVC2.fit(Xbin_train[train], y_train[train])\r\n",
        "    accuracy = linear_SVC2.score(Xbin_test[test], y_test[test])\r\n",
        "    if(svm_bin_accuracy['10bins'] > accuracy):\r\n",
        "        continue\r\n",
        "    else:\r\n",
        "        svm_bin_accuracy['10bins'] = accuracy\r\n",
        "    print(f'train: {train},\\n test: {test},\\n Accuracy Score: {accuracy},\\n Confusion Matrix:\\n{confusion_matrix(y_test[test], linear_SVC.predict(X_test[test]))}\\n')"
      ],
      "outputs": [
        {
          "output_type": "stream",
          "name": "stdout",
          "text": "train: [ 34047  34048  34049 ... 170228 170229 170230],\n test: [    0     1     2 ... 34044 34045 34046],\n Accuracy Score: 0.9925397244984874,\n Confusion Matrix:\n[[33331   136]\n [   91   489]]\n\ntrain: [     0      1      2 ... 170228 170229 170230],\n test: [ 68093  68094  68095 ... 102136 102137 102138],\n Accuracy Score: 0.9931563179228103,\n Confusion Matrix:\n[[33214   159]\n [   53   620]]\n\ntrain: [     0      1      2 ... 170228 170229 170230],\n test: [102139 102140 102141 ... 136182 136183 136184],\n Accuracy Score: 0.9943018269400223,\n Confusion Matrix:\n[[33848   198]\n [    0     0]]\n\n"
        }
      ],
      "execution_count": 23,
      "metadata": {
        "jupyter": {
          "source_hidden": false,
          "outputs_hidden": false
        },
        "nteract": {
          "transient": {
            "deleting": false
          }
        }
      }
    },
    {
      "cell_type": "code",
      "source": [
        "svm_bin_accuracy"
      ],
      "outputs": [
        {
          "output_type": "execute_result",
          "execution_count": 24,
          "data": {
            "text/plain": "{'5bins': 0.9947130353051753,\n '10bins': 0.9943018269400223,\n '15bins': 0,\n '20bins': 0,\n '25bins': 0}"
          },
          "metadata": {}
        }
      ],
      "execution_count": 24,
      "metadata": {
        "jupyter": {
          "source_hidden": false,
          "outputs_hidden": false
        },
        "nteract": {
          "transient": {
            "deleting": false
          }
        }
      }
    },
    {
      "cell_type": "code",
      "source": [
        "# MLP Neural Net 10 bins\r\n",
        "mlp_clf2 = MLPClassifier(random_state=1, max_iter=300)\r\n",
        "for train, test in kf.split(X):\r\n",
        "    X_train, X_test, y_train, y_test = np.array(X), np.array(X), np.array(y_label), np.array(y_label)\r\n",
        "    Xbin_train = discrete10.fit_transform(X_train)\r\n",
        "    Xbin_test = discrete10.fit_transform(X_test) \r\n",
        "    mlp_clf2.fit(Xbin_train[train], y_train[train])\r\n",
        "    accuracy = mlp_clf2.score(Xbin_test[test], y_test[test])\r\n",
        "    loss = mlp_clf2.loss_\r\n",
        "    if(mlp_bin_accuracy['10bins'] > accuracy):\r\n",
        "        continue\r\n",
        "    else:\r\n",
        "        mlp_bin_accuracy['10bins'] = accuracy\r\n",
        "    print(f'train: {train},\\n test: {test},\\n layer size: {mlp_clf2.hidden_layer_sizes},\\n Loss: {loss},\\n Accuracy Score: {accuracy}\\n Confusion Matrix:\\n{confusion_matrix(y_test[test], linear_SVC.predict(X_test[test]))}\\n')"
      ],
      "outputs": [
        {
          "output_type": "stream",
          "name": "stdout",
          "text": "train: [ 34047  34048  34049 ... 170228 170229 170230],\n test: [    0     1     2 ... 34044 34045 34046],\n layer size: (100,),\n Loss: 0.013755684512569859,\n Accuracy Score: 0.9949775310600053\n Confusion Matrix:\n[[33331   136]\n [   91   489]]\n\ntrain: [     0      1      2 ... 170228 170229 170230],\n test: [ 68093  68094  68095 ... 102136 102137 102138],\n layer size: (100,),\n Loss: 0.013634097354949646,\n Accuracy Score: 0.9954767079833167\n Confusion Matrix:\n[[33214   159]\n [   53   620]]\n\ntrain: [     0      1      2 ... 170228 170229 170230],\n test: [102139 102140 102141 ... 136182 136183 136184],\n layer size: (100,),\n Loss: 0.015998042494130862,\n Accuracy Score: 0.9967397051048581\n Confusion Matrix:\n[[33848   198]\n [    0     0]]\n\n"
        }
      ],
      "execution_count": 25,
      "metadata": {
        "jupyter": {
          "source_hidden": false,
          "outputs_hidden": false
        },
        "nteract": {
          "transient": {
            "deleting": false
          }
        }
      }
    },
    {
      "cell_type": "code",
      "source": [
        "mlp_bin_accuracy"
      ],
      "outputs": [
        {
          "output_type": "execute_result",
          "execution_count": 26,
          "data": {
            "text/plain": "{'5bins': 0.9967397051048581,\n '10bins': 0.9967397051048581,\n '15bins': 0,\n '20bins': 0,\n '25bins': 0}"
          },
          "metadata": {}
        }
      ],
      "execution_count": 26,
      "metadata": {
        "jupyter": {
          "source_hidden": false,
          "outputs_hidden": false
        },
        "nteract": {
          "transient": {
            "deleting": false
          }
        }
      }
    },
    {
      "cell_type": "markdown",
      "source": [
        "### Bins = 15\r\n",
        "\r\n",
        " **SVM Accuracy: 99.85**\r\n",
        "\r\n",
        "**MLP Accuracy: 99.88**"
      ],
      "metadata": {
        "nteract": {
          "transient": {
            "deleting": false
          }
        }
      }
    },
    {
      "cell_type": "code",
      "source": [
        "# SVM 15 bins\r\n",
        "linear_SVC2 = LinearSVC(random_state=0, tol=1e-5)\r\n",
        "for train, test in kf.split(X):\r\n",
        "    X_train, X_test, y_train, y_test = np.array(X), np.array(X), np.array(y_label), np.array(y_label) \r\n",
        "    Xbin_train = discrete15.fit_transform(X_train)\r\n",
        "    Xbin_test = discrete15.fit_transform(X_test)\r\n",
        "    linear_SVC2.fit(Xbin_train[train], y_train[train])\r\n",
        "    accuracy = linear_SVC2.score(Xbin_test[test], y_test[test])\r\n",
        "    if(svm_bin_accuracy['15bins'] > accuracy):\r\n",
        "        continue\r\n",
        "    else:\r\n",
        "        svm_bin_accuracy['15bins'] = accuracy\r\n",
        "    print(f'train: {train},\\n test: {test},\\n Accuracy Score: {accuracy},\\n Confusion Matrix:\\n{confusion_matrix(y_test[test], linear_SVC.predict(X_test[test]))}\\n')"
      ],
      "outputs": [
        {
          "output_type": "stream",
          "name": "stdout",
          "text": "train: [ 34047  34048  34049 ... 170228 170229 170230],\n test: [    0     1     2 ... 34044 34045 34046],\n Accuracy Score: 0.9932740035832819,\n Confusion Matrix:\n[[33331   136]\n [   91   489]]\n\ntrain: [     0      1      2 ... 170228 170229 170230],\n test: [ 68093  68094  68095 ... 102136 102137 102138],\n Accuracy Score: 0.9933031780532221,\n Confusion Matrix:\n[[33214   159]\n [   53   620]]\n\ntrain: [     0      1      2 ... 170228 170229 170230],\n test: [102139 102140 102141 ... 136182 136183 136184],\n Accuracy Score: 0.9940668507313635,\n Confusion Matrix:\n[[33848   198]\n [    0     0]]\n\n"
        }
      ],
      "execution_count": 27,
      "metadata": {
        "jupyter": {
          "source_hidden": false,
          "outputs_hidden": false
        },
        "nteract": {
          "transient": {
            "deleting": false
          }
        }
      }
    },
    {
      "cell_type": "code",
      "source": [
        "svm_bin_accuracy"
      ],
      "outputs": [
        {
          "output_type": "execute_result",
          "execution_count": 28,
          "data": {
            "text/plain": "{'5bins': 0.9947130353051753,\n '10bins': 0.9943018269400223,\n '15bins': 0.9940668507313635,\n '20bins': 0,\n '25bins': 0}"
          },
          "metadata": {}
        }
      ],
      "execution_count": 28,
      "metadata": {
        "jupyter": {
          "source_hidden": false,
          "outputs_hidden": false
        },
        "nteract": {
          "transient": {
            "deleting": false
          }
        }
      }
    },
    {
      "cell_type": "code",
      "source": [
        "# MLP Neural Net 15 bins\r\n",
        "mlp_clf2 = MLPClassifier(random_state=1, max_iter=300)\r\n",
        "for train, test in kf.split(X):\r\n",
        "    X_train, X_test, y_train, y_test = np.array(X), np.array(X), np.array(y_label), np.array(y_label)\r\n",
        "    Xbin_train = discrete15.fit_transform(X_train)\r\n",
        "    Xbin_test = discrete15.fit_transform(X_test) \r\n",
        "    mlp_clf2.fit(Xbin_train[train], y_train[train])\r\n",
        "    accuracy = mlp_clf2.score(Xbin_test[test], y_test[test])\r\n",
        "    loss = mlp_clf2.loss_\r\n",
        "    if(mlp_bin_accuracy['15bins'] > accuracy):\r\n",
        "        continue\r\n",
        "    else:\r\n",
        "        mlp_bin_accuracy['15bins'] = accuracy\r\n",
        "    print(f'train: {train},\\n test: {test},\\n layer size: {mlp_clf2.hidden_layer_sizes},\\n Loss: {loss},\\n Accuracy Score: {accuracy}\\n Confusion Matrix:\\n{confusion_matrix(y_test[test], linear_SVC.predict(X_test[test]))}\\n')"
      ],
      "outputs": [
        {
          "output_type": "stream",
          "name": "stdout",
          "text": "train: [ 34047  34048  34049 ... 170228 170229 170230],\n test: [    0     1     2 ... 34044 34045 34046],\n layer size: (100,),\n Loss: 0.012734319676607707,\n Accuracy Score: 0.995564954327841\n Confusion Matrix:\n[[33331   136]\n [   91   489]]\n\ntrain: [     0      1      2 ... 170228 170229 170230],\n test: [102139 102140 102141 ... 136182 136183 136184],\n layer size: (100,),\n Loss: 0.014452897374134908,\n Accuracy Score: 0.9967397051048581\n Confusion Matrix:\n[[33848   198]\n [    0     0]]\n\n"
        }
      ],
      "execution_count": 29,
      "metadata": {
        "jupyter": {
          "source_hidden": false,
          "outputs_hidden": false
        },
        "nteract": {
          "transient": {
            "deleting": false
          }
        }
      }
    },
    {
      "cell_type": "code",
      "source": [
        "mlp_bin_accuracy"
      ],
      "outputs": [
        {
          "output_type": "execute_result",
          "execution_count": 30,
          "data": {
            "text/plain": "{'5bins': 0.9967397051048581,\n '10bins': 0.9967397051048581,\n '15bins': 0.9967397051048581,\n '20bins': 0,\n '25bins': 0}"
          },
          "metadata": {}
        }
      ],
      "execution_count": 30,
      "metadata": {
        "jupyter": {
          "source_hidden": false,
          "outputs_hidden": false
        },
        "nteract": {
          "transient": {
            "deleting": false
          }
        }
      }
    },
    {
      "cell_type": "markdown",
      "source": [
        "### Bins = 20\r\n",
        "\r\n",
        " **SVM Accuracy: 99.87**\r\n",
        "\r\n",
        "**MLP Accuracy: 99.85**"
      ],
      "metadata": {
        "nteract": {
          "transient": {
            "deleting": false
          }
        }
      }
    },
    {
      "cell_type": "code",
      "source": [
        "# SVM 20 bins\r\n",
        "linear_SVC2 = LinearSVC(random_state=0, tol=1e-5)\r\n",
        "for train, test in kf.split(X):\r\n",
        "    X_train, X_test, y_train, y_test = np.array(X), np.array(X), np.array(y_label), np.array(y_label) \r\n",
        "    Xbin_train = discrete20.fit_transform(X_train)\r\n",
        "    Xbin_test = discrete20.fit_transform(X_test)\r\n",
        "    linear_SVC2.fit(Xbin_train[train], y_train[train])\r\n",
        "    accuracy = linear_SVC2.score(Xbin_test[test], y_test[test])\r\n",
        "    if(svm_bin_accuracy['20bins'] > accuracy):\r\n",
        "        continue\r\n",
        "    else:\r\n",
        "        svm_bin_accuracy['20bins'] = accuracy\r\n",
        "    print(f'train: {train},\\n test: {test},\\n Accuracy Score: {accuracy},\\n Confusion Matrix:\\n{confusion_matrix(y_test[test], linear_SVC.predict(X_test[test]))}\\n')"
      ],
      "outputs": [
        {
          "output_type": "stream",
          "name": "stdout",
          "text": "train: [ 34047  34048  34049 ... 170228 170229 170230],\n test: [    0     1     2 ... 34044 34045 34046],\n Accuracy Score: 0.9849619643434077,\n Confusion Matrix:\n[[33331   136]\n [   91   489]]\n\ntrain: [     0      1      2 ... 170228 170229 170230],\n test: [ 68093  68094  68095 ... 102136 102137 102138],\n Accuracy Score: 0.9940668507313635,\n Confusion Matrix:\n[[33214   159]\n [   53   620]]\n\ntrain: [     0      1      2 ... 136182 136183 136184],\n test: [136185 136186 136187 ... 170228 170229 170230],\n Accuracy Score: 0.9945955472008459,\n Confusion Matrix:\n[[33831   215]\n [    0     0]]\n\n"
        }
      ],
      "execution_count": 31,
      "metadata": {
        "jupyter": {
          "source_hidden": false,
          "outputs_hidden": false
        },
        "nteract": {
          "transient": {
            "deleting": false
          }
        }
      }
    },
    {
      "cell_type": "code",
      "source": [
        "svm_bin_accuracy"
      ],
      "outputs": [
        {
          "output_type": "execute_result",
          "execution_count": 32,
          "data": {
            "text/plain": "{'5bins': 0.9947130353051753,\n '10bins': 0.9943018269400223,\n '15bins': 0.9940668507313635,\n '20bins': 0.9945955472008459,\n '25bins': 0}"
          },
          "metadata": {}
        }
      ],
      "execution_count": 32,
      "metadata": {
        "jupyter": {
          "source_hidden": false,
          "outputs_hidden": false
        },
        "nteract": {
          "transient": {
            "deleting": false
          }
        }
      }
    },
    {
      "cell_type": "code",
      "source": [
        "# MLP Neural Net 20 bins\r\n",
        "mlp_clf2 = MLPClassifier(random_state=1, max_iter=300)\r\n",
        "for train, test in kf.split(X):\r\n",
        "    X_train, X_test, y_train, y_test = np.array(X), np.array(X), np.array(y_label), np.array(y_label)\r\n",
        "    Xbin_train = discrete20.fit_transform(X_train)\r\n",
        "    Xbin_test = discrete20.fit_transform(X_test) \r\n",
        "    mlp_clf2.fit(Xbin_train[train], y_train[train])\r\n",
        "    accuracy = mlp_clf2.score(Xbin_test[test], y_test[test])\r\n",
        "    loss = mlp_clf2.loss_\r\n",
        "    if(mlp_bin_accuracy['20bins'] > accuracy):\r\n",
        "        continue\r\n",
        "    else:\r\n",
        "        mlp_bin_accuracy['20bins'] = accuracy\r\n",
        "    print(f'train: {train},\\n test: {test},\\n layer size: {mlp_clf2.hidden_layer_sizes},\\n Loss: {loss},\\n Accuracy Score: {accuracy}\\n Confusion Matrix:\\n{confusion_matrix(y_test[test], linear_SVC.predict(X_test[test]))}\\n')"
      ],
      "outputs": [
        {
          "output_type": "stream",
          "name": "stdout",
          "text": "train: [ 34047  34048  34049 ... 170228 170229 170230],\n test: [    0     1     2 ... 34044 34045 34046],\n layer size: (100,),\n Loss: 0.011674984179623359,\n Accuracy Score: 0.995829294798367\n Confusion Matrix:\n[[33331   136]\n [   91   489]]\n\ntrain: [     0      1      2 ... 170228 170229 170230],\n test: [102139 102140 102141 ... 136182 136183 136184],\n layer size: (100,),\n Loss: 0.013234652236082974,\n Accuracy Score: 0.9970921694178464\n Confusion Matrix:\n[[33848   198]\n [    0     0]]\n\n"
        }
      ],
      "execution_count": 33,
      "metadata": {
        "jupyter": {
          "source_hidden": false,
          "outputs_hidden": false
        },
        "nteract": {
          "transient": {
            "deleting": false
          }
        }
      }
    },
    {
      "cell_type": "code",
      "source": [
        "mlp_bin_accuracy"
      ],
      "outputs": [
        {
          "output_type": "execute_result",
          "execution_count": 34,
          "data": {
            "text/plain": "{'5bins': 0.9967397051048581,\n '10bins': 0.9967397051048581,\n '15bins': 0.9967397051048581,\n '20bins': 0.9970921694178464,\n '25bins': 0}"
          },
          "metadata": {}
        }
      ],
      "execution_count": 34,
      "metadata": {
        "jupyter": {
          "source_hidden": false,
          "outputs_hidden": false
        },
        "nteract": {
          "transient": {
            "deleting": false
          }
        }
      }
    },
    {
      "cell_type": "markdown",
      "source": [
        "### Bins = 25\r\n",
        "\r\n",
        " **SVM Accuracy: 99.82**\r\n",
        "\r\n",
        "**MLP Accuracy: 99.87**"
      ],
      "metadata": {
        "nteract": {
          "transient": {
            "deleting": false
          }
        }
      }
    },
    {
      "cell_type": "code",
      "source": [
        "# SVM 25 bins\r\n",
        "linear_SVC2 = LinearSVC(random_state=0, tol=1e-5)\r\n",
        "for train, test in kf.split(X):\r\n",
        "    X_train, X_test, y_train, y_test = np.array(X), np.array(X), np.array(y_label), np.array(y_label) \r\n",
        "    Xbin_train = discrete25.fit_transform(X_train)\r\n",
        "    Xbin_test = discrete25.fit_transform(X_test)\r\n",
        "    linear_SVC2.fit(Xbin_train[train], y_train[train])\r\n",
        "    accuracy = linear_SVC2.score(Xbin_test[test], y_test[test])\r\n",
        "    if(svm_bin_accuracy['25bins'] > accuracy):\r\n",
        "        continue\r\n",
        "    else:\r\n",
        "        svm_bin_accuracy['25bins'] = accuracy\r\n",
        "    print(f'train: {train},\\n test: {test},\\n Accuracy Score: {accuracy},\\n Confusion Matrix:\\n{confusion_matrix(y_test[test], linear_SVC.predict(X_test[test]))}\\n')"
      ],
      "outputs": [
        {
          "output_type": "stream",
          "name": "stdout",
          "text": "train: [ 34047  34048  34049 ... 170228 170229 170230],\n test: [    0     1     2 ... 34044 34045 34046],\n Accuracy Score: 0.9937439421975505,\n Confusion Matrix:\n[[33331   136]\n [   91   489]]\n\ntrain: [     0      1      2 ... 170228 170229 170230],\n test: [ 68093  68094  68095 ... 102136 102137 102138],\n Accuracy Score: 0.9955354520354814,\n Confusion Matrix:\n[[33214   159]\n [   53   620]]\n\ntrain: [     0      1      2 ... 170228 170229 170230],\n test: [102139 102140 102141 ... 136182 136183 136184],\n Accuracy Score: 0.9964166128179521,\n Confusion Matrix:\n[[33848   198]\n [    0     0]]\n\n"
        }
      ],
      "execution_count": 35,
      "metadata": {
        "jupyter": {
          "source_hidden": false,
          "outputs_hidden": false
        },
        "nteract": {
          "transient": {
            "deleting": false
          }
        }
      }
    },
    {
      "cell_type": "code",
      "source": [
        "svm_bin_accuracy"
      ],
      "outputs": [
        {
          "output_type": "execute_result",
          "execution_count": 36,
          "data": {
            "text/plain": "{'5bins': 0.9947130353051753,\n '10bins': 0.9943018269400223,\n '15bins': 0.9940668507313635,\n '20bins': 0.9945955472008459,\n '25bins': 0.9964166128179521}"
          },
          "metadata": {}
        }
      ],
      "execution_count": 36,
      "metadata": {
        "jupyter": {
          "source_hidden": false,
          "outputs_hidden": false
        },
        "nteract": {
          "transient": {
            "deleting": false
          }
        }
      }
    },
    {
      "cell_type": "code",
      "source": [
        "# MLP Neural Net 25 bins\r\n",
        "mlp_clf2 = MLPClassifier(random_state=1, max_iter=300)\r\n",
        "for train, test in kf.split(X):\r\n",
        "    X_train, X_test, y_train, y_test = np.array(X), np.array(X), np.array(y_label), np.array(y_label)\r\n",
        "    Xbin_train = discrete25.fit_transform(X_train)\r\n",
        "    Xbin_test = discrete25.fit_transform(X_test) \r\n",
        "    mlp_clf2.fit(Xbin_train[train], y_train[train])\r\n",
        "    accuracy = mlp_clf2.score(Xbin_test[test], y_test[test])\r\n",
        "    loss = mlp_clf2.loss_\r\n",
        "    if(mlp_bin_accuracy['25bins'] > accuracy):\r\n",
        "        continue\r\n",
        "    else:\r\n",
        "        mlp_bin_accuracy['25bins'] = accuracy\r\n",
        "    print(f'train: {train},\\n test: {test},\\n layer size: {mlp_clf2.hidden_layer_sizes},\\n Loss: {loss},\\n Accuracy Score: {accuracy}\\n Confusion Matrix:\\n{confusion_matrix(y_test[test], linear_SVC.predict(X_test[test]))}\\n')"
      ],
      "outputs": [
        {
          "output_type": "stream",
          "name": "stdout",
          "text": "train: [ 34047  34048  34049 ... 170228 170229 170230],\n test: [    0     1     2 ... 34044 34045 34046],\n layer size: (100,),\n Loss: 0.011299023648823419,\n Accuracy Score: 0.9961230064322848\n Confusion Matrix:\n[[33331   136]\n [   91   489]]\n\ntrain: [     0      1      2 ... 170228 170229 170230],\n test: [102139 102140 102141 ... 136182 136183 136184],\n layer size: (100,),\n Loss: 0.011825985774327053,\n Accuracy Score: 0.99738588967867\n Confusion Matrix:\n[[33848   198]\n [    0     0]]\n\n"
        }
      ],
      "execution_count": 37,
      "metadata": {
        "jupyter": {
          "source_hidden": false,
          "outputs_hidden": false
        },
        "nteract": {
          "transient": {
            "deleting": false
          }
        }
      }
    },
    {
      "cell_type": "code",
      "source": [
        "mlp_bin_accuracy"
      ],
      "outputs": [
        {
          "output_type": "execute_result",
          "execution_count": 38,
          "data": {
            "text/plain": "{'5bins': 0.9967397051048581,\n '10bins': 0.9967397051048581,\n '15bins': 0.9967397051048581,\n '20bins': 0.9970921694178464,\n '25bins': 0.99738588967867}"
          },
          "metadata": {}
        }
      ],
      "execution_count": 38,
      "metadata": {
        "jupyter": {
          "source_hidden": false,
          "outputs_hidden": false
        },
        "nteract": {
          "transient": {
            "deleting": false
          }
        }
      }
    }
  ],
  "metadata": {
    "kernelspec": {
      "name": "python38-azureml",
      "language": "python",
      "display_name": "Python 3.8 - AzureML"
    },
    "language_info": {
      "name": "python",
      "version": "3.8.5",
      "mimetype": "text/x-python",
      "codemirror_mode": {
        "name": "ipython",
        "version": 3
      },
      "pygments_lexer": "ipython3",
      "nbconvert_exporter": "python",
      "file_extension": ".py"
    },
    "kernel_info": {
      "name": "python38-azureml"
    },
    "nteract": {
      "version": "nteract-front-end@1.0.0"
    }
  },
  "nbformat": 4,
  "nbformat_minor": 0
}