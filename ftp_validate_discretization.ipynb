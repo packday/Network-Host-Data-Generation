{
  "cells": [
    {
      "cell_type": "code",
      "source": [
        "import numpy as np\r\n",
        "import pandas as pd\r\n",
        "from sklearn.preprocessing import MinMaxScaler\r\n",
        "from sklearn.model_selection import train_test_split\r\n",
        "from sklearn.pipeline import Pipeline\r\n",
        "import tensorflow as tf\r\n",
        "from tensorflow import keras"
      ],
      "outputs": [],
      "execution_count": 3,
      "metadata": {}
    },
    {
      "cell_type": "markdown",
      "source": [
        "# Intrusion Detection Evaluation Dataset (CIC-IDS2017)\r\n",
        "### FTP Attack Data\r\n",
        "\r\n",
        "Intrusion Detection Systems (IDSs) and Intrusion Prevention Systems (IPSs) are the most important defense tools against the sophisticated and ever-growing network attacks. Due to the lack of reliable test and validation datasets, anomaly-based intrusion detection approaches are suffering from consistent and accurate performance evolutions.\r\n",
        "\r\n",
        "[https://www.unb.ca/cic/datasets/ids-2017.html]\r\n"
      ],
      "metadata": {
        "nteract": {
          "transient": {
            "deleting": false
          }
        }
      }
    },
    {
      "cell_type": "code",
      "source": [
        "# Load Data\r\n",
        "df = pd.read_csv(\"data/CICIDS-2017/Tuesday-WorkingHours.pcap_ISCX.csv\")\r\n",
        "X = df"
      ],
      "outputs": [],
      "execution_count": 4,
      "metadata": {
        "jupyter": {
          "source_hidden": false,
          "outputs_hidden": false
        },
        "nteract": {
          "transient": {
            "deleting": false
          }
        }
      }
    },
    {
      "cell_type": "code",
      "source": [
        "X.info()"
      ],
      "outputs": [
        {
          "output_type": "stream",
          "name": "stdout",
          "text": "<class 'pandas.core.frame.DataFrame'>\nRangeIndex: 445909 entries, 0 to 445908\nData columns (total 79 columns):\n #   Column                        Non-Null Count   Dtype  \n---  ------                        --------------   -----  \n 0    Destination Port             445909 non-null  int64  \n 1    Flow Duration                445909 non-null  int64  \n 2    Total Fwd Packets            445909 non-null  int64  \n 3    Total Backward Packets       445909 non-null  int64  \n 4   Total Length of Fwd Packets   445909 non-null  int64  \n 5    Total Length of Bwd Packets  445909 non-null  int64  \n 6    Fwd Packet Length Max        445909 non-null  int64  \n 7    Fwd Packet Length Min        445909 non-null  int64  \n 8    Fwd Packet Length Mean       445909 non-null  float64\n 9    Fwd Packet Length Std        445909 non-null  float64\n 10  Bwd Packet Length Max         445909 non-null  int64  \n 11   Bwd Packet Length Min        445909 non-null  int64  \n 12   Bwd Packet Length Mean       445909 non-null  float64\n 13   Bwd Packet Length Std        445909 non-null  float64\n 14  Flow Bytes/s                  445708 non-null  float64\n 15   Flow Packets/s               445909 non-null  float64\n 16   Flow IAT Mean                445909 non-null  float64\n 17   Flow IAT Std                 445909 non-null  float64\n 18   Flow IAT Max                 445909 non-null  int64  \n 19   Flow IAT Min                 445909 non-null  int64  \n 20  Fwd IAT Total                 445909 non-null  int64  \n 21   Fwd IAT Mean                 445909 non-null  float64\n 22   Fwd IAT Std                  445909 non-null  float64\n 23   Fwd IAT Max                  445909 non-null  int64  \n 24   Fwd IAT Min                  445909 non-null  int64  \n 25  Bwd IAT Total                 445909 non-null  int64  \n 26   Bwd IAT Mean                 445909 non-null  float64\n 27   Bwd IAT Std                  445909 non-null  float64\n 28   Bwd IAT Max                  445909 non-null  int64  \n 29   Bwd IAT Min                  445909 non-null  int64  \n 30  Fwd PSH Flags                 445909 non-null  int64  \n 31   Bwd PSH Flags                445909 non-null  int64  \n 32   Fwd URG Flags                445909 non-null  int64  \n 33   Bwd URG Flags                445909 non-null  int64  \n 34   Fwd Header Length            445909 non-null  int64  \n 35   Bwd Header Length            445909 non-null  int64  \n 36  Fwd Packets/s                 445909 non-null  float64\n 37   Bwd Packets/s                445909 non-null  float64\n 38   Min Packet Length            445909 non-null  int64  \n 39   Max Packet Length            445909 non-null  int64  \n 40   Packet Length Mean           445909 non-null  float64\n 41   Packet Length Std            445909 non-null  float64\n 42   Packet Length Variance       445909 non-null  float64\n 43  FIN Flag Count                445909 non-null  int64  \n 44   SYN Flag Count               445909 non-null  int64  \n 45   RST Flag Count               445909 non-null  int64  \n 46   PSH Flag Count               445909 non-null  int64  \n 47   ACK Flag Count               445909 non-null  int64  \n 48   URG Flag Count               445909 non-null  int64  \n 49   CWE Flag Count               445909 non-null  int64  \n 50   ECE Flag Count               445909 non-null  int64  \n 51   Down/Up Ratio                445909 non-null  int64  \n 52   Average Packet Size          445909 non-null  float64\n 53   Avg Fwd Segment Size         445909 non-null  float64\n 54   Avg Bwd Segment Size         445909 non-null  float64\n 55   Fwd Header Length.1          445909 non-null  int64  \n 56  Fwd Avg Bytes/Bulk            445909 non-null  int64  \n 57   Fwd Avg Packets/Bulk         445909 non-null  int64  \n 58   Fwd Avg Bulk Rate            445909 non-null  int64  \n 59   Bwd Avg Bytes/Bulk           445909 non-null  int64  \n 60   Bwd Avg Packets/Bulk         445909 non-null  int64  \n 61  Bwd Avg Bulk Rate             445909 non-null  int64  \n 62  Subflow Fwd Packets           445909 non-null  int64  \n 63   Subflow Fwd Bytes            445909 non-null  int64  \n 64   Subflow Bwd Packets          445909 non-null  int64  \n 65   Subflow Bwd Bytes            445909 non-null  int64  \n 66  Init_Win_bytes_forward        445909 non-null  int64  \n 67   Init_Win_bytes_backward      445909 non-null  int64  \n 68   act_data_pkt_fwd             445909 non-null  int64  \n 69   min_seg_size_forward         445909 non-null  int64  \n 70  Active Mean                   445909 non-null  float64\n 71   Active Std                   445909 non-null  float64\n 72   Active Max                   445909 non-null  int64  \n 73   Active Min                   445909 non-null  int64  \n 74  Idle Mean                     445909 non-null  float64\n 75   Idle Std                     445909 non-null  float64\n 76   Idle Max                     445909 non-null  int64  \n 77   Idle Min                     445909 non-null  int64  \n 78   Label                        445909 non-null  object \ndtypes: float64(24), int64(54), object(1)\nmemory usage: 268.8+ MB\n"
        }
      ],
      "execution_count": 5,
      "metadata": {
        "jupyter": {
          "source_hidden": false,
          "outputs_hidden": false
        },
        "nteract": {
          "transient": {
            "deleting": false
          }
        }
      }
    },
    {
      "cell_type": "code",
      "source": [
        "X[' Label'].unique()"
      ],
      "outputs": [
        {
          "output_type": "execute_result",
          "execution_count": 12,
          "data": {
            "text/plain": "array(['BENIGN', 'FTP-Patator', 'SSH-Patator'], dtype=object)"
          },
          "metadata": {}
        }
      ],
      "execution_count": 12,
      "metadata": {
        "jupyter": {
          "source_hidden": false,
          "outputs_hidden": false
        },
        "nteract": {
          "transient": {
            "deleting": false
          }
        }
      }
    },
    {
      "cell_type": "code",
      "source": [
        "X.replace('BENIGN', 0, inplace=True)\r\n",
        "X.replace('FTP-Patator', 1, inplace=True)\r\n",
        "X.replace('SSH-Patator', 1, inplace=True)"
      ],
      "outputs": [],
      "execution_count": 13,
      "metadata": {
        "jupyter": {
          "source_hidden": false,
          "outputs_hidden": false
        },
        "nteract": {
          "transient": {
            "deleting": false
          }
        }
      }
    },
    {
      "cell_type": "code",
      "source": [
        "X[' Label'].unique()"
      ],
      "outputs": [
        {
          "output_type": "execute_result",
          "execution_count": 14,
          "data": {
            "text/plain": "array([0, 1])"
          },
          "metadata": {}
        }
      ],
      "execution_count": 14,
      "metadata": {
        "jupyter": {
          "source_hidden": false,
          "outputs_hidden": false
        },
        "nteract": {
          "transient": {
            "deleting": false
          }
        }
      }
    },
    {
      "cell_type": "code",
      "source": [
        "# Clean Data\r\n",
        "if(np.any(np.isnan(X)) or np.all(np.isfinite(X))):\r\n",
        "    df.dropna(inplace=True)\r\n",
        "    indices_to_keep = ~df.isin([np.nan, np.inf, -np.inf]).any(1)\r\n",
        "    X = X[indices_to_keep]\r\n",
        "\r\n",
        "X.head()"
      ],
      "outputs": [
        {
          "output_type": "execute_result",
          "execution_count": 15,
          "data": {
            "text/plain": "    Destination Port   Flow Duration   Total Fwd Packets  \\\n0                 88             640                   7   \n1                 88             900                   9   \n2                 88            1205                   7   \n3                 88             511                   7   \n4                 88             773                   9   \n\n    Total Backward Packets  Total Length of Fwd Packets  \\\n0                        4                          440   \n1                        4                          600   \n2                        4                         2776   \n3                        4                          452   \n4                        4                          612   \n\n    Total Length of Bwd Packets   Fwd Packet Length Max  \\\n0                           358                     220   \n1                          2944                     300   \n2                          2830                    1388   \n3                           370                     226   \n4                          2944                     306   \n\n    Fwd Packet Length Min   Fwd Packet Length Mean   Fwd Packet Length Std  \\\n0                       0                62.857143              107.349008   \n1                       0                66.666667              132.287566   \n2                       0               396.571429              677.274651   \n3                       0                64.571429              110.276708   \n4                       0                68.000000              134.933317   \n\n   ...   min_seg_size_forward  Active Mean   Active Std   Active Max  \\\n0  ...                     20          0.0          0.0            0   \n1  ...                     20          0.0          0.0            0   \n2  ...                     20          0.0          0.0            0   \n3  ...                     20          0.0          0.0            0   \n4  ...                     20          0.0          0.0            0   \n\n    Active Min  Idle Mean   Idle Std   Idle Max   Idle Min   Label  \n0            0        0.0        0.0          0          0       0  \n1            0        0.0        0.0          0          0       0  \n2            0        0.0        0.0          0          0       0  \n3            0        0.0        0.0          0          0       0  \n4            0        0.0        0.0          0          0       0  \n\n[5 rows x 79 columns]",
            "text/html": "<div>\n<style scoped>\n    .dataframe tbody tr th:only-of-type {\n        vertical-align: middle;\n    }\n\n    .dataframe tbody tr th {\n        vertical-align: top;\n    }\n\n    .dataframe thead th {\n        text-align: right;\n    }\n</style>\n<table border=\"1\" class=\"dataframe\">\n  <thead>\n    <tr style=\"text-align: right;\">\n      <th></th>\n      <th>Destination Port</th>\n      <th>Flow Duration</th>\n      <th>Total Fwd Packets</th>\n      <th>Total Backward Packets</th>\n      <th>Total Length of Fwd Packets</th>\n      <th>Total Length of Bwd Packets</th>\n      <th>Fwd Packet Length Max</th>\n      <th>Fwd Packet Length Min</th>\n      <th>Fwd Packet Length Mean</th>\n      <th>Fwd Packet Length Std</th>\n      <th>...</th>\n      <th>min_seg_size_forward</th>\n      <th>Active Mean</th>\n      <th>Active Std</th>\n      <th>Active Max</th>\n      <th>Active Min</th>\n      <th>Idle Mean</th>\n      <th>Idle Std</th>\n      <th>Idle Max</th>\n      <th>Idle Min</th>\n      <th>Label</th>\n    </tr>\n  </thead>\n  <tbody>\n    <tr>\n      <th>0</th>\n      <td>88</td>\n      <td>640</td>\n      <td>7</td>\n      <td>4</td>\n      <td>440</td>\n      <td>358</td>\n      <td>220</td>\n      <td>0</td>\n      <td>62.857143</td>\n      <td>107.349008</td>\n      <td>...</td>\n      <td>20</td>\n      <td>0.0</td>\n      <td>0.0</td>\n      <td>0</td>\n      <td>0</td>\n      <td>0.0</td>\n      <td>0.0</td>\n      <td>0</td>\n      <td>0</td>\n      <td>0</td>\n    </tr>\n    <tr>\n      <th>1</th>\n      <td>88</td>\n      <td>900</td>\n      <td>9</td>\n      <td>4</td>\n      <td>600</td>\n      <td>2944</td>\n      <td>300</td>\n      <td>0</td>\n      <td>66.666667</td>\n      <td>132.287566</td>\n      <td>...</td>\n      <td>20</td>\n      <td>0.0</td>\n      <td>0.0</td>\n      <td>0</td>\n      <td>0</td>\n      <td>0.0</td>\n      <td>0.0</td>\n      <td>0</td>\n      <td>0</td>\n      <td>0</td>\n    </tr>\n    <tr>\n      <th>2</th>\n      <td>88</td>\n      <td>1205</td>\n      <td>7</td>\n      <td>4</td>\n      <td>2776</td>\n      <td>2830</td>\n      <td>1388</td>\n      <td>0</td>\n      <td>396.571429</td>\n      <td>677.274651</td>\n      <td>...</td>\n      <td>20</td>\n      <td>0.0</td>\n      <td>0.0</td>\n      <td>0</td>\n      <td>0</td>\n      <td>0.0</td>\n      <td>0.0</td>\n      <td>0</td>\n      <td>0</td>\n      <td>0</td>\n    </tr>\n    <tr>\n      <th>3</th>\n      <td>88</td>\n      <td>511</td>\n      <td>7</td>\n      <td>4</td>\n      <td>452</td>\n      <td>370</td>\n      <td>226</td>\n      <td>0</td>\n      <td>64.571429</td>\n      <td>110.276708</td>\n      <td>...</td>\n      <td>20</td>\n      <td>0.0</td>\n      <td>0.0</td>\n      <td>0</td>\n      <td>0</td>\n      <td>0.0</td>\n      <td>0.0</td>\n      <td>0</td>\n      <td>0</td>\n      <td>0</td>\n    </tr>\n    <tr>\n      <th>4</th>\n      <td>88</td>\n      <td>773</td>\n      <td>9</td>\n      <td>4</td>\n      <td>612</td>\n      <td>2944</td>\n      <td>306</td>\n      <td>0</td>\n      <td>68.000000</td>\n      <td>134.933317</td>\n      <td>...</td>\n      <td>20</td>\n      <td>0.0</td>\n      <td>0.0</td>\n      <td>0</td>\n      <td>0</td>\n      <td>0.0</td>\n      <td>0.0</td>\n      <td>0</td>\n      <td>0</td>\n      <td>0</td>\n    </tr>\n  </tbody>\n</table>\n<p>5 rows × 79 columns</p>\n</div>"
          },
          "metadata": {}
        }
      ],
      "execution_count": 15,
      "metadata": {
        "jupyter": {
          "source_hidden": false,
          "outputs_hidden": false
        },
        "nteract": {
          "transient": {
            "deleting": false
          }
        }
      }
    },
    {
      "cell_type": "code",
      "source": [
        "# Scale Data\r\n",
        "scaled_features = MinMaxScaler().fit_transform(X.values)\r\n",
        "X = pnd.DataFrame(scaled_features, index=X.index, columns=X.columns)\r\n",
        "X.head()"
      ],
      "outputs": [
        {
          "output_type": "execute_result",
          "execution_count": 16,
          "data": {
            "text/plain": "    Destination Port   Flow Duration   Total Fwd Packets  \\\n0           0.001343        0.000005            0.000029   \n1           0.001343        0.000008            0.000039   \n2           0.001343        0.000010            0.000029   \n3           0.001343        0.000004            0.000029   \n4           0.001343        0.000006            0.000039   \n\n    Total Backward Packets  Total Length of Fwd Packets  \\\n0                 0.000014                     0.000181   \n1                 0.000014                     0.000247   \n2                 0.000014                     0.001143   \n3                 0.000014                     0.000186   \n4                 0.000014                     0.000252   \n\n    Total Length of Bwd Packets   Fwd Packet Length Max  \\\n0                  5.709729e-07                0.008864   \n1                  4.695375e-06                0.012087   \n2                  4.513557e-06                0.055923   \n3                  5.901116e-07                0.009106   \n4                  4.695375e-06                0.012329   \n\n    Fwd Packet Length Min   Fwd Packet Length Mean   Fwd Packet Length Std  \\\n0                     0.0                 0.013454                0.019887   \n1                     0.0                 0.014269                0.024506   \n2                     0.0                 0.084883                0.125466   \n3                     0.0                 0.013821                0.020429   \n4                     0.0                 0.014555                0.024997   \n\n   ...   min_seg_size_forward  Active Mean   Active Std   Active Max  \\\n0  ...                    1.0          0.0          0.0          0.0   \n1  ...                    1.0          0.0          0.0          0.0   \n2  ...                    1.0          0.0          0.0          0.0   \n3  ...                    1.0          0.0          0.0          0.0   \n4  ...                    1.0          0.0          0.0          0.0   \n\n    Active Min  Idle Mean   Idle Std   Idle Max   Idle Min   Label  \n0          0.0        0.0        0.0        0.0        0.0     0.0  \n1          0.0        0.0        0.0        0.0        0.0     0.0  \n2          0.0        0.0        0.0        0.0        0.0     0.0  \n3          0.0        0.0        0.0        0.0        0.0     0.0  \n4          0.0        0.0        0.0        0.0        0.0     0.0  \n\n[5 rows x 79 columns]",
            "text/html": "<div>\n<style scoped>\n    .dataframe tbody tr th:only-of-type {\n        vertical-align: middle;\n    }\n\n    .dataframe tbody tr th {\n        vertical-align: top;\n    }\n\n    .dataframe thead th {\n        text-align: right;\n    }\n</style>\n<table border=\"1\" class=\"dataframe\">\n  <thead>\n    <tr style=\"text-align: right;\">\n      <th></th>\n      <th>Destination Port</th>\n      <th>Flow Duration</th>\n      <th>Total Fwd Packets</th>\n      <th>Total Backward Packets</th>\n      <th>Total Length of Fwd Packets</th>\n      <th>Total Length of Bwd Packets</th>\n      <th>Fwd Packet Length Max</th>\n      <th>Fwd Packet Length Min</th>\n      <th>Fwd Packet Length Mean</th>\n      <th>Fwd Packet Length Std</th>\n      <th>...</th>\n      <th>min_seg_size_forward</th>\n      <th>Active Mean</th>\n      <th>Active Std</th>\n      <th>Active Max</th>\n      <th>Active Min</th>\n      <th>Idle Mean</th>\n      <th>Idle Std</th>\n      <th>Idle Max</th>\n      <th>Idle Min</th>\n      <th>Label</th>\n    </tr>\n  </thead>\n  <tbody>\n    <tr>\n      <th>0</th>\n      <td>0.001343</td>\n      <td>0.000005</td>\n      <td>0.000029</td>\n      <td>0.000014</td>\n      <td>0.000181</td>\n      <td>5.709729e-07</td>\n      <td>0.008864</td>\n      <td>0.0</td>\n      <td>0.013454</td>\n      <td>0.019887</td>\n      <td>...</td>\n      <td>1.0</td>\n      <td>0.0</td>\n      <td>0.0</td>\n      <td>0.0</td>\n      <td>0.0</td>\n      <td>0.0</td>\n      <td>0.0</td>\n      <td>0.0</td>\n      <td>0.0</td>\n      <td>0.0</td>\n    </tr>\n    <tr>\n      <th>1</th>\n      <td>0.001343</td>\n      <td>0.000008</td>\n      <td>0.000039</td>\n      <td>0.000014</td>\n      <td>0.000247</td>\n      <td>4.695375e-06</td>\n      <td>0.012087</td>\n      <td>0.0</td>\n      <td>0.014269</td>\n      <td>0.024506</td>\n      <td>...</td>\n      <td>1.0</td>\n      <td>0.0</td>\n      <td>0.0</td>\n      <td>0.0</td>\n      <td>0.0</td>\n      <td>0.0</td>\n      <td>0.0</td>\n      <td>0.0</td>\n      <td>0.0</td>\n      <td>0.0</td>\n    </tr>\n    <tr>\n      <th>2</th>\n      <td>0.001343</td>\n      <td>0.000010</td>\n      <td>0.000029</td>\n      <td>0.000014</td>\n      <td>0.001143</td>\n      <td>4.513557e-06</td>\n      <td>0.055923</td>\n      <td>0.0</td>\n      <td>0.084883</td>\n      <td>0.125466</td>\n      <td>...</td>\n      <td>1.0</td>\n      <td>0.0</td>\n      <td>0.0</td>\n      <td>0.0</td>\n      <td>0.0</td>\n      <td>0.0</td>\n      <td>0.0</td>\n      <td>0.0</td>\n      <td>0.0</td>\n      <td>0.0</td>\n    </tr>\n    <tr>\n      <th>3</th>\n      <td>0.001343</td>\n      <td>0.000004</td>\n      <td>0.000029</td>\n      <td>0.000014</td>\n      <td>0.000186</td>\n      <td>5.901116e-07</td>\n      <td>0.009106</td>\n      <td>0.0</td>\n      <td>0.013821</td>\n      <td>0.020429</td>\n      <td>...</td>\n      <td>1.0</td>\n      <td>0.0</td>\n      <td>0.0</td>\n      <td>0.0</td>\n      <td>0.0</td>\n      <td>0.0</td>\n      <td>0.0</td>\n      <td>0.0</td>\n      <td>0.0</td>\n      <td>0.0</td>\n    </tr>\n    <tr>\n      <th>4</th>\n      <td>0.001343</td>\n      <td>0.000006</td>\n      <td>0.000039</td>\n      <td>0.000014</td>\n      <td>0.000252</td>\n      <td>4.695375e-06</td>\n      <td>0.012329</td>\n      <td>0.0</td>\n      <td>0.014555</td>\n      <td>0.024997</td>\n      <td>...</td>\n      <td>1.0</td>\n      <td>0.0</td>\n      <td>0.0</td>\n      <td>0.0</td>\n      <td>0.0</td>\n      <td>0.0</td>\n      <td>0.0</td>\n      <td>0.0</td>\n      <td>0.0</td>\n      <td>0.0</td>\n    </tr>\n  </tbody>\n</table>\n<p>5 rows × 79 columns</p>\n</div>"
          },
          "metadata": {}
        }
      ],
      "execution_count": 16,
      "metadata": {
        "jupyter": {
          "source_hidden": false,
          "outputs_hidden": false
        },
        "nteract": {
          "transient": {
            "deleting": false
          }
        }
      }
    },
    {
      "cell_type": "code",
      "source": [
        "y_label = X.pop(' Label')\r\n",
        "y_label.head()"
      ],
      "outputs": [
        {
          "output_type": "execute_result",
          "execution_count": 18,
          "data": {
            "text/plain": "0    0.0\n1    0.0\n2    0.0\n3    0.0\n4    0.0\nName:  Label, dtype: float64"
          },
          "metadata": {}
        }
      ],
      "execution_count": 18,
      "metadata": {
        "jupyter": {
          "source_hidden": false,
          "outputs_hidden": false
        },
        "nteract": {
          "transient": {
            "deleting": false
          }
        }
      }
    },
    {
      "cell_type": "code",
      "source": [
        "import xgboost as xgb\r\n",
        "from xgboost import XGBRegressor\r\n",
        "from xgboost import plot_importance\r\n",
        "import matplotlib.pyplot as plt\r\n",
        "\r\n",
        "mod = xgb.XGBRegressor(objective ='reg:squarederror',max_depth = 5, n_estimators = 600)\r\n",
        "mod.fit(X, y_label)\r\n",
        "plot_importance(mod, max_num_features=30)\r\n",
        "plt.show()"
      ],
      "outputs": [
        {
          "output_type": "display_data",
          "data": {
            "text/plain": "<Figure size 432x288 with 1 Axes>",
            "image/png": "[encoded data removed]"
          },
          "metadata": {
            "needs_background": "light"
          }
        }
      ],
      "execution_count": 19,
      "metadata": {
        "jupyter": {
          "source_hidden": false,
          "outputs_hidden": false
        },
        "nteract": {
          "transient": {
            "deleting": false
          }
        }
      }
    },
    {
      "cell_type": "code",
      "source": [
        "# Important Features\r\n",
        "from sklearn.ensemble import RandomForestRegressor\r\n",
        "\r\n",
        "# Create a random forest regressor\r\n",
        "reg = RandomForestRegressor(n_estimators=1000, random_state=0, n_jobs=-1)\r\n",
        "\r\n",
        "# Train the regressor\r\n",
        "reg.fit(X, y_label)\r\n",
        "\r\n",
        "x = {}\r\n",
        "# Print the name and gini importance of each feature\r\n",
        "for feature in zip(list(X.columns), reg.feature_importances_):\r\n",
        "    print(feature)\r\n",
        "    x[feature[0]] = feature[1]"
      ],
      "outputs": [
        {
          "output_type": "stream",
          "name": "stdout",
          "text": "(' Destination Port', 0.7913485403428863)\n(' Flow Duration', 6.680381247727618e-05)\n(' Total Fwd Packets', 0.032931692759522006)\n(' Total Backward Packets', 1.5720668494852483e-05)\n('Total Length of Fwd Packets', 0.008680306575649291)\n(' Total Length of Bwd Packets', 0.0)\n(' Fwd Packet Length Max', 0.0005239482317650208)\n(' Fwd Packet Length Min', 0.0)\n(' Fwd Packet Length Mean', 1.165528601133462e-05)\n(' Fwd Packet Length Std', 0.00012718220458762708)\n('Bwd Packet Length Max', 0.0)\n(' Bwd Packet Length Min', 1.9958469414889982e-05)\n(' Bwd Packet Length Mean', 0.0)\n(' Bwd Packet Length Std', 0.0)\n('Flow Bytes/s', 4.791847819701099e-07)\n(' Flow Packets/s', 0.00014983236489749357)\n(' Flow IAT Mean', 5.265547222189067e-05)\n(' Flow IAT Std', 1.2718096278821408e-05)\n(' Flow IAT Max', 5.425766050917199e-05)\n(' Flow IAT Min', 0.00019253428573246195)\n('Fwd IAT Total', 4.471495121152202e-05)\n(' Fwd IAT Mean', 5.217670158088329e-05)\n(' Fwd IAT Std', 4.588729257101406e-06)\n(' Fwd IAT Max', 4.7759813777096315e-05)\n(' Fwd IAT Min', 0.0022990856455512338)\n('Bwd IAT Total', 3.3890347176518195e-05)\n(' Bwd IAT Mean', 0.00012512672832049008)\n(' Bwd IAT Std', 2.5854972361300364e-05)\n(' Bwd IAT Max', 1.377975484537897e-05)\n(' Bwd IAT Min', 2.5888461884674435e-05)\n('Fwd PSH Flags', 0.0004760261178388333)\n(' Bwd PSH Flags', 0.0)\n(' Fwd URG Flags', 0.0)\n(' Bwd URG Flags', 0.0)\n(' Fwd Header Length', 0.0)\n(' Bwd Header Length', 0.0)\n('Fwd Packets/s', 0.0001457841713200916)\n(' Bwd Packets/s', 0.00417548170289507)\n(' Min Packet Length', 0.0)\n(' Max Packet Length', 0.00015670827074904613)\n(' Packet Length Mean', 0.011281498723872687)\n(' Packet Length Std', 0.003169239126073531)\n(' Packet Length Variance', 0.0035785315264787805)\n('FIN Flag Count', 0.0)\n(' SYN Flag Count', 0.00046014288292716955)\n(' RST Flag Count', 0.0)\n(' PSH Flag Count', 0.0)\n(' ACK Flag Count', 5.29990104441338e-06)\n(' URG Flag Count', 1.9087278936788694e-05)\n(' CWE Flag Count', 0.0)\n(' ECE Flag Count', 0.0)\n(' Down/Up Ratio', 1.183821503276959e-05)\n(' Average Packet Size', 0.009875283982532365)\n(' Avg Fwd Segment Size', 8.088586227842777e-06)\n(' Avg Bwd Segment Size', 0.0)\n(' Fwd Header Length.1', 0.0)\n('Fwd Avg Bytes/Bulk', 0.0)\n(' Fwd Avg Packets/Bulk', 0.0)\n(' Fwd Avg Bulk Rate', 0.0)\n(' Bwd Avg Bytes/Bulk', 0.0)\n(' Bwd Avg Packets/Bulk', 0.0)\n('Bwd Avg Bulk Rate', 0.0)\n('Subflow Fwd Packets', 0.03195771492656357)\n(' Subflow Fwd Bytes', 0.008682815224434629)\n(' Subflow Bwd Packets', 1.581468843889036e-05)\n(' Subflow Bwd Bytes', 0.0)\n('Init_Win_bytes_forward', 0.0017762332549103772)\n(' Init_Win_bytes_backward', 0.07900272557788628)\n(' act_data_pkt_fwd', 0.008339037456674305)\n(' min_seg_size_forward', 0.0)\n('Active Mean', 1.1533676042089363e-07)\n(' Active Std', 0.0)\n(' Active Max', 1.6798855176578165e-07)\n(' Active Min', 4.6626897816013476e-07)\n('Idle Mean', 3.162831418553103e-07)\n(' Idle Std', 0.0)\n(' Idle Max', 2.2589504961410714e-07)\n(' Idle Min', 2.0509148414081666e-07)\n"
        }
      ],
      "execution_count": 20,
      "metadata": {
        "jupyter": {
          "source_hidden": false,
          "outputs_hidden": false
        },
        "nteract": {
          "transient": {
            "deleting": false
          }
        }
      }
    },
    {
      "cell_type": "code",
      "source": [
        "# Create training & testing datasets\r\n",
        "from sklearn.metrics import PrecisionRecallDisplay\r\n",
        "from sklearn.metrics import confusion_matrix\r\n",
        "from sklearn.model_selection import KFold\r\n",
        "kf = KFold(n_splits=5)\r\n",
        "\r\n",
        "# Confusion Matrix\r\n",
        "# Precision & Recall\r\n",
        "# plot num of bins vs. accuracy, against no bin approach\r\n",
        "# Use other datasets"
      ],
      "outputs": [],
      "execution_count": 21,
      "metadata": {
        "jupyter": {
          "source_hidden": false,
          "outputs_hidden": false
        },
        "nteract": {
          "transient": {
            "deleting": false
          }
        }
      }
    },
    {
      "cell_type": "markdown",
      "source": [
        "# Using Machine Learning to predict DDos attack\r\n",
        "created two different classification models, a Support Vector Machine (SVM) and Multilayer Perceptron (MLP) neural network. \r\n",
        "These models will be used as baselines for validating the discretization of the features.\r\n",
        "\r\n",
        "**SVM accuracy score: 99.8%**\r\n",
        "\r\n",
        "**MLP accuracy score: 99.9%**"
      ],
      "metadata": {
        "nteract": {
          "transient": {
            "deleting": false
          }
        }
      }
    },
    {
      "cell_type": "code",
      "source": [
        "# Support Vector Machine\r\n",
        "from sklearn.svm import LinearSVC\r\n",
        "linear_SVC = LinearSVC(random_state=0, tol=1e-5)\r\n",
        "for train, test in kf.split(X):\r\n",
        "    X_train, X_test, y_train, y_test = np.array(X), np.array(X), np.array(y_label), np.array(y_label) \r\n",
        "    linear_SVC.fit(X_train[train], y_train[train])\r\n",
        "    accuracy = linear_SVC.score(X_test[test], y_test[test])\r\n",
        "    print(f'train: {train},\\n test: {test},\\n Accuracy Score: {accuracy},\\n Confusion Matrix:\\n{confusion_matrix(y_test[test], linear_SVC.predict(X_test[test]))}\\n')\r\n",
        "  #  display = PrecisionRecallDisplay.from_estimator(linear_SVC, X_test[test], y_test[test], name=\"LinearSVC\")   \r\n",
        "  #  _ = display.ax_.set_title(\"2-class Precision-Recall curve\")"
      ],
      "outputs": [
        {
          "output_type": "stream",
          "name": "stdout",
          "text": "train: [ 89129  89130  89131 ... 445642 445643 445644],\n test: [    0     1     2 ... 89126 89127 89128],\n Accuracy Score: 0.9420951654343704,\n Confusion Matrix:\n[[81183    28]\n [ 5133  2785]]\n\ntrain: [     0      1      2 ... 445642 445643 445644],\n test: [ 89129  89130  89131 ... 178255 178256 178257],\n Accuracy Score: 0.9904744808087155,\n Confusion Matrix:\n[[87842   409]\n [  440   438]]\n\ntrain: [     0      1      2 ... 445642 445643 445644],\n test: [178258 178259 178260 ... 267384 267385 267386],\n Accuracy Score: 0.9805450526764578,\n Confusion Matrix:\n[[86336   680]\n [ 1054  1059]]\n\ntrain: [     0      1      2 ... 445642 445643 445644],\n test: [267387 267388 267389 ... 356513 356514 356515],\n Accuracy Score: 0.9921686544222419,\n Confusion Matrix:\n[[87741    15]\n [  683   690]]\n\ntrain: [     0      1      2 ... 356513 356514 356515],\n test: [356516 356517 356518 ... 445642 445643 445644],\n Accuracy Score: 0.9912037608410281,\n Confusion Matrix:\n[[87566    13]\n [  771   779]]\n\n"
        }
      ],
      "execution_count": 23,
      "metadata": {
        "jupyter": {
          "source_hidden": false,
          "outputs_hidden": false
        },
        "nteract": {
          "transient": {
            "deleting": false
          }
        }
      }
    },
    {
      "cell_type": "code",
      "source": [],
      "outputs": [],
      "execution_count": null,
      "metadata": {
        "jupyter": {
          "source_hidden": false,
          "outputs_hidden": false
        },
        "nteract": {
          "transient": {
            "deleting": false
          }
        }
      }
    },
    {
      "cell_type": "code",
      "source": [
        "# MLP Neural Net\r\n",
        "from sklearn.neural_network import MLPClassifier\r\n",
        "mlp_clf = MLPClassifier(random_state=1, max_iter=300)\r\n",
        "mlp_clf.\r\n",
        "# for train, test in kf.split(X):\r\n",
        "#     X_train, X_test, y_train, y_test = np.array(X), np.array(X), np.array(y_label), np.array(y_label) \r\n",
        "#     mlp_clf.fit(X_train[train], y_train[train])\r\n",
        "#     accuracy = mlp_clf.score(X_test[test], y_test[test])\r\n",
        "#     loss = mlp_clf.loss_\r\n",
        "#     print(f'train: {train},\\n test: {test},\\n Loss: {loss},\\n Accuracy Score: {accuracy},\\n Confusion Matrix:\\n{confusion_matrix(y_test[test], linear_SVC.predict(X_test[test]))}\\n')"
      ],
      "outputs": [
        {
          "output_type": "stream",
          "name": "stdout",
          "text": "train: [ 89129  89130  89131 ... 445642 445643 445644],\n test: [    0     1     2 ... 89126 89127 89128],\n Loss: 0.003962662124633416,\n Accuracy Score: 0.953640229330521,\n Confusion Matrix:\n[[81015   196]\n [   18  7900]]\n\ntrain: [     0      1      2 ... 445642 445643 445644],\n test: [ 89129  89130  89131 ... 178255 178256 178257],\n Loss: 0.004562118415369055,\n Accuracy Score: 0.9991024245756152,\n Confusion Matrix:\n[[88004   247]\n [  441   437]]\n\ntrain: [     0      1      2 ... 445642 445643 445644],\n test: [178258 178259 178260 ... 267384 267385 267386],\n Loss: 0.005080597960802125,\n Accuracy Score: 0.9983507051576928,\n Confusion Matrix:\n[[86850   166]\n [ 1054  1059]]\n\ntrain: [     0      1      2 ... 445642 445643 445644],\n test: [267387 267388 267389 ... 356513 356514 356515],\n Loss: 0.005158298381796013,\n Accuracy Score: 0.9998317046079278,\n Confusion Matrix:\n[[87740    16]\n [  683   690]]\n\ntrain: [     0      1      2 ... 356513 356514 356515],\n test: [356516 356517 356518 ... 445642 445643 445644],\n Loss: 0.004977009058149789,\n Accuracy Score: 0.9994726744381739,\n Confusion Matrix:\n[[87566    13]\n [  771   779]]\n\n"
        }
      ],
      "execution_count": 24,
      "metadata": {
        "jupyter": {
          "source_hidden": false,
          "outputs_hidden": false
        },
        "nteract": {
          "transient": {
            "deleting": false
          }
        }
      }
    },
    {
      "cell_type": "markdown",
      "source": [
        "# Discretized Dataset\r\n",
        "Discretize the same dataset, and run the same models to validate that the predicts can still be acheived using discretized data.\r\n",
        "\r\n",
        "### Bin=5\r\n",
        "\r\n",
        "**SVM accuracy score: 99.8%**\r\n",
        "\r\n",
        "**MLP accuracy score: 98.7%**"
      ],
      "metadata": {
        "nteract": {
          "transient": {
            "deleting": false
          }
        }
      }
    },
    {
      "cell_type": "code",
      "source": [
        "import warnings\r\n",
        "warnings.filterwarnings('ignore')\r\n",
        "from sklearn.preprocessing import KBinsDiscretizer\r\n",
        "\r\n",
        "discrete5 = KBinsDiscretizer(n_bins=5, encode='ordinal', strategy='uniform')\r\n",
        "discrete10 = KBinsDiscretizer(n_bins=10, encode='ordinal', strategy='uniform')\r\n",
        "discrete15 = KBinsDiscretizer(n_bins=15, encode='ordinal', strategy='uniform')\r\n",
        "discrete20 = KBinsDiscretizer(n_bins=20, encode='ordinal', strategy='uniform')\r\n",
        "discrete25 = KBinsDiscretizer(n_bins=25, encode='ordinal', strategy='uniform')\r\n",
        "\r\n",
        "svm_bin_accuracy = {'5bins': 0, '10bins': 0, '15bins': 0, '20bins': 0, '25bins': 0}\r\n",
        "mlp_bin_accuracy = {'5bins': 0, '10bins': 0, '15bins': 0, '20bins': 0, '25bins': 0}"
      ],
      "outputs": [],
      "execution_count": 25,
      "metadata": {
        "jupyter": {
          "source_hidden": false,
          "outputs_hidden": false
        },
        "nteract": {
          "transient": {
            "deleting": false
          }
        }
      }
    },
    {
      "cell_type": "markdown",
      "source": [],
      "metadata": {
        "nteract": {
          "transient": {
            "deleting": false
          }
        }
      }
    },
    {
      "cell_type": "code",
      "source": [
        "# SVM 5 bins\r\n",
        "linear_SVC2 = LinearSVC(random_state=0, tol=1e-5)\r\n",
        "for train, test in kf.split(X):\r\n",
        "    X_train, X_test, y_train, y_test = np.array(X), np.array(X), np.array(y_label), np.array(y_label) \r\n",
        "    Xbin_train = discrete5.fit_transform(X_train)\r\n",
        "    Xbin_test = discrete5.fit_transform(X_test)\r\n",
        "    linear_SVC2.fit(Xbin_train[train], y_train[train])\r\n",
        "    accuracy = linear_SVC2.score(Xbin_test[test], y_test[test])\r\n",
        "    if(svm_bin_accuracy['5bins'] > accuracy):\r\n",
        "        continue\r\n",
        "    else:\r\n",
        "        svm_bin_accuracy['5bins'] = accuracy\r\n",
        "    print(f'train: {train},\\n test: {test},\\n Accuracy Score: {accuracy},\\n Confusion Matrix:\\n{confusion_matrix(y_test[test], linear_SVC.predict(X_test[test]))}\\n')"
      ],
      "outputs": [
        {
          "output_type": "stream",
          "name": "stdout",
          "text": "train: [ 89129  89130  89131 ... 445642 445643 445644],\n test: [    0     1     2 ... 89126 89127 89128],\n Accuracy Score: 0.9111624723715065,\n Confusion Matrix:\n[[81015   196]\n [   18  7900]]\n\ntrain: [     0      1      2 ... 445642 445643 445644],\n test: [ 89129  89130  89131 ... 178255 178256 178257],\n Accuracy Score: 0.987355406208978,\n Confusion Matrix:\n[[88004   247]\n [  441   437]]\n\n"
        }
      ],
      "execution_count": 26,
      "metadata": {
        "jupyter": {
          "source_hidden": false,
          "outputs_hidden": false
        },
        "nteract": {
          "transient": {
            "deleting": false
          }
        }
      }
    },
    {
      "cell_type": "code",
      "source": [
        "svm_bin_accuracy"
      ],
      "outputs": [
        {
          "output_type": "execute_result",
          "execution_count": 27,
          "data": {
            "text/plain": "{'5bins': 0.987355406208978,\n '10bins': 0,\n '15bins': 0,\n '20bins': 0,\n '25bins': 0}"
          },
          "metadata": {}
        }
      ],
      "execution_count": 27,
      "metadata": {
        "jupyter": {
          "source_hidden": false,
          "outputs_hidden": false
        },
        "nteract": {
          "transient": {
            "deleting": false
          }
        }
      }
    },
    {
      "cell_type": "code",
      "source": [
        "# MLP Neural Net 5 bins\r\n",
        "mlp_clf2 = MLPClassifier(random_state=1, max_iter=300)\r\n",
        "for train, test in kf.split(X):\r\n",
        "    X_train, X_test, y_train, y_test = np.array(X), np.array(X), np.array(y_label), np.array(y_label)\r\n",
        "    Xbin_train = discrete5.fit_transform(X_train)\r\n",
        "    Xbin_test = discrete5.fit_transform(X_test) \r\n",
        "    mlp_clf2.fit(Xbin_train[train], y_train[train])\r\n",
        "    accuracy = mlp_clf2.score(Xbin_test[test], y_test[test])\r\n",
        "    loss = mlp_clf2.loss_\r\n",
        "    if(mlp_bin_accuracy['5bins'] > accuracy):\r\n",
        "        continue\r\n",
        "    else:\r\n",
        "        mlp_bin_accuracy['5bins'] = accuracy\r\n",
        "    print(f'train: {train},\\n test: {test},\\n layer size: {mlp_clf2.hidden_layer_sizes},\\n Loss: {loss},\\n Accuracy Score: {accuracy}\\n Confusion Matrix:\\n{confusion_matrix(y_test[test], linear_SVC.predict(X_test[test]))}\\n')"
      ],
      "outputs": [
        {
          "output_type": "stream",
          "name": "stdout",
          "text": "train: [ 89129  89130  89131 ... 445642 445643 445644],\n test: [    0     1     2 ... 89126 89127 89128],\n layer size: (100,),\n Loss: 0.03781517507901091,\n Accuracy Score: 0.9111512526787017\n Confusion Matrix:\n[[81015   196]\n [   18  7900]]\n\ntrain: [     0      1      2 ... 445642 445643 445644],\n test: [ 89129  89130  89131 ... 178255 178256 178257],\n layer size: (100,),\n Loss: 0.0625259257703338,\n Accuracy Score: 0.9880285877772667\n Confusion Matrix:\n[[88004   247]\n [  441   437]]\n\n"
        }
      ],
      "execution_count": 28,
      "metadata": {
        "jupyter": {
          "source_hidden": false,
          "outputs_hidden": false
        },
        "nteract": {
          "transient": {
            "deleting": false
          }
        }
      }
    },
    {
      "cell_type": "code",
      "source": [
        "mlp_bin_accuracy"
      ],
      "outputs": [
        {
          "output_type": "execute_result",
          "execution_count": 30,
          "data": {
            "text/plain": "{'5bins': 0.9880285877772667,\n '10bins': 0,\n '15bins': 0,\n '20bins': 0,\n '25bins': 0}"
          },
          "metadata": {}
        }
      ],
      "execution_count": 30,
      "metadata": {
        "jupyter": {
          "source_hidden": false,
          "outputs_hidden": false
        },
        "nteract": {
          "transient": {
            "deleting": false
          }
        }
      }
    },
    {
      "cell_type": "markdown",
      "source": [
        "### Bins = 10\r\n",
        "\r\n",
        " **SVM Accuracy: 99.87**\r\n",
        "\r\n",
        "**MLP Accuracy: 99.84**"
      ],
      "metadata": {
        "nteract": {
          "transient": {
            "deleting": false
          }
        }
      }
    },
    {
      "cell_type": "code",
      "source": [
        "# SVM 10bins\r\n",
        "linear_SVC2 = LinearSVC(random_state=0, tol=1e-5)\r\n",
        "for train, test in kf.split(X):\r\n",
        "    X_train, X_test, y_train, y_test = np.array(X), np.array(X), np.array(y_label), np.array(y_label) \r\n",
        "    Xbin_train = discrete10.fit_transform(X_train)\r\n",
        "    Xbin_test = discrete10.fit_transform(X_test)\r\n",
        "    linear_SVC2.fit(Xbin_train[train], y_train[train])\r\n",
        "    accuracy = linear_SVC2.score(Xbin_test[test], y_test[test])\r\n",
        "    if(svm_bin_accuracy['10bins'] > accuracy):\r\n",
        "        continue\r\n",
        "    else:\r\n",
        "        svm_bin_accuracy['10bins'] = accuracy\r\n",
        "    print(f'train: {train},\\n test: {test},\\n Accuracy Score: {accuracy},\\n Confusion Matrix:\\n{confusion_matrix(y_test[test], linear_SVC.predict(X_test[test]))}\\n')"
      ],
      "outputs": [
        {
          "output_type": "stream",
          "name": "stdout",
          "text": "train: [ 89129  89130  89131 ... 445642 445643 445644],\n test: [    0     1     2 ... 89126 89127 89128],\n Accuracy Score: 0.9099283061629773,\n Confusion Matrix:\n[[81015   196]\n [   18  7900]]\n\ntrain: [     0      1      2 ... 445642 445643 445644],\n test: [ 89129  89130  89131 ... 178255 178256 178257],\n Accuracy Score: 0.9293271550224955,\n Confusion Matrix:\n[[88004   247]\n [  441   437]]\n\ntrain: [     0      1      2 ... 445642 445643 445644],\n test: [178258 178259 178260 ... 267384 267385 267386],\n Accuracy Score: 0.9793894243175622,\n Confusion Matrix:\n[[86850   166]\n [ 1054  1059]]\n\ntrain: [     0      1      2 ... 356513 356514 356515],\n test: [356516 356517 356518 ... 445642 445643 445644],\n Accuracy Score: 0.9883763982542157,\n Confusion Matrix:\n[[87566    13]\n [  771   779]]\n\n"
        }
      ],
      "execution_count": 31,
      "metadata": {
        "jupyter": {
          "source_hidden": false,
          "outputs_hidden": false
        },
        "nteract": {
          "transient": {
            "deleting": false
          }
        }
      }
    },
    {
      "cell_type": "code",
      "source": [
        "svm_bin_accuracy"
      ],
      "outputs": [
        {
          "output_type": "execute_result",
          "execution_count": 32,
          "data": {
            "text/plain": "{'5bins': 0.987355406208978,\n '10bins': 0.9883763982542157,\n '15bins': 0,\n '20bins': 0,\n '25bins': 0}"
          },
          "metadata": {}
        }
      ],
      "execution_count": 32,
      "metadata": {
        "jupyter": {
          "source_hidden": false,
          "outputs_hidden": false
        },
        "nteract": {
          "transient": {
            "deleting": false
          }
        }
      }
    },
    {
      "cell_type": "code",
      "source": [
        "# MLP Neural Net 10 bins\r\n",
        "mlp_clf2 = MLPClassifier(random_state=1, max_iter=300)\r\n",
        "for train, test in kf.split(X):\r\n",
        "    X_train, X_test, y_train, y_test = np.array(X), np.array(X), np.array(y_label), np.array(y_label)\r\n",
        "    Xbin_train = discrete10.fit_transform(X_train)\r\n",
        "    Xbin_test = discrete10.fit_transform(X_test) \r\n",
        "    mlp_clf2.fit(Xbin_train[train], y_train[train])\r\n",
        "    accuracy = mlp_clf2.score(Xbin_test[test], y_test[test])\r\n",
        "    loss = mlp_clf2.loss_\r\n",
        "    if(mlp_bin_accuracy['10bins'] > accuracy):\r\n",
        "        continue\r\n",
        "    else:\r\n",
        "        mlp_bin_accuracy['10bins'] = accuracy\r\n",
        "    print(f'train: {train},\\n test: {test},\\n layer size: {mlp_clf2.hidden_layer_sizes},\\n Loss: {loss},\\n Accuracy Score: {accuracy}\\n Confusion Matrix:\\n{confusion_matrix(y_test[test], linear_SVC.predict(X_test[test]))}\\n')"
      ],
      "outputs": [
        {
          "output_type": "stream",
          "name": "stdout",
          "text": "train: [ 89129  89130  89131 ... 445642 445643 445644],\n test: [    0     1     2 ... 89126 89127 89128],\n layer size: (100,),\n Loss: 0.026294215407664048,\n Accuracy Score: 0.9106463665024852\n Confusion Matrix:\n[[81015   196]\n [   18  7900]]\n\ntrain: [     0      1      2 ... 445642 445643 445644],\n test: [ 89129  89130  89131 ... 178255 178256 178257],\n layer size: (100,),\n Loss: 0.046676511161511475,\n Accuracy Score: 0.9803543178987759\n Confusion Matrix:\n[[88004   247]\n [  441   437]]\n\ntrain: [     0      1      2 ... 445642 445643 445644],\n test: [267387 267388 267389 ... 356513 356514 356515],\n layer size: (100,),\n Loss: 0.04796487368483356,\n Accuracy Score: 0.9871534517384914\n Confusion Matrix:\n[[87740    16]\n [  683   690]]\n\ntrain: [     0      1      2 ... 356513 356514 356515],\n test: [356516 356517 356518 ... 445642 445643 445644],\n layer size: (100,),\n Loss: 0.04807182364304808,\n Accuracy Score: 0.9877032166859271\n Confusion Matrix:\n[[87566    13]\n [  771   779]]\n\n"
        }
      ],
      "execution_count": 33,
      "metadata": {
        "jupyter": {
          "source_hidden": false,
          "outputs_hidden": false
        },
        "nteract": {
          "transient": {
            "deleting": false
          }
        }
      }
    },
    {
      "cell_type": "code",
      "source": [
        "mlp_bin_accuracy"
      ],
      "outputs": [
        {
          "output_type": "execute_result",
          "execution_count": 34,
          "data": {
            "text/plain": "{'5bins': 0.9880285877772667,\n '10bins': 0.9877032166859271,\n '15bins': 0,\n '20bins': 0,\n '25bins': 0}"
          },
          "metadata": {}
        }
      ],
      "execution_count": 34,
      "metadata": {
        "jupyter": {
          "source_hidden": false,
          "outputs_hidden": false
        },
        "nteract": {
          "transient": {
            "deleting": false
          }
        }
      }
    },
    {
      "cell_type": "markdown",
      "source": [
        "### Bins = 15\r\n",
        "\r\n",
        " **SVM Accuracy: 99.85**\r\n",
        "\r\n",
        "**MLP Accuracy: 99.88**"
      ],
      "metadata": {
        "nteract": {
          "transient": {
            "deleting": false
          }
        }
      }
    },
    {
      "cell_type": "code",
      "source": [
        "# SVM 15 bins\r\n",
        "linear_SVC2 = LinearSVC(random_state=0, tol=1e-5)\r\n",
        "for train, test in kf.split(X):\r\n",
        "    X_train, X_test, y_train, y_test = np.array(X), np.array(X), np.array(y_label), np.array(y_label) \r\n",
        "    Xbin_train = discrete15.fit_transform(X_train)\r\n",
        "    Xbin_test = discrete15.fit_transform(X_test)\r\n",
        "    linear_SVC2.fit(Xbin_train[train], y_train[train])\r\n",
        "    accuracy = linear_SVC2.score(Xbin_test[test], y_test[test])\r\n",
        "    if(svm_bin_accuracy['15bins'] > accuracy):\r\n",
        "        continue\r\n",
        "    else:\r\n",
        "        svm_bin_accuracy['15bins'] = accuracy\r\n",
        "    print(f'train: {train},\\n test: {test},\\n Accuracy Score: {accuracy},\\n Confusion Matrix:\\n{confusion_matrix(y_test[test], linear_SVC.predict(X_test[test]))}\\n')"
      ],
      "outputs": [
        {
          "output_type": "stream",
          "name": "stdout",
          "text": "train: [ 89129  89130  89131 ... 445642 445643 445644],\n test: [    0     1     2 ... 89126 89127 89128],\n Accuracy Score: 0.9048233459367883,\n Confusion Matrix:\n[[81015   196]\n [   18  7900]]\n\ntrain: [     0      1      2 ... 445642 445643 445644],\n test: [ 89129  89130  89131 ... 178255 178256 178257],\n Accuracy Score: 0.9643774753447251,\n Confusion Matrix:\n[[88004   247]\n [  441   437]]\n\ntrain: [     0      1      2 ... 445642 445643 445644],\n test: [178258 178259 178260 ... 267384 267385 267386],\n Accuracy Score: 0.9870524745032481,\n Confusion Matrix:\n[[86850   166]\n [ 1054  1059]]\n\ntrain: [     0      1      2 ... 445642 445643 445644],\n test: [267387 267388 267389 ... 356513 356514 356515],\n Accuracy Score: 0.9922584119646805,\n Confusion Matrix:\n[[87740    16]\n [  683   690]]\n\n"
        }
      ],
      "execution_count": 35,
      "metadata": {
        "jupyter": {
          "source_hidden": false,
          "outputs_hidden": false
        },
        "nteract": {
          "transient": {
            "deleting": false
          }
        }
      }
    },
    {
      "cell_type": "code",
      "source": [
        "svm_bin_accuracy"
      ],
      "outputs": [
        {
          "output_type": "execute_result",
          "execution_count": 36,
          "data": {
            "text/plain": "{'5bins': 0.987355406208978,\n '10bins': 0.9883763982542157,\n '15bins': 0.9922584119646805,\n '20bins': 0,\n '25bins': 0}"
          },
          "metadata": {}
        }
      ],
      "execution_count": 36,
      "metadata": {
        "jupyter": {
          "source_hidden": false,
          "outputs_hidden": false
        },
        "nteract": {
          "transient": {
            "deleting": false
          }
        }
      }
    },
    {
      "cell_type": "code",
      "source": [
        "# MLP Neural Net 15 bins\r\n",
        "mlp_clf2 = MLPClassifier(random_state=1, max_iter=300)\r\n",
        "for train, test in kf.split(X):\r\n",
        "    X_train, X_test, y_train, y_test = np.array(X), np.array(X), np.array(y_label), np.array(y_label)\r\n",
        "    Xbin_train = discrete15.fit_transform(X_train)\r\n",
        "    Xbin_test = discrete15.fit_transform(X_test) \r\n",
        "    mlp_clf2.fit(Xbin_train[train], y_train[train])\r\n",
        "    accuracy = mlp_clf2.score(Xbin_test[test], y_test[test])\r\n",
        "    loss = mlp_clf2.loss_\r\n",
        "    if(mlp_bin_accuracy['15bins'] > accuracy):\r\n",
        "        continue\r\n",
        "    else:\r\n",
        "        mlp_bin_accuracy['15bins'] = accuracy\r\n",
        "    print(f'train: {train},\\n test: {test},\\n layer size: {mlp_clf2.hidden_layer_sizes},\\n Loss: {loss},\\n Accuracy Score: {accuracy}\\n Confusion Matrix:\\n{confusion_matrix(y_test[test], linear_SVC.predict(X_test[test]))}\\n')"
      ],
      "outputs": [
        {
          "output_type": "stream",
          "name": "stdout",
          "text": "train: [ 89129  89130  89131 ... 445642 445643 445644],\n test: [    0     1     2 ... 89126 89127 89128],\n layer size: (100,),\n Loss: 0.018610445114865936,\n Accuracy Score: 0.954470486598077\n Confusion Matrix:\n[[81015   196]\n [   18  7900]]\n\ntrain: [     0      1      2 ... 445642 445643 445644],\n test: [ 89129  89130  89131 ... 178255 178256 178257],\n layer size: (100,),\n Loss: 0.03215104420218969,\n Accuracy Score: 0.9928530556833354\n Confusion Matrix:\n[[88004   247]\n [  441   437]]\n\n"
        }
      ],
      "execution_count": 37,
      "metadata": {
        "jupyter": {
          "source_hidden": false,
          "outputs_hidden": false
        },
        "nteract": {
          "transient": {
            "deleting": false
          }
        }
      }
    },
    {
      "cell_type": "code",
      "source": [
        "mlp_bin_accuracy"
      ],
      "outputs": [
        {
          "output_type": "execute_result",
          "execution_count": 38,
          "data": {
            "text/plain": "{'5bins': 0.9880285877772667,\n '10bins': 0.9877032166859271,\n '15bins': 0.9928530556833354,\n '20bins': 0,\n '25bins': 0}"
          },
          "metadata": {}
        }
      ],
      "execution_count": 38,
      "metadata": {
        "jupyter": {
          "source_hidden": false,
          "outputs_hidden": false
        },
        "nteract": {
          "transient": {
            "deleting": false
          }
        }
      }
    },
    {
      "cell_type": "markdown",
      "source": [
        "### Bins = 20\r\n",
        "\r\n",
        " **SVM Accuracy: 99.87**\r\n",
        "\r\n",
        "**MLP Accuracy: 99.85**"
      ],
      "metadata": {
        "nteract": {
          "transient": {
            "deleting": false
          }
        }
      }
    },
    {
      "cell_type": "code",
      "source": [
        "# SVM 20 bins\r\n",
        "linear_SVC2 = LinearSVC(random_state=0, tol=1e-5)\r\n",
        "for train, test in kf.split(X):\r\n",
        "    X_train, X_test, y_train, y_test = np.array(X), np.array(X), np.array(y_label), np.array(y_label) \r\n",
        "    Xbin_train = discrete20.fit_transform(X_train)\r\n",
        "    Xbin_test = discrete20.fit_transform(X_test)\r\n",
        "    linear_SVC2.fit(Xbin_train[train], y_train[train])\r\n",
        "    accuracy = linear_SVC2.score(Xbin_test[test], y_test[test])\r\n",
        "    if(svm_bin_accuracy['20bins'] > accuracy):\r\n",
        "        continue\r\n",
        "    else:\r\n",
        "        svm_bin_accuracy['20bins'] = accuracy\r\n",
        "    print(f'train: {train},\\n test: {test},\\n Accuracy Score: {accuracy},\\n Confusion Matrix:\\n{confusion_matrix(y_test[test], linear_SVC.predict(X_test[test]))}\\n')"
      ],
      "outputs": [
        {
          "output_type": "stream",
          "name": "stdout",
          "text": "train: [ 89129  89130  89131 ... 445642 445643 445644],\n test: [    0     1     2 ... 89126 89127 89128],\n Accuracy Score: 0.9326481840927195,\n Confusion Matrix:\n[[81015   196]\n [   18  7900]]\n\ntrain: [     0      1      2 ... 445642 445643 445644],\n test: [ 89129  89130  89131 ... 178255 178256 178257],\n Accuracy Score: 0.9895769053843306,\n Confusion Matrix:\n[[88004   247]\n [  441   437]]\n\ntrain: [     0      1      2 ... 356513 356514 356515],\n test: [356516 356517 356518 ... 445642 445643 445644],\n Accuracy Score: 0.9913383971546859,\n Confusion Matrix:\n[[87566    13]\n [  771   779]]\n\n"
        }
      ],
      "execution_count": 39,
      "metadata": {
        "jupyter": {
          "source_hidden": false,
          "outputs_hidden": false
        },
        "nteract": {
          "transient": {
            "deleting": false
          }
        }
      }
    },
    {
      "cell_type": "code",
      "source": [
        "svm_bin_accuracy"
      ],
      "outputs": [
        {
          "output_type": "execute_result",
          "execution_count": 40,
          "data": {
            "text/plain": "{'5bins': 0.987355406208978,\n '10bins': 0.9883763982542157,\n '15bins': 0.9922584119646805,\n '20bins': 0.9913383971546859,\n '25bins': 0}"
          },
          "metadata": {}
        }
      ],
      "execution_count": 40,
      "metadata": {
        "jupyter": {
          "source_hidden": false,
          "outputs_hidden": false
        },
        "nteract": {
          "transient": {
            "deleting": false
          }
        }
      }
    },
    {
      "cell_type": "code",
      "source": [
        "# MLP Neural Net 20 bins\r\n",
        "mlp_clf2 = MLPClassifier(random_state=1, max_iter=300)\r\n",
        "for train, test in kf.split(X):\r\n",
        "    X_train, X_test, y_train, y_test = np.array(X), np.array(X), np.array(y_label), np.array(y_label)\r\n",
        "    Xbin_train = discrete20.fit_transform(X_train)\r\n",
        "    Xbin_test = discrete20.fit_transform(X_test) \r\n",
        "    mlp_clf2.fit(Xbin_train[train], y_train[train])\r\n",
        "    accuracy = mlp_clf2.score(Xbin_test[test], y_test[test])\r\n",
        "    loss = mlp_clf2.loss_\r\n",
        "    if(mlp_bin_accuracy['20bins'] > accuracy):\r\n",
        "        continue\r\n",
        "    else:\r\n",
        "        mlp_bin_accuracy['20bins'] = accuracy\r\n",
        "    print(f'train: {train},\\n test: {test},\\n layer size: {mlp_clf2.hidden_layer_sizes},\\n Loss: {loss},\\n Accuracy Score: {accuracy}\\n Confusion Matrix:\\n{confusion_matrix(y_test[test], linear_SVC.predict(X_test[test]))}\\n')"
      ],
      "outputs": [
        {
          "output_type": "stream",
          "name": "stdout",
          "text": "train: [ 89129  89130  89131 ... 445642 445643 445644],\n test: [    0     1     2 ... 89126 89127 89128],\n layer size: (100,),\n Loss: 0.017660522820740134,\n Accuracy Score: 0.9336803958307621\n Confusion Matrix:\n[[81015   196]\n [   18  7900]]\n\ntrain: [     0      1      2 ... 445642 445643 445644],\n test: [ 89129  89130  89131 ... 178255 178256 178257],\n layer size: (100,),\n Loss: 0.030010786375471186,\n Accuracy Score: 0.9931223283106508\n Confusion Matrix:\n[[88004   247]\n [  441   437]]\n\n"
        }
      ],
      "execution_count": 41,
      "metadata": {
        "jupyter": {
          "source_hidden": false,
          "outputs_hidden": false
        },
        "nteract": {
          "transient": {
            "deleting": false
          }
        }
      }
    },
    {
      "cell_type": "code",
      "source": [
        "mlp_bin_accuracy"
      ],
      "outputs": [
        {
          "output_type": "execute_result",
          "execution_count": 42,
          "data": {
            "text/plain": "{'5bins': 0.9880285877772667,\n '10bins': 0.9877032166859271,\n '15bins': 0.9928530556833354,\n '20bins': 0.9931223283106508,\n '25bins': 0}"
          },
          "metadata": {}
        }
      ],
      "execution_count": 42,
      "metadata": {
        "jupyter": {
          "source_hidden": false,
          "outputs_hidden": false
        },
        "nteract": {
          "transient": {
            "deleting": false
          }
        }
      }
    },
    {
      "cell_type": "markdown",
      "source": [
        "### Bins = 25\r\n",
        "\r\n",
        " **SVM Accuracy: 99.82**\r\n",
        "\r\n",
        "**MLP Accuracy: 99.87**"
      ],
      "metadata": {
        "nteract": {
          "transient": {
            "deleting": false
          }
        }
      }
    },
    {
      "cell_type": "code",
      "source": [
        "# SVM 25 bins\r\n",
        "linear_SVC2 = LinearSVC(random_state=0, tol=1e-5)\r\n",
        "for train, test in kf.split(X):\r\n",
        "    X_train, X_test, y_train, y_test = np.array(X), np.array(X), np.array(y_label), np.array(y_label) \r\n",
        "    Xbin_train = discrete25.fit_transform(X_train)\r\n",
        "    Xbin_test = discrete25.fit_transform(X_test)\r\n",
        "    linear_SVC2.fit(Xbin_train[train], y_train[train])\r\n",
        "    accuracy = linear_SVC2.score(Xbin_test[test], y_test[test])\r\n",
        "    if(svm_bin_accuracy['25bins'] > accuracy):\r\n",
        "        continue\r\n",
        "    else:\r\n",
        "        svm_bin_accuracy['25bins'] = accuracy\r\n",
        "    print(f'train: {train},\\n test: {test},\\n Accuracy Score: {accuracy},\\n Confusion Matrix:\\n{confusion_matrix(y_test[test], linear_SVC.predict(X_test[test]))}\\n')"
      ],
      "outputs": [
        {
          "output_type": "stream",
          "name": "stdout",
          "text": "train: [ 89129  89130  89131 ... 445642 445643 445644],\n test: [    0     1     2 ... 89126 89127 89128],\n Accuracy Score: 0.91599815997038,\n Confusion Matrix:\n[[81015   196]\n [   18  7900]]\n\ntrain: [     0      1      2 ... 445642 445643 445644],\n test: [ 89129  89130  89131 ... 178255 178256 178257],\n Accuracy Score: 0.9773586599198913,\n Confusion Matrix:\n[[88004   247]\n [  441   437]]\n\ntrain: [     0      1      2 ... 445642 445643 445644],\n test: [178258 178259 178260 ... 267384 267385 267386],\n Accuracy Score: 0.9874788228298309,\n Confusion Matrix:\n[[86850   166]\n [ 1054  1059]]\n\ntrain: [     0      1      2 ... 445642 445643 445644],\n test: [267387 267388 267389 ... 356513 356514 356515],\n Accuracy Score: 0.9899134961684749,\n Confusion Matrix:\n[[87740    16]\n [  683   690]]\n\ntrain: [     0      1      2 ... 356513 356514 356515],\n test: [356516 356517 356518 ... 445642 445643 445644],\n Accuracy Score: 0.9912037608410281,\n Confusion Matrix:\n[[87566    13]\n [  771   779]]\n\n"
        }
      ],
      "execution_count": 43,
      "metadata": {
        "jupyter": {
          "source_hidden": false,
          "outputs_hidden": false
        },
        "nteract": {
          "transient": {
            "deleting": false
          }
        }
      }
    },
    {
      "cell_type": "code",
      "source": [
        "svm_bin_accuracy"
      ],
      "outputs": [
        {
          "output_type": "execute_result",
          "execution_count": 44,
          "data": {
            "text/plain": "{'5bins': 0.987355406208978,\n '10bins': 0.9883763982542157,\n '15bins': 0.9922584119646805,\n '20bins': 0.9913383971546859,\n '25bins': 0.9912037608410281}"
          },
          "metadata": {}
        }
      ],
      "execution_count": 44,
      "metadata": {
        "jupyter": {
          "source_hidden": false,
          "outputs_hidden": false
        },
        "nteract": {
          "transient": {
            "deleting": false
          }
        }
      }
    },
    {
      "cell_type": "code",
      "source": [
        "# MLP Neural Net 25 bins\r\n",
        "mlp_clf2 = MLPClassifier(random_state=1, max_iter=300)\r\n",
        "for train, test in kf.split(X):\r\n",
        "    X_train, X_test, y_train, y_test = np.array(X), np.array(X), np.array(y_label), np.array(y_label)\r\n",
        "    Xbin_train = discrete25.fit_transform(X_train)\r\n",
        "    Xbin_test = discrete25.fit_transform(X_test) \r\n",
        "    mlp_clf2.fit(Xbin_train[train], y_train[train])\r\n",
        "    accuracy = mlp_clf2.score(Xbin_test[test], y_test[test])\r\n",
        "    loss = mlp_clf2.loss_\r\n",
        "    if(mlp_bin_accuracy['25bins'] > accuracy):\r\n",
        "        continue\r\n",
        "    else:\r\n",
        "        mlp_bin_accuracy['25bins'] = accuracy\r\n",
        "    print(f'train: {train},\\n test: {test},\\n layer size: {mlp_clf2.hidden_layer_sizes},\\n Loss: {loss},\\n Accuracy Score: {accuracy}\\n Confusion Matrix:\\n{confusion_matrix(y_test[test], linear_SVC.predict(X_test[test]))}\\n')"
      ],
      "outputs": [
        {
          "output_type": "stream",
          "name": "stdout",
          "text": "train: [ 89129  89130  89131 ... 445642 445643 445644],\n test: [    0     1     2 ... 89126 89127 89128],\n layer size: (100,),\n Loss: 0.017411637866833776,\n Accuracy Score: 0.9179055077471979\n Confusion Matrix:\n[[81015   196]\n [   18  7900]]\n\ntrain: [     0      1      2 ... 445642 445643 445644],\n test: [ 89129  89130  89131 ... 178255 178256 178257],\n layer size: (100,),\n Loss: 0.027640453718629658,\n Accuracy Score: 0.9824748398388852\n Confusion Matrix:\n[[88004   247]\n [  441   437]]\n\ntrain: [     0      1      2 ... 445642 445643 445644],\n test: [267387 267388 267389 ... 356513 356514 356515],\n layer size: (100,),\n Loss: 0.027664256212703506,\n Accuracy Score: 0.9922023135006564\n Confusion Matrix:\n[[87740    16]\n [  683   690]]\n\n"
        }
      ],
      "execution_count": 45,
      "metadata": {
        "jupyter": {
          "source_hidden": false,
          "outputs_hidden": false
        },
        "nteract": {
          "transient": {
            "deleting": false
          }
        }
      }
    },
    {
      "cell_type": "code",
      "source": [
        "mlp_bin_accuracy"
      ],
      "outputs": [
        {
          "output_type": "execute_result",
          "execution_count": 46,
          "data": {
            "text/plain": "{'5bins': 0.9880285877772667,\n '10bins': 0.9877032166859271,\n '15bins': 0.9928530556833354,\n '20bins': 0.9931223283106508,\n '25bins': 0.9922023135006564}"
          },
          "metadata": {}
        }
      ],
      "execution_count": 46,
      "metadata": {
        "jupyter": {
          "source_hidden": false,
          "outputs_hidden": false
        },
        "nteract": {
          "transient": {
            "deleting": false
          }
        }
      }
    }
  ],
  "metadata": {
    "kernelspec": {
      "name": "python38-azureml",
      "language": "python",
      "display_name": "Python 3.8 - AzureML"
    },
    "language_info": {
      "name": "python",
      "version": "3.8.5",
      "mimetype": "text/x-python",
      "codemirror_mode": {
        "name": "ipython",
        "version": 3
      },
      "pygments_lexer": "ipython3",
      "nbconvert_exporter": "python",
      "file_extension": ".py"
    },
    "kernel_info": {
      "name": "python38-azureml"
    },
    "nteract": {
      "version": "nteract-front-end@1.0.0"
    },
    "microsoft": {
      "ms_spell_check": {
        "ms_spell_check_language": "en"
      }
    }
  },
  "nbformat": 4,
  "nbformat_minor": 0
}